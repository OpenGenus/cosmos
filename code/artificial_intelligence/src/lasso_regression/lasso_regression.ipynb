{
  "nbformat": 4,
  "nbformat_minor": 0,
  "metadata": {
    "colab": {
      "name": "lasso_regression.ipynb",
      "provenance": []
    },
    "kernelspec": {
      "name": "python3",
      "display_name": "Python 3"
    }
  },
  "cells": [
    {
      "cell_type": "code",
      "metadata": {
        "id": "-BknsqHEEqsI",
        "colab_type": "code",
        "colab": {}
      },
      "source": [
        "import pandas as pd\n",
        "import numpy\n",
        "import matplotlib.pyplot as plt\n",
        "import seaborn as sns\n",
        "sns.set()"
      ],
      "execution_count": 0,
      "outputs": []
    },
    {
      "cell_type": "code",
      "metadata": {
        "id": "83xnU_AyFGT9",
        "colab_type": "code",
        "colab": {
          "base_uri": "https://localhost:8080/",
          "height": 212
        },
        "outputId": "1501ef32-7099-4f1b-b853-e829c9c0c701"
      },
      "source": [
        "from pandas_datareader import data as pdr\n",
        "import yfinance as yf\n",
        "import datetime\n",
        "start = datetime.datetime(2012,1,1)\n",
        "end= datetime.datetime(2018,8,30)\n",
        "yf.pdr_override()\n",
        "df_full = yf.download(\"jpm\",start = start,end=end).reset_index()\n",
        "df_full.to_csv('jpm.csv',index=False)\n",
        "df_full.head()"
      ],
      "execution_count": 5,
      "outputs": [
        {
          "output_type": "stream",
          "text": [
            "\r[*********************100%***********************]  1 of 1 completed\n"
          ],
          "name": "stdout"
        },
        {
          "output_type": "execute_result",
          "data": {
            "text/html": [
              "<div>\n",
              "<style scoped>\n",
              "    .dataframe tbody tr th:only-of-type {\n",
              "        vertical-align: middle;\n",
              "    }\n",
              "\n",
              "    .dataframe tbody tr th {\n",
              "        vertical-align: top;\n",
              "    }\n",
              "\n",
              "    .dataframe thead th {\n",
              "        text-align: right;\n",
              "    }\n",
              "</style>\n",
              "<table border=\"1\" class=\"dataframe\">\n",
              "  <thead>\n",
              "    <tr style=\"text-align: right;\">\n",
              "      <th></th>\n",
              "      <th>Date</th>\n",
              "      <th>Open</th>\n",
              "      <th>High</th>\n",
              "      <th>Low</th>\n",
              "      <th>Close</th>\n",
              "      <th>Adj Close</th>\n",
              "      <th>Volume</th>\n",
              "    </tr>\n",
              "  </thead>\n",
              "  <tbody>\n",
              "    <tr>\n",
              "      <th>0</th>\n",
              "      <td>2012-01-03</td>\n",
              "      <td>34.060001</td>\n",
              "      <td>35.189999</td>\n",
              "      <td>34.009998</td>\n",
              "      <td>34.980000</td>\n",
              "      <td>27.864342</td>\n",
              "      <td>44102800</td>\n",
              "    </tr>\n",
              "    <tr>\n",
              "      <th>1</th>\n",
              "      <td>2012-01-04</td>\n",
              "      <td>34.439999</td>\n",
              "      <td>35.150002</td>\n",
              "      <td>34.330002</td>\n",
              "      <td>34.950001</td>\n",
              "      <td>28.040850</td>\n",
              "      <td>36571200</td>\n",
              "    </tr>\n",
              "    <tr>\n",
              "      <th>2</th>\n",
              "      <td>2012-01-05</td>\n",
              "      <td>34.709999</td>\n",
              "      <td>35.919998</td>\n",
              "      <td>34.400002</td>\n",
              "      <td>35.680000</td>\n",
              "      <td>28.626539</td>\n",
              "      <td>38381400</td>\n",
              "    </tr>\n",
              "    <tr>\n",
              "      <th>3</th>\n",
              "      <td>2012-01-06</td>\n",
              "      <td>35.689999</td>\n",
              "      <td>35.770000</td>\n",
              "      <td>35.139999</td>\n",
              "      <td>35.360001</td>\n",
              "      <td>28.369787</td>\n",
              "      <td>33160600</td>\n",
              "    </tr>\n",
              "    <tr>\n",
              "      <th>4</th>\n",
              "      <td>2012-01-09</td>\n",
              "      <td>35.439999</td>\n",
              "      <td>35.680000</td>\n",
              "      <td>34.990002</td>\n",
              "      <td>35.299999</td>\n",
              "      <td>28.321667</td>\n",
              "      <td>23001800</td>\n",
              "    </tr>\n",
              "  </tbody>\n",
              "</table>\n",
              "</div>"
            ],
            "text/plain": [
              "        Date       Open       High        Low      Close  Adj Close    Volume\n",
              "0 2012-01-03  34.060001  35.189999  34.009998  34.980000  27.864342  44102800\n",
              "1 2012-01-04  34.439999  35.150002  34.330002  34.950001  28.040850  36571200\n",
              "2 2012-01-05  34.709999  35.919998  34.400002  35.680000  28.626539  38381400\n",
              "3 2012-01-06  35.689999  35.770000  35.139999  35.360001  28.369787  33160600\n",
              "4 2012-01-09  35.439999  35.680000  34.990002  35.299999  28.321667  23001800"
            ]
          },
          "metadata": {
            "tags": []
          },
          "execution_count": 5
        }
      ]
    },
    {
      "cell_type": "code",
      "metadata": {
        "id": "SE2zgaEFFOUV",
        "colab_type": "code",
        "colab": {
          "base_uri": "https://localhost:8080/",
          "height": 402
        },
        "outputId": "92b4b3cc-45c8-4eef-ce8a-5bba35e0b87d"
      },
      "source": [
        "import pandas as pd\n",
        "df = pd.read_csv('jpm.csv')\n",
        "df"
      ],
      "execution_count": 6,
      "outputs": [
        {
          "output_type": "execute_result",
          "data": {
            "text/html": [
              "<div>\n",
              "<style scoped>\n",
              "    .dataframe tbody tr th:only-of-type {\n",
              "        vertical-align: middle;\n",
              "    }\n",
              "\n",
              "    .dataframe tbody tr th {\n",
              "        vertical-align: top;\n",
              "    }\n",
              "\n",
              "    .dataframe thead th {\n",
              "        text-align: right;\n",
              "    }\n",
              "</style>\n",
              "<table border=\"1\" class=\"dataframe\">\n",
              "  <thead>\n",
              "    <tr style=\"text-align: right;\">\n",
              "      <th></th>\n",
              "      <th>Date</th>\n",
              "      <th>Open</th>\n",
              "      <th>High</th>\n",
              "      <th>Low</th>\n",
              "      <th>Close</th>\n",
              "      <th>Adj Close</th>\n",
              "      <th>Volume</th>\n",
              "    </tr>\n",
              "  </thead>\n",
              "  <tbody>\n",
              "    <tr>\n",
              "      <th>0</th>\n",
              "      <td>2012-01-03</td>\n",
              "      <td>34.060001</td>\n",
              "      <td>35.189999</td>\n",
              "      <td>34.009998</td>\n",
              "      <td>34.980000</td>\n",
              "      <td>27.864342</td>\n",
              "      <td>44102800</td>\n",
              "    </tr>\n",
              "    <tr>\n",
              "      <th>1</th>\n",
              "      <td>2012-01-04</td>\n",
              "      <td>34.439999</td>\n",
              "      <td>35.150002</td>\n",
              "      <td>34.330002</td>\n",
              "      <td>34.950001</td>\n",
              "      <td>28.040850</td>\n",
              "      <td>36571200</td>\n",
              "    </tr>\n",
              "    <tr>\n",
              "      <th>2</th>\n",
              "      <td>2012-01-05</td>\n",
              "      <td>34.709999</td>\n",
              "      <td>35.919998</td>\n",
              "      <td>34.400002</td>\n",
              "      <td>35.680000</td>\n",
              "      <td>28.626539</td>\n",
              "      <td>38381400</td>\n",
              "    </tr>\n",
              "    <tr>\n",
              "      <th>3</th>\n",
              "      <td>2012-01-06</td>\n",
              "      <td>35.689999</td>\n",
              "      <td>35.770000</td>\n",
              "      <td>35.139999</td>\n",
              "      <td>35.360001</td>\n",
              "      <td>28.369787</td>\n",
              "      <td>33160600</td>\n",
              "    </tr>\n",
              "    <tr>\n",
              "      <th>4</th>\n",
              "      <td>2012-01-09</td>\n",
              "      <td>35.439999</td>\n",
              "      <td>35.680000</td>\n",
              "      <td>34.990002</td>\n",
              "      <td>35.299999</td>\n",
              "      <td>28.321667</td>\n",
              "      <td>23001800</td>\n",
              "    </tr>\n",
              "    <tr>\n",
              "      <th>...</th>\n",
              "      <td>...</td>\n",
              "      <td>...</td>\n",
              "      <td>...</td>\n",
              "      <td>...</td>\n",
              "      <td>...</td>\n",
              "      <td>...</td>\n",
              "      <td>...</td>\n",
              "    </tr>\n",
              "    <tr>\n",
              "      <th>1671</th>\n",
              "      <td>2018-08-23</td>\n",
              "      <td>114.959999</td>\n",
              "      <td>115.150002</td>\n",
              "      <td>114.430000</td>\n",
              "      <td>114.730003</td>\n",
              "      <td>109.777924</td>\n",
              "      <td>9265400</td>\n",
              "    </tr>\n",
              "    <tr>\n",
              "      <th>1672</th>\n",
              "      <td>2018-08-24</td>\n",
              "      <td>114.980003</td>\n",
              "      <td>115.220001</td>\n",
              "      <td>114.449997</td>\n",
              "      <td>114.680000</td>\n",
              "      <td>109.730087</td>\n",
              "      <td>8845700</td>\n",
              "    </tr>\n",
              "    <tr>\n",
              "      <th>1673</th>\n",
              "      <td>2018-08-27</td>\n",
              "      <td>115.220001</td>\n",
              "      <td>117.279999</td>\n",
              "      <td>115.169998</td>\n",
              "      <td>116.709999</td>\n",
              "      <td>111.672455</td>\n",
              "      <td>13768000</td>\n",
              "    </tr>\n",
              "    <tr>\n",
              "      <th>1674</th>\n",
              "      <td>2018-08-28</td>\n",
              "      <td>117.000000</td>\n",
              "      <td>117.029999</td>\n",
              "      <td>115.970001</td>\n",
              "      <td>116.139999</td>\n",
              "      <td>111.127060</td>\n",
              "      <td>8302600</td>\n",
              "    </tr>\n",
              "    <tr>\n",
              "      <th>1675</th>\n",
              "      <td>2018-08-29</td>\n",
              "      <td>116.349998</td>\n",
              "      <td>116.370003</td>\n",
              "      <td>115.360001</td>\n",
              "      <td>115.760002</td>\n",
              "      <td>110.763466</td>\n",
              "      <td>7221700</td>\n",
              "    </tr>\n",
              "  </tbody>\n",
              "</table>\n",
              "<p>1676 rows × 7 columns</p>\n",
              "</div>"
            ],
            "text/plain": [
              "            Date        Open        High  ...       Close   Adj Close    Volume\n",
              "0     2012-01-03   34.060001   35.189999  ...   34.980000   27.864342  44102800\n",
              "1     2012-01-04   34.439999   35.150002  ...   34.950001   28.040850  36571200\n",
              "2     2012-01-05   34.709999   35.919998  ...   35.680000   28.626539  38381400\n",
              "3     2012-01-06   35.689999   35.770000  ...   35.360001   28.369787  33160600\n",
              "4     2012-01-09   35.439999   35.680000  ...   35.299999   28.321667  23001800\n",
              "...          ...         ...         ...  ...         ...         ...       ...\n",
              "1671  2018-08-23  114.959999  115.150002  ...  114.730003  109.777924   9265400\n",
              "1672  2018-08-24  114.980003  115.220001  ...  114.680000  109.730087   8845700\n",
              "1673  2018-08-27  115.220001  117.279999  ...  116.709999  111.672455  13768000\n",
              "1674  2018-08-28  117.000000  117.029999  ...  116.139999  111.127060   8302600\n",
              "1675  2018-08-29  116.349998  116.370003  ...  115.760002  110.763466   7221700\n",
              "\n",
              "[1676 rows x 7 columns]"
            ]
          },
          "metadata": {
            "tags": []
          },
          "execution_count": 6
        }
      ]
    },
    {
      "cell_type": "code",
      "metadata": {
        "id": "RoA46lkJFRRH",
        "colab_type": "code",
        "colab": {
          "base_uri": "https://localhost:8080/",
          "height": 218
        },
        "outputId": "aeb7fe9b-a0cd-4f57-fb67-d5fc3659d6b1"
      },
      "source": [
        "close_px = df['Adj Close']\n",
        "mavg = close_px.rolling(window=100).mean()\n",
        "mavg"
      ],
      "execution_count": 7,
      "outputs": [
        {
          "output_type": "execute_result",
          "data": {
            "text/plain": [
              "0              NaN\n",
              "1              NaN\n",
              "2              NaN\n",
              "3              NaN\n",
              "4              NaN\n",
              "           ...    \n",
              "1671    105.630344\n",
              "1672    105.676721\n",
              "1673    105.728722\n",
              "1674    105.801820\n",
              "1675    105.858816\n",
              "Name: Adj Close, Length: 1676, dtype: float64"
            ]
          },
          "metadata": {
            "tags": []
          },
          "execution_count": 7
        }
      ]
    },
    {
      "cell_type": "code",
      "metadata": {
        "id": "vk-AL5u4FU3r",
        "colab_type": "code",
        "colab": {
          "base_uri": "https://localhost:8080/",
          "height": 448
        },
        "outputId": "7bf22cdc-6f47-4b94-beeb-963d9ee9f486"
      },
      "source": [
        "%matplotlib inline\n",
        "import matplotlib.pyplot as plt\n",
        "from matplotlib import style\n",
        "\n",
        "# Adjusting the size of matplotlib\n",
        "import matplotlib as mpl\n",
        "mpl.rc('figure', figsize=(8, 7))\n",
        "mpl.__version__\n",
        "\n",
        "# Adjusting the style of matplotlib\n",
        "style.use('ggplot')\n",
        "\n",
        "close_px.plot(label='AAPL')\n",
        "mavg.plot(label='mavg')\n",
        "plt.legend()"
      ],
      "execution_count": 8,
      "outputs": [
        {
          "output_type": "execute_result",
          "data": {
            "text/plain": [
              "<matplotlib.legend.Legend at 0x7fbc55745748>"
            ]
          },
          "metadata": {
            "tags": []
          },
          "execution_count": 8
        },
        {
          "output_type": "display_data",
          "data": {
            "image/png": "[encoded data removed]",
            "text/plain": [
              "<Figure size 576x504 with 1 Axes>"
            ]
          },
          "metadata": {
            "tags": []
          }
        }
      ]
    },
    {
      "cell_type": "code",
      "metadata": {
        "id": "ZDCC88yEFYYM",
        "colab_type": "code",
        "colab": {
          "base_uri": "https://localhost:8080/",
          "height": 448
        },
        "outputId": "cafcf6ad-67e9-4b7d-bae6-7008acbf50e8"
      },
      "source": [
        "dfcomp = yf.download(['jpm','AAPL', 'GE', 'GOOG', 'IBM', 'MSFT'],start = start,end=end)['Adj Close']\n",
        "dfcomp"
      ],
      "execution_count": 9,
      "outputs": [
        {
          "output_type": "stream",
          "text": [
            "[*********************100%***********************]  6 of 6 completed\n"
          ],
          "name": "stdout"
        },
        {
          "output_type": "execute_result",
          "data": {
            "text/html": [
              "<div>\n",
              "<style scoped>\n",
              "    .dataframe tbody tr th:only-of-type {\n",
              "        vertical-align: middle;\n",
              "    }\n",
              "\n",
              "    .dataframe tbody tr th {\n",
              "        vertical-align: top;\n",
              "    }\n",
              "\n",
              "    .dataframe thead th {\n",
              "        text-align: right;\n",
              "    }\n",
              "</style>\n",
              "<table border=\"1\" class=\"dataframe\">\n",
              "  <thead>\n",
              "    <tr style=\"text-align: right;\">\n",
              "      <th></th>\n",
              "      <th>AAPL</th>\n",
              "      <th>GE</th>\n",
              "      <th>GOOG</th>\n",
              "      <th>IBM</th>\n",
              "      <th>JPM</th>\n",
              "      <th>MSFT</th>\n",
              "    </tr>\n",
              "    <tr>\n",
              "      <th>Date</th>\n",
              "      <th></th>\n",
              "      <th></th>\n",
              "      <th></th>\n",
              "      <th></th>\n",
              "      <th></th>\n",
              "      <th></th>\n",
              "    </tr>\n",
              "  </thead>\n",
              "  <tbody>\n",
              "    <tr>\n",
              "      <th>2012-01-03</th>\n",
              "      <td>50.994907</td>\n",
              "      <td>13.639091</td>\n",
              "      <td>331.462585</td>\n",
              "      <td>139.934006</td>\n",
              "      <td>27.864342</td>\n",
              "      <td>22.020796</td>\n",
              "    </tr>\n",
              "    <tr>\n",
              "      <th>2012-01-04</th>\n",
              "      <td>51.268970</td>\n",
              "      <td>13.787668</td>\n",
              "      <td>332.892242</td>\n",
              "      <td>139.363144</td>\n",
              "      <td>28.040850</td>\n",
              "      <td>22.539021</td>\n",
              "    </tr>\n",
              "    <tr>\n",
              "      <th>2012-01-05</th>\n",
              "      <td>51.838169</td>\n",
              "      <td>13.780239</td>\n",
              "      <td>328.274536</td>\n",
              "      <td>138.702209</td>\n",
              "      <td>28.626539</td>\n",
              "      <td>22.769344</td>\n",
              "    </tr>\n",
              "    <tr>\n",
              "      <th>2012-01-06</th>\n",
              "      <td>52.380054</td>\n",
              "      <td>13.854527</td>\n",
              "      <td>323.796326</td>\n",
              "      <td>137.109772</td>\n",
              "      <td>28.369787</td>\n",
              "      <td>23.123066</td>\n",
              "    </tr>\n",
              "    <tr>\n",
              "      <th>2012-01-09</th>\n",
              "      <td>52.296970</td>\n",
              "      <td>14.010525</td>\n",
              "      <td>310.067780</td>\n",
              "      <td>136.396225</td>\n",
              "      <td>28.321667</td>\n",
              "      <td>22.818701</td>\n",
              "    </tr>\n",
              "    <tr>\n",
              "      <th>...</th>\n",
              "      <td>...</td>\n",
              "      <td>...</td>\n",
              "      <td>...</td>\n",
              "      <td>...</td>\n",
              "      <td>...</td>\n",
              "      <td>...</td>\n",
              "    </tr>\n",
              "    <tr>\n",
              "      <th>2018-08-23</th>\n",
              "      <td>211.061111</td>\n",
              "      <td>11.874558</td>\n",
              "      <td>1205.380005</td>\n",
              "      <td>135.556732</td>\n",
              "      <td>109.777924</td>\n",
              "      <td>105.249374</td>\n",
              "    </tr>\n",
              "    <tr>\n",
              "      <th>2018-08-24</th>\n",
              "      <td>211.717331</td>\n",
              "      <td>11.836680</td>\n",
              "      <td>1220.650024</td>\n",
              "      <td>136.181503</td>\n",
              "      <td>109.730087</td>\n",
              "      <td>106.071335</td>\n",
              "    </tr>\n",
              "    <tr>\n",
              "      <th>2018-08-27</th>\n",
              "      <td>213.460739</td>\n",
              "      <td>12.092353</td>\n",
              "      <td>1241.819946</td>\n",
              "      <td>136.787628</td>\n",
              "      <td>111.672455</td>\n",
              "      <td>107.245552</td>\n",
              "    </tr>\n",
              "    <tr>\n",
              "      <th>2018-08-28</th>\n",
              "      <td>215.184570</td>\n",
              "      <td>12.082885</td>\n",
              "      <td>1231.150024</td>\n",
              "      <td>136.694382</td>\n",
              "      <td>111.127060</td>\n",
              "      <td>107.891388</td>\n",
              "    </tr>\n",
              "    <tr>\n",
              "      <th>2018-08-29</th>\n",
              "      <td>218.397171</td>\n",
              "      <td>12.281741</td>\n",
              "      <td>1249.300049</td>\n",
              "      <td>137.580231</td>\n",
              "      <td>110.763466</td>\n",
              "      <td>109.613571</td>\n",
              "    </tr>\n",
              "  </tbody>\n",
              "</table>\n",
              "<p>1676 rows × 6 columns</p>\n",
              "</div>"
            ],
            "text/plain": [
              "                  AAPL         GE  ...         JPM        MSFT\n",
              "Date                               ...                        \n",
              "2012-01-03   50.994907  13.639091  ...   27.864342   22.020796\n",
              "2012-01-04   51.268970  13.787668  ...   28.040850   22.539021\n",
              "2012-01-05   51.838169  13.780239  ...   28.626539   22.769344\n",
              "2012-01-06   52.380054  13.854527  ...   28.369787   23.123066\n",
              "2012-01-09   52.296970  14.010525  ...   28.321667   22.818701\n",
              "...                ...        ...  ...         ...         ...\n",
              "2018-08-23  211.061111  11.874558  ...  109.777924  105.249374\n",
              "2018-08-24  211.717331  11.836680  ...  109.730087  106.071335\n",
              "2018-08-27  213.460739  12.092353  ...  111.672455  107.245552\n",
              "2018-08-28  215.184570  12.082885  ...  111.127060  107.891388\n",
              "2018-08-29  218.397171  12.281741  ...  110.763466  109.613571\n",
              "\n",
              "[1676 rows x 6 columns]"
            ]
          },
          "metadata": {
            "tags": []
          },
          "execution_count": 9
        }
      ]
    },
    {
      "cell_type": "code",
      "metadata": {
        "id": "2A201lhUFc_3",
        "colab_type": "code",
        "colab": {
          "base_uri": "https://localhost:8080/",
          "height": 225
        },
        "outputId": "4cb7bc13-c5a9-4d51-b050-200148706a16"
      },
      "source": [
        "retscomp = dfcomp.pct_change()\n",
        "\n",
        "corr = retscomp.corr()\n",
        "corr"
      ],
      "execution_count": 10,
      "outputs": [
        {
          "output_type": "execute_result",
          "data": {
            "text/html": [
              "<div>\n",
              "<style scoped>\n",
              "    .dataframe tbody tr th:only-of-type {\n",
              "        vertical-align: middle;\n",
              "    }\n",
              "\n",
              "    .dataframe tbody tr th {\n",
              "        vertical-align: top;\n",
              "    }\n",
              "\n",
              "    .dataframe thead th {\n",
              "        text-align: right;\n",
              "    }\n",
              "</style>\n",
              "<table border=\"1\" class=\"dataframe\">\n",
              "  <thead>\n",
              "    <tr style=\"text-align: right;\">\n",
              "      <th></th>\n",
              "      <th>AAPL</th>\n",
              "      <th>GE</th>\n",
              "      <th>GOOG</th>\n",
              "      <th>IBM</th>\n",
              "      <th>JPM</th>\n",
              "      <th>MSFT</th>\n",
              "    </tr>\n",
              "  </thead>\n",
              "  <tbody>\n",
              "    <tr>\n",
              "      <th>AAPL</th>\n",
              "      <td>1.000000</td>\n",
              "      <td>0.231933</td>\n",
              "      <td>0.358248</td>\n",
              "      <td>0.284489</td>\n",
              "      <td>0.302823</td>\n",
              "      <td>0.361851</td>\n",
              "    </tr>\n",
              "    <tr>\n",
              "      <th>GE</th>\n",
              "      <td>0.231933</td>\n",
              "      <td>1.000000</td>\n",
              "      <td>0.311084</td>\n",
              "      <td>0.413162</td>\n",
              "      <td>0.469752</td>\n",
              "      <td>0.313180</td>\n",
              "    </tr>\n",
              "    <tr>\n",
              "      <th>GOOG</th>\n",
              "      <td>0.358248</td>\n",
              "      <td>0.311084</td>\n",
              "      <td>1.000000</td>\n",
              "      <td>0.338729</td>\n",
              "      <td>0.365240</td>\n",
              "      <td>0.486786</td>\n",
              "    </tr>\n",
              "    <tr>\n",
              "      <th>IBM</th>\n",
              "      <td>0.284489</td>\n",
              "      <td>0.413162</td>\n",
              "      <td>0.338729</td>\n",
              "      <td>1.000000</td>\n",
              "      <td>0.428698</td>\n",
              "      <td>0.408897</td>\n",
              "    </tr>\n",
              "    <tr>\n",
              "      <th>JPM</th>\n",
              "      <td>0.302823</td>\n",
              "      <td>0.469752</td>\n",
              "      <td>0.365240</td>\n",
              "      <td>0.428698</td>\n",
              "      <td>1.000000</td>\n",
              "      <td>0.423728</td>\n",
              "    </tr>\n",
              "    <tr>\n",
              "      <th>MSFT</th>\n",
              "      <td>0.361851</td>\n",
              "      <td>0.313180</td>\n",
              "      <td>0.486786</td>\n",
              "      <td>0.408897</td>\n",
              "      <td>0.423728</td>\n",
              "      <td>1.000000</td>\n",
              "    </tr>\n",
              "  </tbody>\n",
              "</table>\n",
              "</div>"
            ],
            "text/plain": [
              "          AAPL        GE      GOOG       IBM       JPM      MSFT\n",
              "AAPL  1.000000  0.231933  0.358248  0.284489  0.302823  0.361851\n",
              "GE    0.231933  1.000000  0.311084  0.413162  0.469752  0.313180\n",
              "GOOG  0.358248  0.311084  1.000000  0.338729  0.365240  0.486786\n",
              "IBM   0.284489  0.413162  0.338729  1.000000  0.428698  0.408897\n",
              "JPM   0.302823  0.469752  0.365240  0.428698  1.000000  0.423728\n",
              "MSFT  0.361851  0.313180  0.486786  0.408897  0.423728  1.000000"
            ]
          },
          "metadata": {
            "tags": []
          },
          "execution_count": 10
        }
      ]
    },
    {
      "cell_type": "code",
      "metadata": {
        "id": "emt_IgD8Fges",
        "colab_type": "code",
        "colab": {}
      },
      "source": [
        "import math\n",
        "import numpy as np\n",
        "from sklearn import preprocessing\n",
        "dfreg = df.loc[:,['Adj Close','Volume']]\n",
        "dfreg['HL_PCT'] = (df['High']-df['Low']) / df['Close'] * 100.0\n",
        "dfreg['PCT_change'] = (df['Close']-df['Open']) / df['Open'] * 100.0\n",
        "dfreg.fillna(value=-99999, inplace=True)\n",
        "forecast_out = int(math.ceil(0.01 * len(dfreg)))\n",
        "forecast_col = 'Adj Close'\n",
        "dfreg['label'] = dfreg[forecast_col].shift(-forecast_out)\n",
        "X = np.array(dfreg.drop(['label'], 1))\n",
        "X = preprocessing.scale(X)\n",
        "X_lately = X[-forecast_out:]\n",
        "X = X[:-forecast_out]\n",
        "y = np.array(dfreg['label'])\n",
        "y = y[:-forecast_out]"
      ],
      "execution_count": 0,
      "outputs": []
    },
    {
      "cell_type": "code",
      "metadata": {
        "id": "-WeqmxZMFpnr",
        "colab_type": "code",
        "colab": {}
      },
      "source": [
        "from sklearn.model_selection import train_test_split\n",
        "from sklearn.linear_model import Lasso\n",
        "X_train, X_test, y_train, y_test = train_test_split(X, y, test_size=0.33, random_state=42)"
      ],
      "execution_count": 0,
      "outputs": []
    },
    {
      "cell_type": "code",
      "metadata": {
        "id": "3lUYeEpQF3Eb",
        "colab_type": "code",
        "colab": {}
      },
      "source": [
        "clflasso = Lasso()\n",
        "clflasso.fit(X_train, y_train)\n",
        "confidencelasso = clflasso.score(X_test,y_test)"
      ],
      "execution_count": 0,
      "outputs": []
    },
    {
      "cell_type": "code",
      "metadata": {
        "id": "dlSop_ESF61C",
        "colab_type": "code",
        "colab": {
          "base_uri": "https://localhost:8080/",
          "height": 34
        },
        "outputId": "d4fcadeb-8b01-4c8e-f841-2c7f56898d6b"
      },
      "source": [
        "print(\"The Accuracy of our Model is %r\" %confidencelasso)"
      ],
      "execution_count": 16,
      "outputs": [
        {
          "output_type": "stream",
          "text": [
            "The Accuracy of our Model is 0.9806857462238061\n"
          ],
          "name": "stdout"
        }
      ]
    },
    {
      "cell_type": "code",
      "metadata": {
        "id": "WQEzaQ8NGH71",
        "colab_type": "code",
        "colab": {
          "base_uri": "https://localhost:8080/",
          "height": 101
        },
        "outputId": "5db69305-95ff-4dfa-e1d5-4e0b5d023aee"
      },
      "source": [
        "forecast_set =clflasso.predict(X_lately)\n",
        "dfreg['Forecast'] = np.nan\n",
        "forecast_set"
      ],
      "execution_count": 18,
      "outputs": [
        {
          "output_type": "execute_result",
          "data": {
            "text/plain": [
              "array([111.34130043, 111.5623028 , 110.72433671, 109.66539761,\n",
              "       107.97107304, 108.67090898, 107.79611405, 108.78140282,\n",
              "       108.78140282, 108.64327267, 109.28785802, 108.96556167,\n",
              "       108.74456664, 108.6985306 , 110.56779948, 110.04292987,\n",
              "       109.69301924])"
            ]
          },
          "metadata": {
            "tags": []
          },
          "execution_count": 18
        }
      ]
    },
    {
      "cell_type": "code",
      "metadata": {
        "id": "ToRQqQbgGMRX",
        "colab_type": "code",
        "colab": {
          "base_uri": "https://localhost:8080/",
          "height": 448
        },
        "outputId": "fa4b99e6-83da-45ed-8867-4dff5cd6afbc"
      },
      "source": [
        "next_unix =  datetime.datetime.now() + datetime.timedelta(days=1)\n",
        "\n",
        "for i in forecast_set:\n",
        "    next_date = next_unix\n",
        "    next_unix += datetime.timedelta(days=1)\n",
        "    dfreg.loc[next_date] = [np.nan for _ in range(len(dfreg.columns)-1)]+[i]\n",
        "dfreg['Adj Close'].tail(500).plot()\n",
        "dfreg['Forecast'].tail(500).plot()\n",
        "plt.legend(loc=4)\n",
        "plt.xlabel('Date')\n",
        "plt.ylabel('Price')\n",
        "plt.show()"
      ],
      "execution_count": 19,
      "outputs": [
        {
          "output_type": "display_data",
          "data": {
            "image/png": "[encoded data removed]",
            "text/plain": [
              "<Figure size 576x504 with 1 Axes>"
            ]
          },
          "metadata": {
            "tags": []
          }
        }
      ]
    },
    {
      "cell_type": "code",
      "metadata": {
        "id": "ahKjg6KyGYnd",
        "colab_type": "code",
        "colab": {}
      },
      "source": [
        ""
      ],
      "execution_count": 0,
      "outputs": []
    }
  ]
}
