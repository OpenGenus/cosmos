{
  "nbformat": 4,
  "nbformat_minor": 0,
  "metadata": {
    "colab": {
      "name": "Deep Q Networks.ipynb",
      "provenance": [],
      "collapsed_sections": []
    },
    "kernelspec": {
      "name": "python3",
      "display_name": "Python 3"
    },
    "accelerator": "GPU"
  },
  "cells": [
    {
      "cell_type": "markdown",
      "metadata": {
        "id": "MqLCpeuB1rsn",
        "colab_type": "text"
      },
      "source": [
        "# Q Learning and Deep Q Network Examples"
      ]
    },
    {
      "cell_type": "code",
      "metadata": {
        "id": "DNCXqYSN1jeA",
        "colab_type": "code",
        "colab": {}
      },
      "source": [
        "import random\n",
        "import numpy as np\n",
        "import pandas as pd\n",
        "import tensorflow as tf\n",
        "import matplotlib.pyplot as plt\n",
        "\n",
        "from collections import deque\n",
        "from time import time"
      ],
      "execution_count": 0,
      "outputs": []
    },
    {
      "cell_type": "code",
      "metadata": {
        "id": "pZgaI7aE17NT",
        "colab_type": "code",
        "colab": {
          "base_uri": "https://localhost:8080/",
          "height": 35
        },
        "outputId": "3f549114-264d-4add-d57c-fb8f76e2f759"
      },
      "source": [
        "seed = 23041974\n",
        "\n",
        "random.seed(seed)\n",
        "print('Seed: {}'.format(seed))"
      ],
      "execution_count": 2,
      "outputs": [
        {
          "output_type": "stream",
          "text": [
            "Seed: 23041974\n"
          ],
          "name": "stdout"
        }
      ]
    },
    {
      "cell_type": "markdown",
      "metadata": {
        "id": "0ioqscIW2DeB",
        "colab_type": "text"
      },
      "source": [
        "### Game design"
      ]
    },
    {
      "cell_type": "markdown",
      "metadata": {
        "id": "skRGPAnQ2IKi",
        "colab_type": "text"
      },
      "source": [
        "The game the Q-agents will need to learn is made of a board with 4 cells. The agent will receive a reward of +1 every time it fills a vacant cell, and will receive a penalty of -1 when it tries to fill an already occupied cell. The game ends when the board is full."
      ]
    },
    {
      "cell_type": "code",
      "metadata": {
        "id": "V8zhwjDu2CG6",
        "colab_type": "code",
        "colab": {}
      },
      "source": [
        "class Game:\n",
        "  board = None\n",
        "  board_size = 0\n",
        "  \n",
        "  def __init__(self, board_size = 4):\n",
        "    self.board_size = board_size\n",
        "    self.reset()\n",
        "    \n",
        "  def reset(self):\n",
        "    self.board = np.zeros(self.board_size)\n",
        "    \n",
        "  def play(self, cell):\n",
        "    # Returns a tuple: (reward, game_over?)\n",
        "    if self.board[cell] == 0:\n",
        "      self.board[cell] = 1\n",
        "      game_over = len(np.where(self.board == 0)[0]) == 0\n",
        "      return (1, game_over)\n",
        "    else:\n",
        "      return (-1, False)"
      ],
      "execution_count": 0,
      "outputs": []
    },
    {
      "cell_type": "code",
      "metadata": {
        "id": "aSEtD_D63qSI",
        "colab_type": "code",
        "colab": {
          "base_uri": "https://localhost:8080/",
          "height": 321
        },
        "outputId": "544a5671-5e01-4c41-ec27-3f76ea52db8d"
      },
      "source": [
        "def state_to_str(state):\n",
        "  return str(list(map(int, state.tolist())))\n",
        "\n",
        "all_states = list()\n",
        "for i in range(2):\n",
        "  for j in range(2):\n",
        "    for k in range(2):\n",
        "      for l in range(2):\n",
        "        s = np.array([i, j, k, l])\n",
        "        all_states.append(state_to_str(s))\n",
        "        \n",
        "print('All possible states: ')\n",
        "\n",
        "for s in all_states:\n",
        "  print(s)"
      ],
      "execution_count": 4,
      "outputs": [
        {
          "output_type": "stream",
          "text": [
            "All possible states: \n",
            "[0, 0, 0, 0]\n",
            "[0, 0, 0, 1]\n",
            "[0, 0, 1, 0]\n",
            "[0, 0, 1, 1]\n",
            "[0, 1, 0, 0]\n",
            "[0, 1, 0, 1]\n",
            "[0, 1, 1, 0]\n",
            "[0, 1, 1, 1]\n",
            "[1, 0, 0, 0]\n",
            "[1, 0, 0, 1]\n",
            "[1, 0, 1, 0]\n",
            "[1, 0, 1, 1]\n",
            "[1, 1, 0, 0]\n",
            "[1, 1, 0, 1]\n",
            "[1, 1, 1, 0]\n",
            "[1, 1, 1, 1]\n"
          ],
          "name": "stdout"
        }
      ]
    },
    {
      "cell_type": "markdown",
      "metadata": {
        "id": "UYmEVU-C4CDl",
        "colab_type": "text"
      },
      "source": [
        "Initialize the game:"
      ]
    },
    {
      "cell_type": "code",
      "metadata": {
        "id": "4GYiM4ZE3_yO",
        "colab_type": "code",
        "colab": {}
      },
      "source": [
        "game = Game()"
      ],
      "execution_count": 0,
      "outputs": []
    },
    {
      "cell_type": "markdown",
      "metadata": {
        "id": "2gAEN83m4Gx6",
        "colab_type": "text"
      },
      "source": [
        "## Q Learning"
      ]
    },
    {
      "cell_type": "markdown",
      "metadata": {
        "id": "Kniwoe2u4JP6",
        "colab_type": "text"
      },
      "source": [
        "Starting with a table-based Q-learning algorithm"
      ]
    },
    {
      "cell_type": "code",
      "metadata": {
        "id": "9FN-QW9v4Fgi",
        "colab_type": "code",
        "colab": {}
      },
      "source": [
        "num_of_games = 2000\n",
        "epsilon = 0.1\n",
        "gamma = 1"
      ],
      "execution_count": 0,
      "outputs": []
    },
    {
      "cell_type": "markdown",
      "metadata": {
        "id": "tVjczKrb4Q01",
        "colab_type": "text"
      },
      "source": [
        "Initializing the Q-table:"
      ]
    },
    {
      "cell_type": "code",
      "metadata": {
        "id": "WaJcA3QN4QCr",
        "colab_type": "code",
        "colab": {}
      },
      "source": [
        "q_table = pd.DataFrame(0, \n",
        "                       index = np.arange(4),\n",
        "                       columns = all_states)"
      ],
      "execution_count": 0,
      "outputs": []
    },
    {
      "cell_type": "markdown",
      "metadata": {
        "id": "NOnU7dG84lcH",
        "colab_type": "text"
      },
      "source": [
        "Letting the agent play and learn:"
      ]
    },
    {
      "cell_type": "code",
      "metadata": {
        "id": "yXvl_sDH4j9K",
        "colab_type": "code",
        "colab": {
          "base_uri": "https://localhost:8080/",
          "height": 247
        },
        "outputId": "b96a489e-8177-492b-fee8-e1816c102773"
      },
      "source": [
        "r_list = []    ## Store the total reward of each game so we could plot it later\n",
        "\n",
        "for g in range(num_of_games):\n",
        "  game_over = False\n",
        "  game.reset()\n",
        "  total_reward = 0\n",
        "  while not game_over:\n",
        "    state = np.copy(game.board)\n",
        "    if random.random() < epsilon:\n",
        "      action = random.randint(0, 3)\n",
        "    else:\n",
        "      action = q_table[state_to_str(state)].idxmax()\n",
        "    reward, game_over = game.play(action)\n",
        "    total_reward += reward\n",
        "    if np.sum(game.board) == 4:    ## Terminal state\n",
        "      next_state_max_q_value = 0\n",
        "    else:\n",
        "      next_state = np.copy(game.board)\n",
        "      next_state_max_q_value = q_table[state_to_str(next_state)].max()\n",
        "    q_table.loc[action, state_to_str(state)] = reward + gamma * next_state_max_q_value\n",
        "  r_list.append(total_reward)\n",
        "q_table"
      ],
      "execution_count": 8,
      "outputs": [
        {
          "output_type": "execute_result",
          "data": {
            "text/html": [
              "<div>\n",
              "<style scoped>\n",
              "    .dataframe tbody tr th:only-of-type {\n",
              "        vertical-align: middle;\n",
              "    }\n",
              "\n",
              "    .dataframe tbody tr th {\n",
              "        vertical-align: top;\n",
              "    }\n",
              "\n",
              "    .dataframe thead th {\n",
              "        text-align: right;\n",
              "    }\n",
              "</style>\n",
              "<table border=\"1\" class=\"dataframe\">\n",
              "  <thead>\n",
              "    <tr style=\"text-align: right;\">\n",
              "      <th></th>\n",
              "      <th>[0, 0, 0, 0]</th>\n",
              "      <th>[0, 0, 0, 1]</th>\n",
              "      <th>[0, 0, 1, 0]</th>\n",
              "      <th>[0, 0, 1, 1]</th>\n",
              "      <th>[0, 1, 0, 0]</th>\n",
              "      <th>[0, 1, 0, 1]</th>\n",
              "      <th>[0, 1, 1, 0]</th>\n",
              "      <th>[0, 1, 1, 1]</th>\n",
              "      <th>[1, 0, 0, 0]</th>\n",
              "      <th>[1, 0, 0, 1]</th>\n",
              "      <th>[1, 0, 1, 0]</th>\n",
              "      <th>[1, 0, 1, 1]</th>\n",
              "      <th>[1, 1, 0, 0]</th>\n",
              "      <th>[1, 1, 0, 1]</th>\n",
              "      <th>[1, 1, 1, 0]</th>\n",
              "      <th>[1, 1, 1, 1]</th>\n",
              "    </tr>\n",
              "  </thead>\n",
              "  <tbody>\n",
              "    <tr>\n",
              "      <th>0</th>\n",
              "      <td>4</td>\n",
              "      <td>3</td>\n",
              "      <td>3</td>\n",
              "      <td>2</td>\n",
              "      <td>3</td>\n",
              "      <td>2</td>\n",
              "      <td>2</td>\n",
              "      <td>0</td>\n",
              "      <td>2</td>\n",
              "      <td>1</td>\n",
              "      <td>1</td>\n",
              "      <td>-1</td>\n",
              "      <td>1</td>\n",
              "      <td>0</td>\n",
              "      <td>0</td>\n",
              "      <td>0</td>\n",
              "    </tr>\n",
              "    <tr>\n",
              "      <th>1</th>\n",
              "      <td>4</td>\n",
              "      <td>0</td>\n",
              "      <td>1</td>\n",
              "      <td>0</td>\n",
              "      <td>2</td>\n",
              "      <td>0</td>\n",
              "      <td>0</td>\n",
              "      <td>0</td>\n",
              "      <td>3</td>\n",
              "      <td>2</td>\n",
              "      <td>2</td>\n",
              "      <td>1</td>\n",
              "      <td>1</td>\n",
              "      <td>0</td>\n",
              "      <td>0</td>\n",
              "      <td>0</td>\n",
              "    </tr>\n",
              "    <tr>\n",
              "      <th>2</th>\n",
              "      <td>4</td>\n",
              "      <td>0</td>\n",
              "      <td>2</td>\n",
              "      <td>0</td>\n",
              "      <td>3</td>\n",
              "      <td>0</td>\n",
              "      <td>0</td>\n",
              "      <td>0</td>\n",
              "      <td>3</td>\n",
              "      <td>2</td>\n",
              "      <td>1</td>\n",
              "      <td>-1</td>\n",
              "      <td>2</td>\n",
              "      <td>1</td>\n",
              "      <td>0</td>\n",
              "      <td>0</td>\n",
              "    </tr>\n",
              "    <tr>\n",
              "      <th>3</th>\n",
              "      <td>4</td>\n",
              "      <td>0</td>\n",
              "      <td>1</td>\n",
              "      <td>0</td>\n",
              "      <td>3</td>\n",
              "      <td>0</td>\n",
              "      <td>0</td>\n",
              "      <td>0</td>\n",
              "      <td>3</td>\n",
              "      <td>1</td>\n",
              "      <td>1</td>\n",
              "      <td>0</td>\n",
              "      <td>2</td>\n",
              "      <td>0</td>\n",
              "      <td>1</td>\n",
              "      <td>0</td>\n",
              "    </tr>\n",
              "  </tbody>\n",
              "</table>\n",
              "</div>"
            ],
            "text/plain": [
              "   [0, 0, 0, 0]  [0, 0, 0, 1]  ...  [1, 1, 1, 0]  [1, 1, 1, 1]\n",
              "0             4             3  ...             0             0\n",
              "1             4             0  ...             0             0\n",
              "2             4             0  ...             0             0\n",
              "3             4             0  ...             1             0\n",
              "\n",
              "[4 rows x 16 columns]"
            ]
          },
          "metadata": {
            "tags": []
          },
          "execution_count": 8
        }
      ]
    },
    {
      "cell_type": "markdown",
      "metadata": {
        "id": "VvPp2xEG52gM",
        "colab_type": "text"
      },
      "source": [
        "Let's verify that the agent indeed learned a correct strategy by seeing what action it will choose in each one of the possible states:"
      ]
    },
    {
      "cell_type": "code",
      "metadata": {
        "id": "kEUwiq1T5yaJ",
        "colab_type": "code",
        "colab": {
          "base_uri": "https://localhost:8080/",
          "height": 305
        },
        "outputId": "48e0bca0-e0f3-4c8d-8eda-79ca8901d7b2"
      },
      "source": [
        "for i in range(2):\n",
        "  for j in range(2):\n",
        "    for k in range(2):\n",
        "      for l in range(2):\n",
        "        b = np.array([i, j, k, l])\n",
        "        if len(np.where(b == 0)[0]) != 0:\n",
        "          action = q_table[state_to_str(b)].idxmax()\n",
        "          pred = q_table[state_to_str(b)].tolist()\n",
        "          print('board: {b}\\tpredicted Q values: {p} \\tbest action: {a}\\t correct action? {s}'\n",
        "                .format(b = b, p = pred, a = action, s = b[action] == 0))"
      ],
      "execution_count": 9,
      "outputs": [
        {
          "output_type": "stream",
          "text": [
            "board: [0 0 0 0]\tpredicted Q values: [4, 4, 4, 4] \tbest action: 0\t correct action? True\n",
            "board: [0 0 0 1]\tpredicted Q values: [3, 0, 0, 0] \tbest action: 0\t correct action? True\n",
            "board: [0 0 1 0]\tpredicted Q values: [3, 1, 2, 1] \tbest action: 0\t correct action? True\n",
            "board: [0 0 1 1]\tpredicted Q values: [2, 0, 0, 0] \tbest action: 0\t correct action? True\n",
            "board: [0 1 0 0]\tpredicted Q values: [3, 2, 3, 3] \tbest action: 0\t correct action? True\n",
            "board: [0 1 0 1]\tpredicted Q values: [2, 0, 0, 0] \tbest action: 0\t correct action? True\n",
            "board: [0 1 1 0]\tpredicted Q values: [2, 0, 0, 0] \tbest action: 0\t correct action? True\n",
            "board: [0 1 1 1]\tpredicted Q values: [0, 0, 0, 0] \tbest action: 0\t correct action? True\n",
            "board: [1 0 0 0]\tpredicted Q values: [2, 3, 3, 3] \tbest action: 1\t correct action? True\n",
            "board: [1 0 0 1]\tpredicted Q values: [1, 2, 2, 1] \tbest action: 1\t correct action? True\n",
            "board: [1 0 1 0]\tpredicted Q values: [1, 2, 1, 1] \tbest action: 1\t correct action? True\n",
            "board: [1 0 1 1]\tpredicted Q values: [-1, 1, -1, 0] \tbest action: 1\t correct action? True\n",
            "board: [1 1 0 0]\tpredicted Q values: [1, 1, 2, 2] \tbest action: 2\t correct action? True\n",
            "board: [1 1 0 1]\tpredicted Q values: [0, 0, 1, 0] \tbest action: 2\t correct action? True\n",
            "board: [1 1 1 0]\tpredicted Q values: [0, 0, 0, 1] \tbest action: 3\t correct action? True\n"
          ],
          "name": "stdout"
        }
      ]
    },
    {
      "cell_type": "markdown",
      "metadata": {
        "id": "d-wNz71h6z3y",
        "colab_type": "text"
      },
      "source": [
        "We can see that the agent indeed picked up the right way to play the game. Still, when looking at the predicted Q values, we see that there are some states where it didn't pick up the correct Q values."
      ]
    },
    {
      "cell_type": "markdown",
      "metadata": {
        "id": "Xb0DIqqL7H0I",
        "colab_type": "text"
      },
      "source": [
        "Q Learning is a greedy algorithm, and it prefers choosing the best action at each state rather than exploring. We can solve this issue by increasing <math xmlns=\"http://www.w3.org/1998/Math/MathML\"><mi>&#x3B5;</mi></math> (epsilon), which controls the exploration of this algorithm and was set to 0.1, OR by letting the agent play more games."
      ]
    },
    {
      "cell_type": "markdown",
      "metadata": {
        "id": "Sgb7urf87nvD",
        "colab_type": "text"
      },
      "source": [
        "Let's plot the total reward the agent received per game:"
      ]
    },
    {
      "cell_type": "code",
      "metadata": {
        "id": "ozl5o3SQ6mVQ",
        "colab_type": "code",
        "colab": {
          "base_uri": "https://localhost:8080/",
          "height": 466
        },
        "outputId": "ffcc8778-af00-4d32-ff49-88bc5dc4a3dc"
      },
      "source": [
        "plt.figure(figsize = (14, 7))\n",
        "plt.plot(range(len(r_list)), r_list)\n",
        "plt.xlabel('Games played')\n",
        "plt.ylabel('Reward')\n",
        "plt.show()"
      ],
      "execution_count": 10,
      "outputs": [
        {
          "output_type": "display_data",
          "data": {
            "image/png": "[encoded data removed]",
            "text/plain": [
              "<Figure size 1008x504 with 1 Axes>"
            ]
          },
          "metadata": {
            "tags": []
          }
        }
      ]
    },
    {
      "cell_type": "markdown",
      "metadata": {
        "id": "Cq99Dtkf74rD",
        "colab_type": "text"
      },
      "source": [
        "## Deep Q Network"
      ]
    },
    {
      "cell_type": "markdown",
      "metadata": {
        "id": "nBb2BuWZ8iQu",
        "colab_type": "text"
      },
      "source": [
        "Let's move on to neural network-based modeling. We'll design the Q network first."
      ]
    },
    {
      "cell_type": "markdown",
      "metadata": {
        "id": "h6f2CO378sBu",
        "colab_type": "text"
      },
      "source": [
        "Remember that the output of the network, ```(self.output) ``` is an array of the predicted Q value for each action taken from the input state ``` (self.states)```. Comparing with the Q-table algorithm, the output is an entire column of the table\n",
        "\n"
      ]
    },
    {
      "cell_type": "code",
      "metadata": {
        "id": "vVO9DY7A7y79",
        "colab_type": "code",
        "colab": {}
      },
      "source": [
        "class QNetwork:\n",
        "  \n",
        "  def __init__(self, hidden_layers_size, gamma, learning_rate,\n",
        "               input_size = 4, output_size = 4):\n",
        "    self.q_target = tf.placeholder(shape = (None, output_size), dtype = tf.float32)\n",
        "    self.r = tf.placeholder(shape = None, dtype = tf.float32)\n",
        "    self.states = tf.placeholder(shape = (None, input_size), dtype = tf.float32)\n",
        "    self.enum_actions = tf.placeholder(shape = (None, 2), dtype = tf.int32)\n",
        "    layer = self.states\n",
        "    for l in hidden_layers_size:\n",
        "      layer = tf.layers.dense(inputs = layer, units = l, \n",
        "                              activation = tf.nn.relu,\n",
        "                              kernel_initializer = tf.contrib.layers.xavier_initializer(seed = seed))\n",
        "    self.output = tf.layers.dense(inputs = layer, units = output_size,\n",
        "                                  kernel_initializer = tf.contrib.layers.xavier_initializer(seed = seed))\n",
        "    self.predictions = tf.gather_nd(self.output, indices = self.enum_actions)\n",
        "    self.labels = self.r + gamma * tf.reduce_max(self.q_target, axis = 1)\n",
        "    self.cost = tf.reduce_mean(tf.losses.mean_squared_error(labels = self.labels,\n",
        "                                                            predictions = self.predictions))\n",
        "    self.optimizer = tf.train.GradientDescentOptimizer(learning_rate = learning_rate).minimize(self.cost)"
      ],
      "execution_count": 0,
      "outputs": []
    },
    {
      "cell_type": "markdown",
      "metadata": {
        "id": "gfUsSy8k1DA8",
        "colab_type": "text"
      },
      "source": [
        "Designing the **Experience Replay memory** which will be used, using a cyclic memory buffer:"
      ]
    },
    {
      "cell_type": "code",
      "metadata": {
        "id": "zBMdWdxt1BNk",
        "colab_type": "code",
        "colab": {}
      },
      "source": [
        "class ReplayMemory:\n",
        "  memory = None\n",
        "  counter = 0\n",
        "  \n",
        "  def __init__(self, size):\n",
        "    self.memory = deque(maxlen = size)\n",
        "    \n",
        "  def append(self, element):\n",
        "    self.memory.append(element)\n",
        "    self.counter += 1\n",
        "    \n",
        "  def sample(self, n):\n",
        "    return random.sample(self.memory, n)"
      ],
      "execution_count": 0,
      "outputs": []
    },
    {
      "cell_type": "markdown",
      "metadata": {
        "id": "1t9m6EFk2HyD",
        "colab_type": "text"
      },
      "source": [
        "Setting up the parameters. Note that here we used `gamma = 0.99` and not 1 like in the Q-table algorithm, as the literature recommends working with a discount factor of **<math xmlns=\"http://www.w3.org/1998/Math/MathML\"><mn>0</mn><mo>.</mo><mn>9</mn><mo>&#xA0;</mo><mo>&#x2264;</mo><mo>&#xA0;</mo><mi>&#x3B3;</mi><mo>&#xA0;</mo><mo>&#x2264;</mo><mo>&#xA0;</mo><mn>0</mn><mo>.</mo><mn>99</mn></math>**. It probably won't matter much in this specific case, but it's good to get used to this.\n",
        "\n"
      ]
    },
    {
      "cell_type": "code",
      "metadata": {
        "id": "Ypu5eaS92GRT",
        "colab_type": "code",
        "colab": {}
      },
      "source": [
        "num_of_games = 2000\n",
        "epsilon = 0.1\n",
        "gamma = 0.99\n",
        "batch_size = 10\n",
        "memory_size = 2000"
      ],
      "execution_count": 0,
      "outputs": []
    },
    {
      "cell_type": "markdown",
      "metadata": {
        "id": "SCC_xpF524iX",
        "colab_type": "text"
      },
      "source": [
        "Initializing the Q-network:"
      ]
    },
    {
      "cell_type": "code",
      "metadata": {
        "id": "fZAuXwb923uf",
        "colab_type": "code",
        "colab": {
          "base_uri": "https://localhost:8080/",
          "height": 91
        },
        "outputId": "1c572031-b983-4dbe-d6af-6ebc1025c097"
      },
      "source": [
        "tf.reset_default_graph()\n",
        "tf.set_random_seed(seed)\n",
        "qnn = QNetwork(hidden_layers_size = [20, 20],\n",
        "               gamma = gamma,\n",
        "               learning_rate = 0.001)\n",
        "memory = ReplayMemory(memory_size)\n",
        "sess = tf.Session()\n",
        "sess.run(tf.global_variables_initializer())"
      ],
      "execution_count": 16,
      "outputs": [
        {
          "output_type": "stream",
          "text": [
            "WARNING:tensorflow:From /usr/local/lib/python3.6/dist-packages/tensorflow/python/ops/losses/losses_impl.py:121: add_dispatch_support.<locals>.wrapper (from tensorflow.python.ops.array_ops) is deprecated and will be removed in a future version.\n",
            "Instructions for updating:\n",
            "Use tf.where in 2.0, which has the same broadcast rule as np.where\n"
          ],
          "name": "stdout"
        }
      ]
    },
    {
      "cell_type": "markdown",
      "metadata": {
        "id": "hfhSAmOc3Z8m",
        "colab_type": "text"
      },
      "source": [
        "Training the network. Compare this code to the above Q-table training."
      ]
    },
    {
      "cell_type": "code",
      "metadata": {
        "id": "cay06IcS3OZF",
        "colab_type": "code",
        "colab": {
          "base_uri": "https://localhost:8080/",
          "height": 35
        },
        "outputId": "14864b0d-cb6b-478e-dceb-d005f48e1990"
      },
      "source": [
        "r_list = []\n",
        "c_list = []    ## Same as r_list, but for storing the cost\n",
        "\n",
        "counter = 0    ## Will be used to trigger network training\n",
        "\n",
        "for g in range(num_of_games):\n",
        "  game_over = False\n",
        "  game.reset()\n",
        "  total_reward = 0\n",
        "  while not game_over:\n",
        "    counter += 1\n",
        "    state = np.copy(game.board)\n",
        "    if random.random() < epsilon:\n",
        "      action = random.randint(0, 3)\n",
        "    else:\n",
        "      pred = np.squeeze(sess.run(qnn.output,\n",
        "                                 feed_dict = {qnn.states: np.expand_dims(game.board, axis = 0)}))\n",
        "      action = np.argmax(pred)\n",
        "    reward, game_over = game.play(action)\n",
        "    total_reward += reward\n",
        "    next_state = np.copy(game.board)\n",
        "    memory.append({'state': state, 'action': action,\n",
        "                   'reward': reward, 'next_state': next_state,\n",
        "                   'game_over': game_over})\n",
        "    if counter % batch_size == 0:\n",
        "      ## Network training\n",
        "      batch = memory.sample(batch_size)\n",
        "      q_target = sess.run(qnn.output, feed_dict = {qnn.states: np.array(list(map(lambda x: x['next_state'], batch)))})\n",
        "      terminals = np.array(list(map(lambda x: x['game_over'], batch)))\n",
        "      for i in range(terminals.size):\n",
        "        if terminals[i]:\n",
        "          ## Remember we use the network's own predictions for the next state while calculating loss.\n",
        "          ## Terminal states have no Q-value, and so we manually set them to 0, as the network's predictions\n",
        "          ## for these states is meaningless\n",
        "          q_target[i] = np.zeros(game.board_size)\n",
        "      _, cost = sess.run([qnn.optimizer, qnn.cost],\n",
        "                         feed_dict = {qnn.states: np.array(list(map(lambda x: x['state'], batch))),\n",
        "                                      qnn.r: np.array(list(map(lambda x: x['reward'], batch))),\n",
        "                                      qnn.enum_actions: np.array(list(enumerate(map(lambda x: x['action'], batch)))),\n",
        "                                      qnn.q_target: q_target})\n",
        "      c_list.append(cost)\n",
        "  r_list.append(total_reward)\n",
        "print('Final cost: {}'.format(c_list[-1]))"
      ],
      "execution_count": 17,
      "outputs": [
        {
          "output_type": "stream",
          "text": [
            "Final cost: 1.1149362325668335\n"
          ],
          "name": "stdout"
        }
      ]
    },
    {
      "cell_type": "markdown",
      "metadata": {
        "id": "oYV9qA0R5wwx",
        "colab_type": "text"
      },
      "source": [
        "Again, let's verify that the agent indeed learned a correct strategy:"
      ]
    },
    {
      "cell_type": "code",
      "metadata": {
        "id": "IDZFlFca5k4o",
        "colab_type": "code",
        "colab": {
          "base_uri": "https://localhost:8080/",
          "height": 305
        },
        "outputId": "71092db7-ded6-40d7-967e-6d07f818cb58"
      },
      "source": [
        "for i in range(2):\n",
        "  for j in range(2):\n",
        "    for k in range(2):\n",
        "      for l in range(2):\n",
        "        b = np.array([i, j, k, l])\n",
        "        if len(np.where(b == 0)[0]) != 0:\n",
        "          pred = np.squeeze(sess.run(qnn.output, \n",
        "                                     feed_dict = {qnn.states: np.expand_dims(b, axis = 0)}))\n",
        "          pred = list(map(lambda x: round(x, 3), pred))\n",
        "          action = np.argmax(pred)\n",
        "          print('board: {b} \\tpredicted Q values: {p} \\tbest action: {a} \\tcorrect action? {s}'\n",
        "                .format(b = b, p = pred, a = action, s = b[action] == 0))"
      ],
      "execution_count": 18,
      "outputs": [
        {
          "output_type": "stream",
          "text": [
            "board: [0 0 0 0] \tpredicted Q values: [-0.501, -0.503, -0.567, -0.495] \tbest action: 3 \tcorrect action? True\n",
            "board: [0 0 0 1] \tpredicted Q values: [-0.318, 0.244, 0.207, -1.017] \tbest action: 1 \tcorrect action? True\n",
            "board: [0 0 1 0] \tpredicted Q values: [-0.147, -0.003, -0.858, -0.681] \tbest action: 1 \tcorrect action? True\n",
            "board: [0 0 1 1] \tpredicted Q values: [0.257, 0.535, -0.509, -1.026] \tbest action: 1 \tcorrect action? True\n",
            "board: [0 1 0 0] \tpredicted Q values: [-0.422, -1.015, -0.444, -0.342] \tbest action: 3 \tcorrect action? True\n",
            "board: [0 1 0 1] \tpredicted Q values: [-0.006, -0.148, 0.154, -0.774] \tbest action: 2 \tcorrect action? True\n",
            "board: [0 1 1 0] \tpredicted Q values: [0.216, -0.856, -0.716, -0.165] \tbest action: 0 \tcorrect action? True\n",
            "board: [0 1 1 1] \tpredicted Q values: [0.721, -0.119, -0.333, -0.626] \tbest action: 0 \tcorrect action? True\n",
            "board: [1 0 0 0] \tpredicted Q values: [-1.481, -0.814, -0.931, -1.023] \tbest action: 1 \tcorrect action? True\n",
            "board: [1 0 0 1] \tpredicted Q values: [-0.763, -0.101, -0.307, -1.308] \tbest action: 1 \tcorrect action? True\n",
            "board: [1 0 1 0] \tpredicted Q values: [-0.976, -0.362, -1.192, -1.013] \tbest action: 1 \tcorrect action? True\n",
            "board: [1 0 1 1] \tpredicted Q values: [-0.318, 0.485, -0.675, -1.482] \tbest action: 1 \tcorrect action? True\n",
            "board: [1 1 0 0] \tpredicted Q values: [-1.265, -1.549, -0.81, -0.607] \tbest action: 3 \tcorrect action? True\n",
            "board: [1 1 0 1] \tpredicted Q values: [-0.628, -0.784, -0.113, -1.084] \tbest action: 2 \tcorrect action? True\n",
            "board: [1 1 1 0] \tpredicted Q values: [-0.703, -1.186, -1.043, -0.539] \tbest action: 3 \tcorrect action? True\n"
          ],
          "name": "stdout"
        }
      ]
    },
    {
      "cell_type": "markdown",
      "metadata": {
        "id": "5MlhC9A_6vAr",
        "colab_type": "text"
      },
      "source": [
        "Here too, we see that the agent learned a correct strategy, and again, Q values are not what we would've expectdd."
      ]
    },
    {
      "cell_type": "markdown",
      "metadata": {
        "id": "4mhd5oY9658M",
        "colab_type": "text"
      },
      "source": [
        "Let's plot the rewards the agent received:"
      ]
    },
    {
      "cell_type": "code",
      "metadata": {
        "id": "Qd90SDmv6pWX",
        "colab_type": "code",
        "colab": {
          "base_uri": "https://localhost:8080/",
          "height": 466
        },
        "outputId": "f755dab0-1386-46db-df7d-33b309f89de6"
      },
      "source": [
        "plt.figure(figsize = (14, 7))\n",
        "plt.plot(range(len(r_list)), r_list)\n",
        "plt.xlabel('Games played')\n",
        "plt.ylabel('Reward')\n",
        "plt.show()"
      ],
      "execution_count": 19,
      "outputs": [
        {
          "output_type": "display_data",
          "data": {
            "image/png": "[encoded data removed]",
            "text/plain": [
              "<Figure size 1008x504 with 1 Axes>"
            ]
          },
          "metadata": {
            "tags": []
          }
        }
      ]
    },
    {
      "cell_type": "markdown",
      "metadata": {
        "id": "eTHLJpNz7ILd",
        "colab_type": "text"
      },
      "source": [
        "Zooming in, so we can compare the Q-table algorithm:"
      ]
    },
    {
      "cell_type": "code",
      "metadata": {
        "id": "7eFgrVv-7EYV",
        "colab_type": "code",
        "colab": {
          "base_uri": "https://localhost:8080/",
          "height": 466
        },
        "outputId": "9c77e229-4097-4864-b28b-b33067a3da73"
      },
      "source": [
        "plt.figure(figsize = (14, 7))\n",
        "plt.plot(range(len(r_list)), r_list)\n",
        "plt.xlabel('Game played')\n",
        "plt.ylabel('Reward')\n",
        "plt.ylim(-2, 4.5)\n",
        "plt.show()"
      ],
      "execution_count": 20,
      "outputs": [
        {
          "output_type": "display_data",
          "data": {
            "image/png": "[encoded data removed]",
            "text/plain": [
              "<Figure size 1008x504 with 1 Axes>"
            ]
          },
          "metadata": {
            "tags": []
          }
        }
      ]
    },
    {
      "cell_type": "markdown",
      "metadata": {
        "id": "bnHs_fyF7X__",
        "colab_type": "text"
      },
      "source": [
        "Let's plot the cost too. Remember that here the x-axis reflects the number of trainings, and not the number of games. The number of training depends on the number of actions taken, and the agent can take any number of actions during each game."
      ]
    },
    {
      "cell_type": "code",
      "metadata": {
        "id": "U8Rc2ksK7UMR",
        "colab_type": "code",
        "colab": {
          "base_uri": "https://localhost:8080/",
          "height": 466
        },
        "outputId": "0c2304aa-951b-4e13-c5ec-d07db7e1d8a8"
      },
      "source": [
        "plt.figure(figsize = (14, 7))\n",
        "plt.plot(range(len(c_list)), c_list)\n",
        "plt.xlabel('Trainings')\n",
        "plt.ylabel('Cost')\n",
        "plt.show()"
      ],
      "execution_count": 21,
      "outputs": [
        {
          "output_type": "display_data",
          "data": {
            "image/png": "[encoded data removed]",
            "text/plain": [
              "<Figure size 1008x504 with 1 Axes>"
            ]
          },
          "metadata": {
            "tags": []
          }
        }
      ]
    }
  ]
}
