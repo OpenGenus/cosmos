{
 "cells": [
  {
   "cell_type": "code",
   "execution_count": 1,
   "metadata": {},
   "outputs": [
    {
     "name": "stderr",
     "output_type": "stream",
     "text": [
      "Using TensorFlow backend.\n"
     ]
    }
   ],
   "source": [
    "from keras.layers import Dense, Input\n",
    "from keras.models import Model"
   ]
  },
  {
   "cell_type": "code",
   "execution_count": 2,
   "metadata": {},
   "outputs": [],
   "source": [
    "encoding_dim = 32\n",
    "\n",
    "input_img = Input(shape = (784, ))\n",
    "\n",
    "encoded = Dense(encoding_dim, activation = 'relu')(input_img)\n",
    "\n",
    "decoded = Dense(784, activation = 'sigmoid')(encoded)"
   ]
  },
  {
   "cell_type": "code",
   "execution_count": 3,
   "metadata": {},
   "outputs": [],
   "source": [
    "autoencoder = Model(input_img, decoded)\n",
    "\n",
    "encoder = Model(input_img, encoded)"
   ]
  },
  {
   "cell_type": "code",
   "execution_count": 4,
   "metadata": {},
   "outputs": [],
   "source": [
    "encoded_input = Input(shape = (encoding_dim, ))\n",
    "\n",
    "decoder_layer = autoencoder.layers[-1]\n",
    "\n",
    "decoder = Model(encoded_input, decoder_layer(encoded_input))"
   ]
  },
  {
   "cell_type": "code",
   "execution_count": 5,
   "metadata": {},
   "outputs": [],
   "source": [
    "autoencoder.compile(optimizer = 'adadelta', loss = 'binary_crossentropy')"
   ]
  },
  {
   "cell_type": "code",
   "execution_count": 6,
   "metadata": {},
   "outputs": [],
   "source": [
    "from keras.datasets import mnist\n",
    "import numpy as np\n",
    "(x_train, _), (x_test, _) = mnist.load_data()"
   ]
  },
  {
   "cell_type": "code",
   "execution_count": 7,
   "metadata": {},
   "outputs": [
    {
     "data": {
      "text/plain": [
       "array([[[0, 0, 0, ..., 0, 0, 0],\n",
       "        [0, 0, 0, ..., 0, 0, 0],\n",
       "        [0, 0, 0, ..., 0, 0, 0],\n",
       "        ...,\n",
       "        [0, 0, 0, ..., 0, 0, 0],\n",
       "        [0, 0, 0, ..., 0, 0, 0],\n",
       "        [0, 0, 0, ..., 0, 0, 0]],\n",
       "\n",
       "       [[0, 0, 0, ..., 0, 0, 0],\n",
       "        [0, 0, 0, ..., 0, 0, 0],\n",
       "        [0, 0, 0, ..., 0, 0, 0],\n",
       "        ...,\n",
       "        [0, 0, 0, ..., 0, 0, 0],\n",
       "        [0, 0, 0, ..., 0, 0, 0],\n",
       "        [0, 0, 0, ..., 0, 0, 0]],\n",
       "\n",
       "       [[0, 0, 0, ..., 0, 0, 0],\n",
       "        [0, 0, 0, ..., 0, 0, 0],\n",
       "        [0, 0, 0, ..., 0, 0, 0],\n",
       "        ...,\n",
       "        [0, 0, 0, ..., 0, 0, 0],\n",
       "        [0, 0, 0, ..., 0, 0, 0],\n",
       "        [0, 0, 0, ..., 0, 0, 0]],\n",
       "\n",
       "       ...,\n",
       "\n",
       "       [[0, 0, 0, ..., 0, 0, 0],\n",
       "        [0, 0, 0, ..., 0, 0, 0],\n",
       "        [0, 0, 0, ..., 0, 0, 0],\n",
       "        ...,\n",
       "        [0, 0, 0, ..., 0, 0, 0],\n",
       "        [0, 0, 0, ..., 0, 0, 0],\n",
       "        [0, 0, 0, ..., 0, 0, 0]],\n",
       "\n",
       "       [[0, 0, 0, ..., 0, 0, 0],\n",
       "        [0, 0, 0, ..., 0, 0, 0],\n",
       "        [0, 0, 0, ..., 0, 0, 0],\n",
       "        ...,\n",
       "        [0, 0, 0, ..., 0, 0, 0],\n",
       "        [0, 0, 0, ..., 0, 0, 0],\n",
       "        [0, 0, 0, ..., 0, 0, 0]],\n",
       "\n",
       "       [[0, 0, 0, ..., 0, 0, 0],\n",
       "        [0, 0, 0, ..., 0, 0, 0],\n",
       "        [0, 0, 0, ..., 0, 0, 0],\n",
       "        ...,\n",
       "        [0, 0, 0, ..., 0, 0, 0],\n",
       "        [0, 0, 0, ..., 0, 0, 0],\n",
       "        [0, 0, 0, ..., 0, 0, 0]]], dtype=uint8)"
      ]
     },
     "execution_count": 7,
     "metadata": {},
     "output_type": "execute_result"
    }
   ],
   "source": [
    "x_train"
   ]
  },
  {
   "cell_type": "code",
   "execution_count": 8,
   "metadata": {},
   "outputs": [],
   "source": [
    "x_train = x_train.astype('float32')/255.\n",
    "x_test = x_test.astype('float32')/255."
   ]
  },
  {
   "cell_type": "code",
   "execution_count": 9,
   "metadata": {},
   "outputs": [],
   "source": [
    "x_train = x_train.reshape(len(x_train), np.prod(x_train.shape[1:]))\n",
    "x_test = x_test.reshape(len(x_test), np.prod(x_test.shape[1:]))"
   ]
  },
  {
   "cell_type": "code",
   "execution_count": 10,
   "metadata": {},
   "outputs": [
    {
     "data": {
      "text/plain": [
       "(60000, 784)"
      ]
     },
     "execution_count": 10,
     "metadata": {},
     "output_type": "execute_result"
    }
   ],
   "source": [
    "x_train.shape"
   ]
  },
  {
   "cell_type": "code",
   "execution_count": 11,
   "metadata": {},
   "outputs": [
    {
     "data": {
      "text/plain": [
       "(10000, 784)"
      ]
     },
     "execution_count": 11,
     "metadata": {},
     "output_type": "execute_result"
    }
   ],
   "source": [
    "x_test.shape"
   ]
  },
  {
   "cell_type": "code",
   "execution_count": 12,
   "metadata": {},
   "outputs": [
    {
     "name": "stdout",
     "output_type": "stream",
     "text": [
      "Train on 60000 samples, validate on 10000 samples\n",
      "Epoch 1/50\n",
      "60000/60000 [==============================] - 16s 266us/step - loss: 0.3626 - val_loss: 0.2716\n",
      "Epoch 2/50\n",
      "60000/60000 [==============================] - 15s 258us/step - loss: 0.2646 - val_loss: 0.2540\n",
      "Epoch 3/50\n",
      "60000/60000 [==============================] - 16s 259us/step - loss: 0.2440 - val_loss: 0.2317\n",
      "Epoch 4/50\n",
      "60000/60000 [==============================] - 17s 283us/step - loss: 0.2235 - val_loss: 0.2131\n",
      "Epoch 5/50\n",
      "60000/60000 [==============================] - 15s 253us/step - loss: 0.2074 - val_loss: 0.1994\n",
      "Epoch 6/50\n",
      "60000/60000 [==============================] - 16s 263us/step - loss: 0.1960 - val_loss: 0.1897\n",
      "Epoch 7/50\n",
      "60000/60000 [==============================] - 16s 266us/step - loss: 0.1873 - val_loss: 0.1819\n",
      "Epoch 8/50\n",
      "60000/60000 [==============================] - 16s 259us/step - loss: 0.1801 - val_loss: 0.1753\n",
      "Epoch 9/50\n",
      "60000/60000 [==============================] - 15s 257us/step - loss: 0.1740 - val_loss: 0.1696\n",
      "Epoch 10/50\n",
      "60000/60000 [==============================] - 16s 260us/step - loss: 0.1686 - val_loss: 0.1647\n",
      "Epoch 11/50\n",
      "60000/60000 [==============================] - 15s 251us/step - loss: 0.1638 - val_loss: 0.1599\n",
      "Epoch 12/50\n",
      "60000/60000 [==============================] - 15s 251us/step - loss: 0.1594 - val_loss: 0.1559\n",
      "Epoch 13/50\n",
      "60000/60000 [==============================] - 15s 253us/step - loss: 0.1554 - val_loss: 0.1519\n",
      "Epoch 14/50\n",
      "60000/60000 [==============================] - 15s 249us/step - loss: 0.1518 - val_loss: 0.1484\n",
      "Epoch 15/50\n",
      "60000/60000 [==============================] - 16s 274us/step - loss: 0.1484 - val_loss: 0.1453\n",
      "Epoch 16/50\n",
      "60000/60000 [==============================] - 17s 282us/step - loss: 0.1454 - val_loss: 0.1423\n",
      "Epoch 17/50\n",
      "60000/60000 [==============================] - 16s 264us/step - loss: 0.1426 - val_loss: 0.1397\n",
      "Epoch 18/50\n",
      "60000/60000 [==============================] - 16s 275us/step - loss: 0.1400 - val_loss: 0.1372\n",
      "Epoch 19/50\n",
      "60000/60000 [==============================] - 16s 263us/step - loss: 0.1376 - val_loss: 0.1349\n",
      "Epoch 20/50\n",
      "60000/60000 [==============================] - 17s 279us/step - loss: 0.1352 - val_loss: 0.1325\n",
      "Epoch 21/50\n",
      "60000/60000 [==============================] - 16s 270us/step - loss: 0.1330 - val_loss: 0.1304\n",
      "Epoch 22/50\n",
      "60000/60000 [==============================] - 16s 260us/step - loss: 0.1309 - val_loss: 0.1283\n",
      "Epoch 23/50\n",
      "60000/60000 [==============================] - 16s 273us/step - loss: 0.1289 - val_loss: 0.1263\n",
      "Epoch 24/50\n",
      "60000/60000 [==============================] - 17s 278us/step - loss: 0.1269 - val_loss: 0.1244\n",
      "Epoch 25/50\n",
      "60000/60000 [==============================] - 15s 247us/step - loss: 0.1250 - val_loss: 0.1226\n",
      "Epoch 26/50\n",
      "60000/60000 [==============================] - 16s 265us/step - loss: 0.1232 - val_loss: 0.1208\n",
      "Epoch 27/50\n",
      "60000/60000 [==============================] - 18s 297us/step - loss: 0.1215 - val_loss: 0.1192\n",
      "Epoch 28/50\n",
      "60000/60000 [==============================] - 16s 263us/step - loss: 0.1199 - val_loss: 0.1176\n",
      "Epoch 29/50\n",
      "60000/60000 [==============================] - 15s 250us/step - loss: 0.1184 - val_loss: 0.1161\n",
      "Epoch 30/50\n",
      "60000/60000 [==============================] - 17s 281us/step - loss: 0.1170 - val_loss: 0.1148\n",
      "Epoch 31/50\n",
      "60000/60000 [==============================] - 17s 276us/step - loss: 0.1157 - val_loss: 0.1134\n",
      "Epoch 32/50\n",
      "60000/60000 [==============================] - 18s 301us/step - loss: 0.1144 - val_loss: 0.1122\n",
      "Epoch 33/50\n",
      "60000/60000 [==============================] - 15s 248us/step - loss: 0.1132 - val_loss: 0.1111\n",
      "Epoch 34/50\n",
      "60000/60000 [==============================] - 16s 261us/step - loss: 0.1121 - val_loss: 0.1100\n",
      "Epoch 35/50\n",
      "60000/60000 [==============================] - 15s 249us/step - loss: 0.1111 - val_loss: 0.1090\n",
      "Epoch 36/50\n",
      "60000/60000 [==============================] - 15s 251us/step - loss: 0.1102 - val_loss: 0.1081\n",
      "Epoch 37/50\n",
      "60000/60000 [==============================] - 16s 272us/step - loss: 0.1093 - val_loss: 0.1073\n",
      "Epoch 38/50\n",
      "60000/60000 [==============================] - 17s 290us/step - loss: 0.1085 - val_loss: 0.1065\n",
      "Epoch 39/50\n",
      "60000/60000 [==============================] - 17s 287us/step - loss: 0.1077 - val_loss: 0.1057\n",
      "Epoch 40/50\n",
      "60000/60000 [==============================] - 16s 258us/step - loss: 0.1070 - val_loss: 0.1050\n",
      "Epoch 41/50\n",
      "60000/60000 [==============================] - 15s 245us/step - loss: 0.1063 - val_loss: 0.1043\n",
      "Epoch 42/50\n",
      "60000/60000 [==============================] - 15s 247us/step - loss: 0.1057 - val_loss: 0.1038\n",
      "Epoch 43/50\n",
      "60000/60000 [==============================] - 15s 256us/step - loss: 0.1051 - val_loss: 0.1032\n",
      "Epoch 44/50\n",
      "60000/60000 [==============================] - 15s 256us/step - loss: 0.1045 - val_loss: 0.1026\n",
      "Epoch 45/50\n",
      "60000/60000 [==============================] - 16s 274us/step - loss: 0.1040 - val_loss: 0.1021\n",
      "Epoch 46/50\n",
      "60000/60000 [==============================] - 17s 280us/step - loss: 0.1035 - val_loss: 0.1017\n",
      "Epoch 47/50\n",
      "60000/60000 [==============================] - 17s 281us/step - loss: 0.1031 - val_loss: 0.1012\n",
      "Epoch 48/50\n",
      "60000/60000 [==============================] - 15s 256us/step - loss: 0.1026 - val_loss: 0.1008\n",
      "Epoch 49/50\n",
      "60000/60000 [==============================] - 15s 250us/step - loss: 0.1023 - val_loss: 0.1005\n",
      "Epoch 50/50\n",
      "60000/60000 [==============================] - 15s 250us/step - loss: 0.1019 - val_loss: 0.1001\n"
     ]
    },
    {
     "data": {
      "text/plain": [
       "<keras.callbacks.History at 0xb381e8a90>"
      ]
     },
     "execution_count": 12,
     "metadata": {},
     "output_type": "execute_result"
    }
   ],
   "source": [
    "autoencoder.fit(x_train, x_train,\n",
    "               epochs = 50,\n",
    "               batch_size = 256,\n",
    "               shuffle = True,\n",
    "               validation_data = (x_test, x_test))"
   ]
  },
  {
   "cell_type": "code",
   "execution_count": 13,
   "metadata": {},
   "outputs": [],
   "source": [
    "encoded_imgs = encoder.predict(x_test)\n",
    "decoded_imgs = decoder.predict(encoded_imgs)"
   ]
  },
  {
   "cell_type": "code",
   "execution_count": 15,
   "metadata": {},
   "outputs": [
    {
     "data": {
      "image/png": "[encoded data removed]",
      "text/plain": [
       "<Figure size 1440x288 with 20 Axes>"
      ]
     },
     "metadata": {},
     "output_type": "display_data"
    }
   ],
   "source": [
    "import matplotlib.pyplot as plt\n",
    "\n",
    "n = 10\n",
    "plt.figure(figsize = (20, 4))\n",
    "for i in range(n):\n",
    "    ax = plt.subplot(2, n, i+1)\n",
    "    plt.imshow(x_test[i].reshape(28, 28))\n",
    "    plt.gray()\n",
    "    \n",
    "    ax = plt.subplot(2, n, i+1 + n)\n",
    "    plt.imshow(decoded_imgs[i].reshape(28, 28))\n",
    "    plt.gray()\n",
    "plt.show()"
   ]
  }
 ],
 "metadata": {
  "kernelspec": {
   "display_name": "Python 3",
   "language": "python",
   "name": "python3"
  },
  "language_info": {
   "codemirror_mode": {
    "name": "ipython",
    "version": 3
   },
   "file_extension": ".py",
   "mimetype": "text/x-python",
   "name": "python",
   "nbconvert_exporter": "python",
   "pygments_lexer": "ipython3",
   "version": "3.6.5"
  }
 },
 "nbformat": 4,
 "nbformat_minor": 2
}
