{
  "nbformat": 4,
  "nbformat_minor": 0,
  "metadata": {
    "colab": {
      "name": "Q-Learning_OpenGenus.ipynb",
      "provenance": [],
      "collapsed_sections": []
    },
    "kernelspec": {
      "name": "python3",
      "display_name": "Python 3"
    },
    "accelerator": "GPU"
  },
  "cells": [
    {
      "cell_type": "markdown",
      "metadata": {
        "id": "Nrcytm9HnDkI",
        "colab_type": "text"
      },
      "source": [
        "# I. Q-Learning - Table approach"
      ]
    },
    {
      "cell_type": "code",
      "metadata": {
        "id": "fC9d2GXQnAvp",
        "colab_type": "code",
        "colab": {}
      },
      "source": [
        "import random\n",
        "import numpy as np\n",
        "import pandas as pd\n",
        "import tensorflow as tf\n",
        "import matplotlib.pyplot as plt\n",
        "import gym\n",
        "\n",
        "from collections import deque\n",
        "from time import time"
      ],
      "execution_count": 0,
      "outputs": []
    },
    {
      "cell_type": "code",
      "metadata": {
        "id": "x5TH5NPrnfyI",
        "colab_type": "code",
        "outputId": "6cc3d02f-29f4-4b68-aeb3-2daca6d4e95d",
        "colab": {
          "base_uri": "https://localhost:8080/",
          "height": 35
        }
      },
      "source": [
        "seed = 2205\n",
        "random.seed(seed)\n",
        "\n",
        "print('Seed: {}'.format(seed))"
      ],
      "execution_count": 0,
      "outputs": [
        {
          "output_type": "stream",
          "text": [
            "Seed: 2205\n"
          ],
          "name": "stdout"
        }
      ]
    },
    {
      "cell_type": "markdown",
      "metadata": {
        "id": "PG6dN6trnqdF",
        "colab_type": "text"
      },
      "source": [
        "##Game Design"
      ]
    },
    {
      "cell_type": "markdown",
      "metadata": {
        "id": "DjE-BXUPntvI",
        "colab_type": "text"
      },
      "source": [
        "There exists a board with 4 cells. The Q-agent will receive a +1 reward every time it fills a vacant cell, and will receive a -1 penalty when it tries to fill an already filled cell.\n",
        "\n",
        "The game ends when the board is full.\n",
        "\n"
      ]
    },
    {
      "cell_type": "code",
      "metadata": {
        "id": "J-i-4Vw7nogO",
        "colab_type": "code",
        "colab": {}
      },
      "source": [
        "class Game:\n",
        "  \n",
        "  board = None\n",
        "  board_size = 0\n",
        "  \n",
        "  def __init__(self, board_size = 4):\n",
        "    self.board_size = board_size\n",
        "    self.reset()\n",
        "    \n",
        "  def reset(self):\n",
        "    self.board = np.zeros(self.board_size)\n",
        "    \n",
        "  def play(self, cell):\n",
        "    ## Returns a tuple: (reward, game_over?)\n",
        "    if self.board[cell] == 0:\n",
        "      self.board[cell] = 1\n",
        "      game_over = len(np.where(self.board == 0)[0]) == 0\n",
        "      return (1, game_over)\n",
        "    else:\n",
        "      return (-1, False)"
      ],
      "execution_count": 0,
      "outputs": []
    },
    {
      "cell_type": "code",
      "metadata": {
        "id": "VhMs6jaPos5M",
        "colab_type": "code",
        "outputId": "8b3f7745-001c-4466-bbf6-655c3b776e99",
        "colab": {
          "base_uri": "https://localhost:8080/",
          "height": 321
        }
      },
      "source": [
        "def state_to_str(state):\n",
        "  return str(list(map(int, state.tolist())))\n",
        "\n",
        "all_states = list()\n",
        "for i in range(2):\n",
        "  for j in range(2):\n",
        "    for k in range(2):\n",
        "      for l in range(2):\n",
        "        s = np.array([i, j, k, l])\n",
        "        all_states.append(state_to_str(s))\n",
        "\n",
        "print('All possible states are: ')\n",
        "for s in all_states:\n",
        "  print(s)"
      ],
      "execution_count": 0,
      "outputs": [
        {
          "output_type": "stream",
          "text": [
            "All possible states are: \n",
            "[0, 0, 0, 0]\n",
            "[0, 0, 0, 1]\n",
            "[0, 0, 1, 0]\n",
            "[0, 0, 1, 1]\n",
            "[0, 1, 0, 0]\n",
            "[0, 1, 0, 1]\n",
            "[0, 1, 1, 0]\n",
            "[0, 1, 1, 1]\n",
            "[1, 0, 0, 0]\n",
            "[1, 0, 0, 1]\n",
            "[1, 0, 1, 0]\n",
            "[1, 0, 1, 1]\n",
            "[1, 1, 0, 0]\n",
            "[1, 1, 0, 1]\n",
            "[1, 1, 1, 0]\n",
            "[1, 1, 1, 1]\n"
          ],
          "name": "stdout"
        }
      ]
    },
    {
      "cell_type": "markdown",
      "metadata": {
        "id": "13rUr5OVpTge",
        "colab_type": "text"
      },
      "source": [
        "Initializing the game:"
      ]
    },
    {
      "cell_type": "code",
      "metadata": {
        "id": "b3oYifvnpGAU",
        "colab_type": "code",
        "colab": {}
      },
      "source": [
        "game = Game()"
      ],
      "execution_count": 0,
      "outputs": []
    },
    {
      "cell_type": "markdown",
      "metadata": {
        "id": "YTcYkolgpbNr",
        "colab_type": "text"
      },
      "source": [
        "## Q-Learning"
      ]
    },
    {
      "cell_type": "code",
      "metadata": {
        "id": "FCBsp5cgpW_o",
        "colab_type": "code",
        "colab": {}
      },
      "source": [
        "num_of_games = 2000\n",
        "epsilon = 0.1\n",
        "gamma = 1"
      ],
      "execution_count": 0,
      "outputs": []
    },
    {
      "cell_type": "markdown",
      "metadata": {
        "id": "My1XivF3ppli",
        "colab_type": "text"
      },
      "source": [
        "Initializing the Q-Table:"
      ]
    },
    {
      "cell_type": "code",
      "metadata": {
        "id": "ArHwI7kEpowo",
        "colab_type": "code",
        "colab": {}
      },
      "source": [
        "q_table = pd.DataFrame(0, \n",
        "                       index = np.arange(4),\n",
        "                       columns = all_states)"
      ],
      "execution_count": 0,
      "outputs": []
    },
    {
      "cell_type": "markdown",
      "metadata": {
        "id": "nXwaRzbUp4Eu",
        "colab_type": "text"
      },
      "source": [
        "Letting the agent play and learn:"
      ]
    },
    {
      "cell_type": "code",
      "metadata": {
        "id": "yW--SweBpzuV",
        "colab_type": "code",
        "outputId": "e775e65f-0dd5-4a6b-8ead-0c03b96d5c04",
        "colab": {
          "base_uri": "https://localhost:8080/",
          "height": 247
        }
      },
      "source": [
        "r_list = [] ##Stores the total reward of each game so we can plot it later\n",
        "\n",
        "for g in range(num_of_games):\n",
        "  game_over = False\n",
        "  game.reset()\n",
        "  total_reward = 0\n",
        "  \n",
        "  while not game_over:\n",
        "    state = np.copy(game.board)\n",
        "    if random.random() < epsilon:\n",
        "      action = random.randint(0, 3)\n",
        "    else:\n",
        "      action = q_table[state_to_str(state)].idxmax()\n",
        "    \n",
        "    reward, game_over = game.play(action)\n",
        "    total_reward += reward\n",
        "    if np.sum(game.board) == 4:  ##Terminal state\n",
        "      next_state_max_q_value = 0\n",
        "    else:\n",
        "      next_state = np.copy(game.board)\n",
        "      next_state_max_q_value = q_table[state_to_str(next_state)].max()\n",
        "    q_table.loc[action, state_to_str(state)] = reward + gamma * next_state_max_q_value\n",
        "  r_list.append(total_reward)\n",
        "q_table"
      ],
      "execution_count": 0,
      "outputs": [
        {
          "output_type": "execute_result",
          "data": {
            "text/html": [
              "<div>\n",
              "<style scoped>\n",
              "    .dataframe tbody tr th:only-of-type {\n",
              "        vertical-align: middle;\n",
              "    }\n",
              "\n",
              "    .dataframe tbody tr th {\n",
              "        vertical-align: top;\n",
              "    }\n",
              "\n",
              "    .dataframe thead th {\n",
              "        text-align: right;\n",
              "    }\n",
              "</style>\n",
              "<table border=\"1\" class=\"dataframe\">\n",
              "  <thead>\n",
              "    <tr style=\"text-align: right;\">\n",
              "      <th></th>\n",
              "      <th>[0, 0, 0, 0]</th>\n",
              "      <th>[0, 0, 0, 1]</th>\n",
              "      <th>[0, 0, 1, 0]</th>\n",
              "      <th>[0, 0, 1, 1]</th>\n",
              "      <th>[0, 1, 0, 0]</th>\n",
              "      <th>[0, 1, 0, 1]</th>\n",
              "      <th>[0, 1, 1, 0]</th>\n",
              "      <th>[0, 1, 1, 1]</th>\n",
              "      <th>[1, 0, 0, 0]</th>\n",
              "      <th>[1, 0, 0, 1]</th>\n",
              "      <th>[1, 0, 1, 0]</th>\n",
              "      <th>[1, 0, 1, 1]</th>\n",
              "      <th>[1, 1, 0, 0]</th>\n",
              "      <th>[1, 1, 0, 1]</th>\n",
              "      <th>[1, 1, 1, 0]</th>\n",
              "      <th>[1, 1, 1, 1]</th>\n",
              "    </tr>\n",
              "  </thead>\n",
              "  <tbody>\n",
              "    <tr>\n",
              "      <th>0</th>\n",
              "      <td>4</td>\n",
              "      <td>3</td>\n",
              "      <td>3</td>\n",
              "      <td>2</td>\n",
              "      <td>3</td>\n",
              "      <td>0</td>\n",
              "      <td>2</td>\n",
              "      <td>0</td>\n",
              "      <td>2</td>\n",
              "      <td>-1</td>\n",
              "      <td>1</td>\n",
              "      <td>-1</td>\n",
              "      <td>1</td>\n",
              "      <td>0</td>\n",
              "      <td>0</td>\n",
              "      <td>0</td>\n",
              "    </tr>\n",
              "    <tr>\n",
              "      <th>1</th>\n",
              "      <td>4</td>\n",
              "      <td>0</td>\n",
              "      <td>3</td>\n",
              "      <td>0</td>\n",
              "      <td>2</td>\n",
              "      <td>0</td>\n",
              "      <td>0</td>\n",
              "      <td>0</td>\n",
              "      <td>3</td>\n",
              "      <td>2</td>\n",
              "      <td>2</td>\n",
              "      <td>1</td>\n",
              "      <td>1</td>\n",
              "      <td>0</td>\n",
              "      <td>0</td>\n",
              "      <td>0</td>\n",
              "    </tr>\n",
              "    <tr>\n",
              "      <th>2</th>\n",
              "      <td>4</td>\n",
              "      <td>3</td>\n",
              "      <td>2</td>\n",
              "      <td>0</td>\n",
              "      <td>0</td>\n",
              "      <td>0</td>\n",
              "      <td>0</td>\n",
              "      <td>0</td>\n",
              "      <td>3</td>\n",
              "      <td>2</td>\n",
              "      <td>1</td>\n",
              "      <td>0</td>\n",
              "      <td>2</td>\n",
              "      <td>1</td>\n",
              "      <td>0</td>\n",
              "      <td>0</td>\n",
              "    </tr>\n",
              "    <tr>\n",
              "      <th>3</th>\n",
              "      <td>4</td>\n",
              "      <td>0</td>\n",
              "      <td>2</td>\n",
              "      <td>0</td>\n",
              "      <td>0</td>\n",
              "      <td>0</td>\n",
              "      <td>0</td>\n",
              "      <td>0</td>\n",
              "      <td>3</td>\n",
              "      <td>1</td>\n",
              "      <td>2</td>\n",
              "      <td>0</td>\n",
              "      <td>2</td>\n",
              "      <td>0</td>\n",
              "      <td>1</td>\n",
              "      <td>0</td>\n",
              "    </tr>\n",
              "  </tbody>\n",
              "</table>\n",
              "</div>"
            ],
            "text/plain": [
              "   [0, 0, 0, 0]  [0, 0, 0, 1]  ...  [1, 1, 1, 0]  [1, 1, 1, 1]\n",
              "0             4             3  ...             0             0\n",
              "1             4             0  ...             0             0\n",
              "2             4             3  ...             0             0\n",
              "3             4             0  ...             1             0\n",
              "\n",
              "[4 rows x 16 columns]"
            ]
          },
          "metadata": {
            "tags": []
          },
          "execution_count": 9
        }
      ]
    },
    {
      "cell_type": "markdown",
      "metadata": {
        "id": "edwSIGCoryCL",
        "colab_type": "text"
      },
      "source": [
        "Let's verify that the agent indeed learnt a correct strategy by seeing what action it will choose in each one of the possible states"
      ]
    },
    {
      "cell_type": "code",
      "metadata": {
        "id": "Gwo52TJ7rtPJ",
        "colab_type": "code",
        "outputId": "27e7bc3a-e34d-4455-ad7a-a9647acbf90b",
        "colab": {
          "base_uri": "https://localhost:8080/",
          "height": 305
        }
      },
      "source": [
        "for i in range(2):\n",
        "  for j in range(2):\n",
        "    for k in range(2):\n",
        "      for l in range(2):\n",
        "        b = np.array([i, j, k, l])\n",
        "        if len(np.where(b == 0)[0]) != 0:\n",
        "          action = q_table[state_to_str(b)].idxmax()\n",
        "          pred = q_table[state_to_str(b)].tolist()\n",
        "          print('Board: {b}\\tPredicted Q-values: {p}\\tBest action: {a}\\tCorrect action? {s}'\n",
        "               .format(b = b, p = pred, a = action, s = b[action]==0))"
      ],
      "execution_count": 0,
      "outputs": [
        {
          "output_type": "stream",
          "text": [
            "Board: [0 0 0 0]\tPredicted Q-values: [4, 4, 4, 4]\tBest action: 0\tCorrect action? True\n",
            "Board: [0 0 0 1]\tPredicted Q-values: [3, 0, 3, 0]\tBest action: 0\tCorrect action? True\n",
            "Board: [0 0 1 0]\tPredicted Q-values: [3, 3, 2, 2]\tBest action: 0\tCorrect action? True\n",
            "Board: [0 0 1 1]\tPredicted Q-values: [2, 0, 0, 0]\tBest action: 0\tCorrect action? True\n",
            "Board: [0 1 0 0]\tPredicted Q-values: [3, 2, 0, 0]\tBest action: 0\tCorrect action? True\n",
            "Board: [0 1 0 1]\tPredicted Q-values: [0, 0, 0, 0]\tBest action: 0\tCorrect action? True\n",
            "Board: [0 1 1 0]\tPredicted Q-values: [2, 0, 0, 0]\tBest action: 0\tCorrect action? True\n",
            "Board: [0 1 1 1]\tPredicted Q-values: [0, 0, 0, 0]\tBest action: 0\tCorrect action? True\n",
            "Board: [1 0 0 0]\tPredicted Q-values: [2, 3, 3, 3]\tBest action: 1\tCorrect action? True\n",
            "Board: [1 0 0 1]\tPredicted Q-values: [-1, 2, 2, 1]\tBest action: 1\tCorrect action? True\n",
            "Board: [1 0 1 0]\tPredicted Q-values: [1, 2, 1, 2]\tBest action: 1\tCorrect action? True\n",
            "Board: [1 0 1 1]\tPredicted Q-values: [-1, 1, 0, 0]\tBest action: 1\tCorrect action? True\n",
            "Board: [1 1 0 0]\tPredicted Q-values: [1, 1, 2, 2]\tBest action: 2\tCorrect action? True\n",
            "Board: [1 1 0 1]\tPredicted Q-values: [0, 0, 1, 0]\tBest action: 2\tCorrect action? True\n",
            "Board: [1 1 1 0]\tPredicted Q-values: [0, 0, 0, 1]\tBest action: 3\tCorrect action? True\n"
          ],
          "name": "stdout"
        }
      ]
    },
    {
      "cell_type": "markdown",
      "metadata": {
        "id": "qFYAnBc1tteR",
        "colab_type": "text"
      },
      "source": [
        "We can improve the performance of our algorithm by increasing the <math xmlns=\"http://www.w3.org/1998/Math/MathML\"><mi>&#x3B5;</mi></math> (epsilon) value (which controls how much the algorithm can explore), or by letting the agent play more games."
      ]
    },
    {
      "cell_type": "markdown",
      "metadata": {
        "id": "xu13o5eduKvC",
        "colab_type": "text"
      },
      "source": [
        "Let's plot the total reward the agent received per game:"
      ]
    },
    {
      "cell_type": "code",
      "metadata": {
        "id": "ex2SsbBvtK2k",
        "colab_type": "code",
        "outputId": "50e81ebd-138a-4440-9540-aa6e2c109846",
        "colab": {
          "base_uri": "https://localhost:8080/",
          "height": 466
        }
      },
      "source": [
        "plt.figure(figsize = (14, 7))\n",
        "plt.plot(range(len(r_list)), r_list)\n",
        "plt.xlabel('Games played')\n",
        "plt.ylabel('Reward')\n",
        "plt.show()"
      ],
      "execution_count": 0,
      "outputs": [
        {
          "output_type": "display_data",
          "data": {
            "image/png": "[encoded data removed]",
            "text/plain": [
              "<Figure size 1008x504 with 1 Axes>"
            ]
          },
          "metadata": {
            "tags": []
          }
        }
      ]
    }
  ]
}