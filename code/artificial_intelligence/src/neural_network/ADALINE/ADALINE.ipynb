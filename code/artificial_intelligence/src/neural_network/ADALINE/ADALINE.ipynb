/* Part of Cosmos by OpenGenus Foundation */
{
 "cells": [
  {
   "cell_type": "markdown",
   "metadata": {},
   "source": [
    "# Adaline\n",
    "___\n",
    "\n",
    "1) Use classdata to train and classdataVal to evaluate."
   ]
  },
  {
   "cell_type": "code",
   "execution_count": 24,
   "metadata": {},
   "outputs": [
    {
     "data": {
      "text/html": [
       "<div>\n",
       "<style scoped>\n",
       "    .dataframe tbody tr th:only-of-type {\n",
       "        vertical-align: middle;\n",
       "    }\n",
       "\n",
       "    .dataframe tbody tr th {\n",
       "        vertical-align: top;\n",
       "    }\n",
       "\n",
       "    .dataframe thead th {\n",
       "        text-align: right;\n",
       "    }\n",
       "</style>\n",
       "<table border=\"1\" class=\"dataframe\">\n",
       "  <thead>\n",
       "    <tr style=\"text-align: right;\">\n",
       "      <th></th>\n",
       "      <th>x1</th>\n",
       "      <th>x2</th>\n",
       "      <th>class</th>\n",
       "    </tr>\n",
       "  </thead>\n",
       "  <tbody>\n",
       "    <tr>\n",
       "      <th>0</th>\n",
       "      <td>-0.94</td>\n",
       "      <td>-0.78</td>\n",
       "      <td>0</td>\n",
       "    </tr>\n",
       "    <tr>\n",
       "      <th>1</th>\n",
       "      <td>0.73</td>\n",
       "      <td>0.35</td>\n",
       "      <td>1</td>\n",
       "    </tr>\n",
       "    <tr>\n",
       "      <th>2</th>\n",
       "      <td>0.04</td>\n",
       "      <td>0.27</td>\n",
       "      <td>1</td>\n",
       "    </tr>\n",
       "    <tr>\n",
       "      <th>3</th>\n",
       "      <td>-0.80</td>\n",
       "      <td>-0.69</td>\n",
       "      <td>0</td>\n",
       "    </tr>\n",
       "    <tr>\n",
       "      <th>4</th>\n",
       "      <td>0.89</td>\n",
       "      <td>0.82</td>\n",
       "      <td>1</td>\n",
       "    </tr>\n",
       "  </tbody>\n",
       "</table>\n",
       "</div>"
      ],
      "text/plain": [
       "     x1    x2  class\n",
       "0 -0.94 -0.78      0\n",
       "1  0.73  0.35      1\n",
       "2  0.04  0.27      1\n",
       "3 -0.80 -0.69      0\n",
       "4  0.89  0.82      1"
      ]
     },
     "execution_count": 24,
     "metadata": {},
     "output_type": "execute_result"
    }
   ],
   "source": [
    "%matplotlib inline\n",
    "import pandas as pd\n",
    "import numpy as np\n",
    "import matplotlib.pyplot as plt\n",
    "\n",
    "# Import data\n",
    "classdata = pd.read_csv('classdata.csv', header=None, names=['x1', 'x2', 'class']).sample(frac=1).reset_index(drop=True)\n",
    "classdata.head()"
   ]
  },
  {
   "cell_type": "markdown",
   "metadata": {},
   "source": [
    "Init weights, learning rate, maximum epochs, etc."
   ]
  },
  {
   "cell_type": "code",
   "execution_count": 25,
   "metadata": {},
   "outputs": [],
   "source": [
    "N = len(classdata)\n",
    "M = len(classdata.columns)\n",
    "W = pd.Series(np.random.normal(scale=1/N, size=(M,)), index = classdata.columns[:-1].append(pd.Index(['b'])))\n",
    "W_list = [W.copy()]\n",
    "ETA = 0.01\n",
    "epoch = 0\n",
    "max_epoch = 350\n",
    "SE = 1\n",
    "alpha = 1\n",
    "SE_list = []"
   ]
  },
  {
   "cell_type": "markdown",
   "metadata": {},
   "source": [
    "Sigmoid Function"
   ]
  },
  {
   "cell_type": "code",
   "execution_count": 26,
   "metadata": {},
   "outputs": [],
   "source": [
    "def sigmoid(x):\n",
    "    return 1 / (1 + np.exp(-alpha*x))"
   ]
  },
  {
   "cell_type": "markdown",
   "metadata": {},
   "source": [
    "Activation function:"
   ]
  },
  {
   "cell_type": "code",
   "execution_count": 27,
   "metadata": {},
   "outputs": [],
   "source": [
    "def activacion(x):\n",
    "    v = W.dot(x)\n",
    "    return sigmoid(v)"
   ]
  },
  {
   "cell_type": "markdown",
   "metadata": {},
   "source": [
    "LMS:"
   ]
  },
  {
   "cell_type": "code",
   "execution_count": 28,
   "metadata": {},
   "outputs": [],
   "source": [
    "while SE > 2e-5 and epoch < max_epoch:\n",
    "    SE = 0\n",
    "    # Iteramos sobre las muestras\n",
    "    for n in range(N):\n",
    "        x = classdata.iloc[n, [0, 1]] # tomamos la n-ésima muestra\n",
    "        x = x.append(pd.Series([1], index=['b'])) # agregamos el sesgo\n",
    "        d = classdata.iloc[n, 2] # la clase esperada\n",
    "        \n",
    "        y = activacion(x) # calculamos la salida\n",
    "        \n",
    "        error = d - y\n",
    "        SE += error**2\n",
    "        \n",
    "        W += ETA*error*x # actualizamos los pesos\n",
    "        \n",
    "    SE /= 2\n",
    "    SE_list.append(SE)\n",
    "    W_list.append(W.copy())\n",
    "    epoch += 1"
   ]
  },
  {
   "cell_type": "markdown",
   "metadata": {},
   "source": [
    "Learning curve:"
   ]
  },
  {
   "cell_type": "code",
   "execution_count": 29,
   "metadata": {},
   "outputs": [
    {
     "name": "stdout",
     "output_type": "stream",
     "text": [
      "345    0.144669\n",
      "346    0.144398\n",
      "347    0.144128\n",
      "348    0.143859\n",
      "349    0.143591\n",
      "dtype: float64\n"
     ]
    },
    {
     "data": {
      "image/png": "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\n",
      "text/plain": [
       "<matplotlib.figure.Figure at 0x7f78886bae48>"
      ]
     },
     "metadata": {},
     "output_type": "display_data"
    }
   ],
   "source": [
    "pd.Series(SE_list).plot.line(figsize=(12,4))\n",
    "print(pd.Series(SE_list).tail())"
   ]
  },
  {
   "cell_type": "markdown",
   "metadata": {},
   "source": [
    "Red line is initial classification line, cyan line is final classification line:"
   ]
  },
  {
   "cell_type": "code",
   "execution_count": 30,
   "metadata": {},
   "outputs": [
    {
     "data": {
      "text/plain": [
       "[<matplotlib.lines.Line2D at 0x7f78885639b0>]"
      ]
     },
     "execution_count": 30,
     "metadata": {},
     "output_type": "execute_result"
    },
    {
     "data": {
      "image/png": "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
