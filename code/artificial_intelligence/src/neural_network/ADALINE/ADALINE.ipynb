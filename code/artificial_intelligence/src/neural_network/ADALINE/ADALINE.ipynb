{
 "cells": [
  {
   "cell_type": "markdown",
   "metadata": {},
   "source": [
    "# Adaline\n",
    "___\n",
    "\n",
    "1) Use classdata to train and classdataVal to evaluate."
   ]
  },
  {
   "cell_type": "code",
   "execution_count": 24,
   "metadata": {},
   "outputs": [
    {
     "data": {
      "text/html": [
       "<div>\n",
       "<style scoped>\n",
       "    .dataframe tbody tr th:only-of-type {\n",
       "        vertical-align: middle;\n",
       "    }\n",
       "\n",
       "    .dataframe tbody tr th {\n",
       "        vertical-align: top;\n",
       "    }\n",
       "\n",
       "    .dataframe thead th {\n",
       "        text-align: right;\n",
       "    }\n",
       "</style>\n",
       "<table border=\"1\" class=\"dataframe\">\n",
       "  <thead>\n",
       "    <tr style=\"text-align: right;\">\n",
       "      <th></th>\n",
       "      <th>x1</th>\n",
       "      <th>x2</th>\n",
       "      <th>class</th>\n",
       "    </tr>\n",
       "  </thead>\n",
       "  <tbody>\n",
       "    <tr>\n",
       "      <th>0</th>\n",
       "      <td>-0.94</td>\n",
       "      <td>-0.78</td>\n",
       "      <td>0</td>\n",
       "    </tr>\n",
       "    <tr>\n",
       "      <th>1</th>\n",
       "      <td>0.73</td>\n",
       "      <td>0.35</td>\n",
       "      <td>1</td>\n",
       "    </tr>\n",
       "    <tr>\n",
       "      <th>2</th>\n",
       "      <td>0.04</td>\n",
       "      <td>0.27</td>\n",
       "      <td>1</td>\n",
       "    </tr>\n",
       "    <tr>\n",
       "      <th>3</th>\n",
       "      <td>-0.80</td>\n",
       "      <td>-0.69</td>\n",
       "      <td>0</td>\n",
       "    </tr>\n",
       "    <tr>\n",
       "      <th>4</th>\n",
       "      <td>0.89</td>\n",
       "      <td>0.82</td>\n",
       "      <td>1</td>\n",
       "    </tr>\n",
       "  </tbody>\n",
       "</table>\n",
       "</div>"
      ],
      "text/plain": [
       "     x1    x2  class\n",
       "0 -0.94 -0.78      0\n",
       "1  0.73  0.35      1\n",
       "2  0.04  0.27      1\n",
       "3 -0.80 -0.69      0\n",
       "4  0.89  0.82      1"
      ]
     },
     "execution_count": 24,
     "metadata": {},
     "output_type": "execute_result"
    }
   ],
   "source": [
    "%matplotlib inline\n",
    "import pandas as pd\n",
    "import numpy as np\n",
    "import matplotlib.pyplot as plt\n",
    "\n",
    "# Import data\n",
    "classdata = pd.read_csv('classdata.csv', header=None, names=['x1', 'x2', 'class']).sample(frac=1).reset_index(drop=True)\n",
    "classdata.head()"
   ]
  },
  {
   "cell_type": "markdown",
   "metadata": {},
   "source": [
    "Init weights, learning rate, maximum epochs, etc."
   ]
  },
  {
   "cell_type": "code",
   "execution_count": 25,
   "metadata": {},
   "outputs": [],
   "source": [
    "N = len(classdata)\n",
    "M = len(classdata.columns)\n",
    "W = pd.Series(np.random.normal(scale=1/N, size=(M,)), index = classdata.columns[:-1].append(pd.Index(['b'])))\n",
    "W_list = [W.copy()]\n",
    "ETA = 0.01\n",
    "epoch = 0\n",
    "max_epoch = 350\n",
    "SE = 1\n",
    "alpha = 1\n",
    "SE_list = []"
   ]
  },
  {
   "cell_type": "markdown",
   "metadata": {},
   "source": [
    "Sigmoid Function"
   ]
  },
  {
   "cell_type": "code",
   "execution_count": 26,
   "metadata": {},
   "outputs": [],
   "source": [
    "def sigmoid(x):\n",
    "    return 1 / (1 + np.exp(-alpha*x))"
   ]
  },
  {
   "cell_type": "markdown",
   "metadata": {},
   "source": [
    "Activation function:"
   ]
  },
  {
   "cell_type": "code",
   "execution_count": 27,
   "metadata": {},
   "outputs": [],
   "source": [
    "def activacion(x):\n",
    "    v = W.dot(x)\n",
    "    return sigmoid(v)"
   ]
  },
  {
   "cell_type": "markdown",
   "metadata": {},
   "source": [
    "LMS:"
   ]
  },
  {
   "cell_type": "code",
   "execution_count": 28,
   "metadata": {},
   "outputs": [],
   "source": [
    "while SE > 2e-5 and epoch < max_epoch:\n",
    "    SE = 0\n",
    "    # Iteramos sobre las muestras\n",
    "    for n in range(N):\n",
    "        x = classdata.iloc[n, [0, 1]] # tomamos la n-ésima muestra\n",
    "        x = x.append(pd.Series([1], index=['b'])) # agregamos el sesgo\n",
    "        d = classdata.iloc[n, 2] # la clase esperada\n",
    "        \n",
    "        y = activacion(x) # calculamos la salida\n",
    "        \n",
    "        error = d - y\n",
    "        SE += error**2\n",
    "        \n",
    "        W += ETA*error*x # actualizamos los pesos\n",
    "        \n",
    "    SE /= 2\n",
    "    SE_list.append(SE)\n",
    "    W_list.append(W.copy())\n",
    "    epoch += 1"
   ]
  },
  {
   "cell_type": "markdown",
   "metadata": {},
   "source": [
    "Learning curve:"
   ]
  },
  {
   "cell_type": "code",
   "execution_count": 29,
   "metadata": {},
   "outputs": [
    {
     "name": "stdout",
     "output_type": "stream",
     "text": [
      "345    0.144669\n",
      "346    0.144398\n",
      "347    0.144128\n",
      "348    0.143859\n",
      "349    0.143591\n",
      "dtype: float64\n"
     ]
    },
    {
     "data": {
      "image/png": "[encoded data removed]",
      "text/plain": [
       "<matplotlib.figure.Figure at 0x7f78886bae48>"
      ]
     },
     "metadata": {},
     "output_type": "display_data"
    }
   ],
   "source": [
    "pd.Series(SE_list).plot.line(figsize=(12,4))\n",
    "print(pd.Series(SE_list).tail())"
   ]
  },
  {
   "cell_type": "markdown",
   "metadata": {},
   "source": [
    "Red line is initial classification line, cyan line is final classification line:"
   ]
  },
  {
   "cell_type": "code",
   "execution_count": 30,
   "metadata": {},
   "outputs": [
    {
     "data": {
      "text/plain": [
       "[<matplotlib.lines.Line2D at 0x7f78885639b0>]"
      ]
     },
     "execution_count": 30,
     "metadata": {},
     "output_type": "execute_result"
    },
    {
     "data": {
      "image/png": "[encoded data removed]",
      "text/plain": [
       "<matplotlib.figure.Figure at 0x7f78885e0e80>"
      ]
     },
     "metadata": {},
     "output_type": "display_data"
    }
   ],
   "source": [
    "ax = classdata[classdata['class'] == 0].plot.scatter(x='x1', y='x2', color='green', label='Clase 0', figsize=(12,6))\n",
    "classdata[classdata['class'] == 1].plot.scatter(x='x1', y='x2', color='blue', label='Clase 1', ax=ax)\n",
    "\n",
    "w = W_list[0]\n",
    "x = np.linspace(-1.1, 1.1)\n",
    "color = 'red'\n",
    "plt.plot(x, -(w[2]+x*w[0])/w[1], color=color)\n",
    "\n",
    "w = W_list[-1]\n",
    "color = 'cyan'\n",
    "plt.plot(x, -(w[2]+x*w[0])/w[1], color=color)"
   ]
  },
  {
   "cell_type": "markdown",
   "metadata": {},
   "source": [
    "Let's validate data:"
   ]
  },
  {
   "cell_type": "code",
   "execution_count": 43,
   "metadata": {},
   "outputs": [
    {
     "data": {
      "text/html": [
       "<div>\n",
       "<style scoped>\n",
       "    .dataframe tbody tr th:only-of-type {\n",
       "        vertical-align: middle;\n",
       "    }\n",
       "\n",
       "    .dataframe tbody tr th {\n",
       "        vertical-align: top;\n",
       "    }\n",
       "\n",
       "    .dataframe thead th {\n",
       "        text-align: right;\n",
       "    }\n",
       "</style>\n",
       "<table border=\"1\" class=\"dataframe\">\n",
       "  <thead>\n",
       "    <tr style=\"text-align: right;\">\n",
       "      <th></th>\n",
       "      <th>x1</th>\n",
       "      <th>x2</th>\n",
       "    </tr>\n",
       "  </thead>\n",
       "  <tbody>\n",
       "    <tr>\n",
       "      <th>0</th>\n",
       "      <td>-0.58</td>\n",
       "      <td>-0.85</td>\n",
       "    </tr>\n",
       "    <tr>\n",
       "      <th>1</th>\n",
       "      <td>-0.71</td>\n",
       "      <td>-0.34</td>\n",
       "    </tr>\n",
       "    <tr>\n",
       "      <th>2</th>\n",
       "      <td>-0.89</td>\n",
       "      <td>-0.74</td>\n",
       "    </tr>\n",
       "    <tr>\n",
       "      <th>3</th>\n",
       "      <td>-0.62</td>\n",
       "      <td>-0.77</td>\n",
       "    </tr>\n",
       "    <tr>\n",
       "      <th>4</th>\n",
       "      <td>-0.19</td>\n",
       "      <td>-0.39</td>\n",
       "    </tr>\n",
       "    <tr>\n",
       "      <th>5</th>\n",
       "      <td>-0.31</td>\n",
       "      <td>-0.40</td>\n",
       "    </tr>\n",
       "    <tr>\n",
       "      <th>6</th>\n",
       "      <td>0.19</td>\n",
       "      <td>0.49</td>\n",
       "    </tr>\n",
       "    <tr>\n",
       "      <th>7</th>\n",
       "      <td>0.57</td>\n",
       "      <td>0.80</td>\n",
       "    </tr>\n",
       "    <tr>\n",
       "      <th>8</th>\n",
       "      <td>0.67</td>\n",
       "      <td>0.94</td>\n",
       "    </tr>\n",
       "    <tr>\n",
       "      <th>9</th>\n",
       "      <td>0.80</td>\n",
       "      <td>0.57</td>\n",
       "    </tr>\n",
       "    <tr>\n",
       "      <th>10</th>\n",
       "      <td>0.94</td>\n",
       "      <td>0.81</td>\n",
       "    </tr>\n",
       "    <tr>\n",
       "      <th>11</th>\n",
       "      <td>0.15</td>\n",
       "      <td>0.13</td>\n",
       "    </tr>\n",
       "  </tbody>\n",
       "</table>\n",
       "</div>"
      ],
      "text/plain": [
       "      x1    x2\n",
       "0  -0.58 -0.85\n",
       "1  -0.71 -0.34\n",
       "2  -0.89 -0.74\n",
       "3  -0.62 -0.77\n",
       "4  -0.19 -0.39\n",
       "5  -0.31 -0.40\n",
       "6   0.19  0.49\n",
       "7   0.57  0.80\n",
       "8   0.67  0.94\n",
       "9   0.80  0.57\n",
       "10  0.94  0.81\n",
       "11  0.15  0.13"
      ]
     },
     "execution_count": 43,
     "metadata": {},
     "output_type": "execute_result"
    }
   ],
   "source": [
    "validdata = pd.read_csv('classdataVal.csv',header=None, names=['x1', 'x2'])\n",
    "#validdata.insert(len(validdata.columns), 'predicted class', 0)\n",
    "validdata"
   ]
  },
  {
   "cell_type": "code",
   "execution_count": 50,
   "metadata": {},
   "outputs": [
    {
     "data": {
      "text/plain": [
       "[<matplotlib.lines.Line2D at 0x7f78881d4be0>]"
      ]
     },
     "execution_count": 50,
     "metadata": {},
     "output_type": "execute_result"
    },
    {
     "data": {
      "image/png": "[encoded data removed]",
      "text/plain": [
       "<matplotlib.figure.Figure at 0x7f78882d5198>"
      ]
     },
     "metadata": {},
     "output_type": "display_data"
    }
   ],
   "source": [
    "plt.figure(figsize=(12,6))\n",
    "legend = {\n",
    "    'blue': False,\n",
    "    'green': False\n",
    "}\n",
    "for i in range(len(validdata)):\n",
    "    x = validdata.iloc[i].append(pd.Series([1], index=['b']))\n",
    "    y = activacion(x)\n",
    "    label = None\n",
    "    if y >= 0.5:\n",
    "        color = 'blue'\n",
    "        if not legend[color]: # if not labeled yet\n",
    "            label = 'Clase 1'\n",
    "            legend[color] = True\n",
    "    else:\n",
    "        color = 'green'\n",
    "        if not legend[color]: # If not labeled yet\n",
    "            label = 'Clase 0'\n",
    "            legend[color] = True\n",
    "        \n",
    "    plt.scatter(x.loc['x1'], x.loc['x2'], color=color, label=label)\n",
    "\n",
    "plt.legend()\n",
    "plt.title('Datos de validación clasificados.')\n",
    "    \n",
    "x = np.linspace(-1.1, 1.1)\n",
    "color = 'cyan'\n",
    "plt.plot(x, -(w[2]+x*w[0])/w[1], color=color)"
   ]
  },
  {
   "cell_type": "code",
   "execution_count": null,
   "metadata": {},
   "outputs": [],
   "source": []
  }
 ],
 "metadata": {
  "kernelspec": {
   "display_name": "Python 3",
   "language": "python",
   "name": "python3"
  },
  "language_info": {
   "codemirror_mode": {
    "name": "ipython",
    "version": 3
   },
   "file_extension": ".py",
   "mimetype": "text/x-python",
   "name": "python",
   "nbconvert_exporter": "python",
   "pygments_lexer": "ipython3",
   "version": "3.5.2"
  }
 },
 "nbformat": 4,
 "nbformat_minor": 2
}
