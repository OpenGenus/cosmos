{
  "nbformat": 4,
  "nbformat_minor": 0,
  "metadata": {
    "accelerator": "GPU",
    "colab": {
      "name": "Horse_or_Human_WithAugmentation.ipynb",
      "provenance": [],
      "collapsed_sections": [],
      "toc_visible": true
    },
    "kernelspec": {
      "display_name": "Python 3",
      "language": "python",
      "name": "python3"
    },
    "language_info": {
      "codemirror_mode": {
        "name": "ipython",
        "version": 3
      },
      "file_extension": ".py",
      "mimetype": "text/x-python",
      "name": "python",
      "nbconvert_exporter": "python",
      "pygments_lexer": "ipython3",
      "version": "3.7.4"
    }
  },
  "cells": [
    {
      "cell_type": "code",
      "metadata": {
        "id": "RXZT2UsyIVe_",
        "outputId": "db7171d4-db28-4294-902b-68f0713d3a0c",
        "colab": {
          "base_uri": "https://localhost:8080/",
          "height": 391
        }
      },
      "source": [
        "!wget --no-check-certificate \\\n",
        "    https://storage.googleapis.com/laurencemoroney-blog.appspot.com/horse-or-human.zip \\\n",
        "    -O /tmp/horse-or-human.zip\n",
        "\n",
        "!wget --no-check-certificate \\\n",
        "    https://storage.googleapis.com/laurencemoroney-blog.appspot.com/validation-horse-or-human.zip \\\n",
        "    -O /tmp/validation-horse-or-human.zip"
      ],
      "execution_count": 1,
      "outputs": [
        {
          "output_type": "stream",
          "text": [
            "--2020-10-02 05:53:26--  https://storage.googleapis.com/laurencemoroney-blog.appspot.com/horse-or-human.zip\n",
            "Resolving storage.googleapis.com (storage.googleapis.com)... 74.125.195.128, 74.125.142.128, 74.125.20.128, ...\n",
            "Connecting to storage.googleapis.com (storage.googleapis.com)|74.125.195.128|:443... connected.\n",
            "HTTP request sent, awaiting response... 200 OK\n",
            "Length: 149574867 (143M) [application/zip]\n",
            "Saving to: ‘/tmp/horse-or-human.zip’\n",
            "\n",
            "/tmp/horse-or-human 100%[===================>] 142.65M   169MB/s    in 0.8s    \n",
            "\n",
            "2020-10-02 05:53:27 (169 MB/s) - ‘/tmp/horse-or-human.zip’ saved [149574867/149574867]\n",
            "\n",
            "--2020-10-02 05:53:27--  https://storage.googleapis.com/laurencemoroney-blog.appspot.com/validation-horse-or-human.zip\n",
            "Resolving storage.googleapis.com (storage.googleapis.com)... 74.125.195.128, 74.125.142.128, 74.125.20.128, ...\n",
            "Connecting to storage.googleapis.com (storage.googleapis.com)|74.125.195.128|:443... connected.\n",
            "HTTP request sent, awaiting response... 200 OK\n",
            "Length: 11480187 (11M) [application/zip]\n",
            "Saving to: ‘/tmp/validation-horse-or-human.zip’\n",
            "\n",
            "/tmp/validation-hor 100%[===================>]  10.95M  --.-KB/s    in 0.09s   \n",
            "\n",
            "2020-10-02 05:53:28 (128 MB/s) - ‘/tmp/validation-horse-or-human.zip’ saved [11480187/11480187]\n",
            "\n"
          ],
          "name": "stdout"
        }
      ]
    },
    {
      "cell_type": "code",
      "metadata": {
        "id": "pIWjir263o25"
      },
      "source": [
        "import os\n",
        "import zipfile\n",
        "\n",
        "local_zip = '/tmp/horse-or-human.zip'\n",
        "zip_ref = zipfile.ZipFile(local_zip, 'r')\n",
        "zip_ref.extractall('/tmp/horse-or-human')\n",
        "local_zip = '/tmp/validation-horse-or-human.zip'\n",
        "zip_ref = zipfile.ZipFile(local_zip, 'r')\n",
        "zip_ref.extractall('/tmp/validation-horse-or-human')\n",
        "zip_ref.close()\n"
      ],
      "execution_count": 2,
      "outputs": []
    },
    {
      "cell_type": "code",
      "metadata": {
        "id": "k_0L718_3uUK"
      },
      "source": [
        "train_horse_dir = os.path.join('/tmp/horse-or-human/horses')\n",
        "\n",
        "train_human_dir = os.path.join('/tmp/horse-or-human/humans')\n",
        "\n",
        "validation_horse_dir = os.path.join('/tmp/validation-horse-or-human/horses')\n",
        "\n",
        "validation_human_dir = os.path.join('/tmp/validation-horse-or-human/humans')"
      ],
      "execution_count": 3,
      "outputs": []
    },
    {
      "cell_type": "code",
      "metadata": {
        "id": "qvfZg3LQbD-5"
      },
      "source": [
        "import tensorflow as tf"
      ],
      "execution_count": 7,
      "outputs": []
    },
    {
      "cell_type": "code",
      "metadata": {
        "id": "PixZ2s5QbYQ3"
      },
      "source": [
        "model = tf.keras.models.Sequential([\n",
        "    \n",
        "    \n",
        "    tf.keras.layers.Conv2D(16, (3,3), activation='relu', input_shape=(300, 300, 3)),\n",
        "    tf.keras.layers.MaxPooling2D(2, 2),\n",
        "    \n",
        "    tf.keras.layers.Conv2D(32, (3,3), activation='relu'),\n",
        "    tf.keras.layers.MaxPooling2D(2,2),\n",
        "    \n",
        "    tf.keras.layers.Conv2D(64, (3,3), activation='relu'),\n",
        "    tf.keras.layers.MaxPooling2D(2,2),\n",
        "    \n",
        "    tf.keras.layers.Conv2D(64, (3,3), activation='relu'),\n",
        "    tf.keras.layers.MaxPooling2D(2,2),\n",
        "    \n",
        "    tf.keras.layers.Conv2D(64, (3,3), activation='relu'),\n",
        "    tf.keras.layers.MaxPooling2D(2,2),\n",
        "    \n",
        "    tf.keras.layers.Flatten(),\n",
        "    \n",
        "    tf.keras.layers.Dense(512, activation='relu'),\n",
        "    \n",
        "    tf.keras.layers.Dense(1, activation='sigmoid')\n",
        "])"
      ],
      "execution_count": 8,
      "outputs": []
    },
    {
      "cell_type": "code",
      "metadata": {
        "id": "8DHWhFP_uhq3"
      },
      "source": [
        "from tensorflow.keras.optimizers import RMSprop\n",
        "\n",
        "model.compile(loss='binary_crossentropy',\n",
        "              optimizer=RMSprop(lr=1e-4),\n",
        "              metrics=['acc'])"
      ],
      "execution_count": 9,
      "outputs": []
    },
    {
      "cell_type": "code",
      "metadata": {
        "id": "ClebU9NJg99G",
        "outputId": "4e252e90-e651-4aaa-a84a-7cd788fb7b91",
        "colab": {
          "base_uri": "https://localhost:8080/",
          "height": 51
        }
      },
      "source": [
        "from tensorflow.keras.preprocessing.image import ImageDataGenerator\n",
        "\n",
        "train_datagen = ImageDataGenerator(\n",
        "      rescale=1./255,\n",
        "      rotation_range=40,\n",
        "      width_shift_range=0.2,\n",
        "      height_shift_range=0.2,\n",
        "      shear_range=0.2,\n",
        "      zoom_range=0.2,\n",
        "      horizontal_flip=True,\n",
        "      fill_mode='nearest')\n",
        "\n",
        "validation_datagen = ImageDataGenerator(rescale=1/255)\n",
        "\n",
        "\n",
        "train_generator = train_datagen.flow_from_directory(\n",
        "        '/tmp/horse-or-human/',  \n",
        "        target_size=(300, 300),  \n",
        "        batch_size=128,\n",
        "        class_mode='binary')\n",
        "\n",
        "\n",
        "validation_generator = validation_datagen.flow_from_directory(\n",
        "        '/tmp/validation-horse-or-human/',  \n",
        "        target_size=(300, 300), \n",
        "        batch_size=32,\n",
        "        class_mode='binary')"
      ],
      "execution_count": 10,
      "outputs": [
        {
          "output_type": "stream",
          "text": [
            "Found 1027 images belonging to 2 classes.\n",
            "Found 256 images belonging to 2 classes.\n"
          ],
          "name": "stdout"
        }
      ]
    },
    {
      "cell_type": "code",
      "metadata": {
        "id": "Fb1_lgobv81m",
        "outputId": "f9110f13-a717-4221-b3b7-684aec9da9b4",
        "colab": {
          "base_uri": "https://localhost:8080/",
          "height": 3417
        }
      },
      "source": [
        "history = model.fit_generator(\n",
        "      train_generator,\n",
        "      steps_per_epoch=8,  \n",
        "      epochs=100,\n",
        "      verbose=1,\n",
        "      validation_data = validation_generator,\n",
        "      validation_steps=8)"
      ],
      "execution_count": null,
      "outputs": [
        {
          "output_type": "stream",
          "text": [
            "Epoch 1/100\n",
            "8/8 [==============================] - 32s 4s/step - loss: 0.6745 - acc: 0.5740 - val_loss: 0.6673 - val_acc: 0.7734\n",
            "Epoch 2/100\n",
            "8/8 [==============================] - 36s 4s/step - loss: 0.6767 - acc: 0.7141 - val_loss: 0.6733 - val_acc: 0.5195\n",
            "Epoch 3/100\n",
            "8/8 [==============================] - 36s 4s/step - loss: 0.6140 - acc: 0.6774 - val_loss: 0.6517 - val_acc: 0.5820\n",
            "Epoch 4/100\n",
            "8/8 [==============================] - 41s 5s/step - loss: 0.5702 - acc: 0.7080 - val_loss: 0.8061 - val_acc: 0.5000\n",
            "Epoch 5/100\n",
            "8/8 [==============================] - 31s 4s/step - loss: 0.6177 - acc: 0.6796 - val_loss: 0.8895 - val_acc: 0.5000\n",
            "Epoch 6/100\n",
            "8/8 [==============================] - 40s 5s/step - loss: 0.5270 - acc: 0.7383 - val_loss: 0.6647 - val_acc: 0.5781\n",
            "Epoch 7/100\n",
            "8/8 [==============================] - 36s 4s/step - loss: 0.6270 - acc: 0.6641 - val_loss: 0.9897 - val_acc: 0.5000\n",
            "Epoch 8/100\n",
            "8/8 [==============================] - 34s 4s/step - loss: 0.5146 - acc: 0.7397 - val_loss: 0.8582 - val_acc: 0.5195\n",
            "Epoch 9/100\n",
            "8/8 [==============================] - 36s 4s/step - loss: 0.5524 - acc: 0.7375 - val_loss: 0.8839 - val_acc: 0.5234\n",
            "Epoch 10/100\n",
            "8/8 [==============================] - 35s 4s/step - loss: 0.5310 - acc: 0.7575 - val_loss: 0.9447 - val_acc: 0.5195\n",
            "Epoch 11/100\n",
            "8/8 [==============================] - 35s 4s/step - loss: 0.5559 - acc: 0.7464 - val_loss: 0.9189 - val_acc: 0.5195\n",
            "Epoch 12/100\n",
            "8/8 [==============================] - 35s 4s/step - loss: 0.4844 - acc: 0.7697 - val_loss: 1.0005 - val_acc: 0.5312\n",
            "Epoch 13/100\n",
            "8/8 [==============================] - 35s 4s/step - loss: 0.5273 - acc: 0.7675 - val_loss: 1.2102 - val_acc: 0.5195\n",
            "Epoch 14/100\n",
            "8/8 [==============================] - 35s 4s/step - loss: 0.4879 - acc: 0.7898 - val_loss: 1.2250 - val_acc: 0.5195\n",
            "Epoch 15/100\n",
            "8/8 [==============================] - 40s 5s/step - loss: 0.4444 - acc: 0.8164 - val_loss: 1.1449 - val_acc: 0.5312\n",
            "Epoch 16/100\n",
            "8/8 [==============================] - 35s 4s/step - loss: 0.5289 - acc: 0.7508 - val_loss: 1.2383 - val_acc: 0.5195\n",
            "Epoch 17/100\n",
            "8/8 [==============================] - 35s 4s/step - loss: 0.4279 - acc: 0.7786 - val_loss: 1.1913 - val_acc: 0.5273\n",
            "Epoch 18/100\n",
            "8/8 [==============================] - 35s 4s/step - loss: 0.4350 - acc: 0.8098 - val_loss: 1.4619 - val_acc: 0.5078\n",
            "Epoch 19/100\n",
            "8/8 [==============================] - 35s 4s/step - loss: 0.3766 - acc: 0.8265 - val_loss: 1.4201 - val_acc: 0.5312\n",
            "Epoch 20/100\n",
            "8/8 [==============================] - 36s 4s/step - loss: 0.4670 - acc: 0.7675 - val_loss: 1.3671 - val_acc: 0.5352\n",
            "Epoch 21/100\n",
            "8/8 [==============================] - 40s 5s/step - loss: 0.3862 - acc: 0.8223 - val_loss: 1.5722 - val_acc: 0.5195\n",
            "Epoch 22/100\n",
            "8/8 [==============================] - 31s 4s/step - loss: 0.4147 - acc: 0.7739 - val_loss: 1.4466 - val_acc: 0.5430\n",
            "Epoch 23/100\n",
            "8/8 [==============================] - 36s 4s/step - loss: 0.4110 - acc: 0.8176 - val_loss: 2.0012 - val_acc: 0.5078\n",
            "Epoch 24/100\n",
            "8/8 [==============================] - 40s 5s/step - loss: 0.3404 - acc: 0.8564 - val_loss: 1.7137 - val_acc: 0.5352\n",
            "Epoch 25/100\n",
            "8/8 [==============================] - 35s 4s/step - loss: 0.3527 - acc: 0.8576 - val_loss: 1.6605 - val_acc: 0.5469\n",
            "Epoch 26/100\n",
            "8/8 [==============================] - 35s 4s/step - loss: 0.3456 - acc: 0.8343 - val_loss: 1.3148 - val_acc: 0.5703\n",
            "Epoch 27/100\n",
            "8/8 [==============================] - 35s 4s/step - loss: 0.3735 - acc: 0.8465 - val_loss: 1.5808 - val_acc: 0.5469\n",
            "Epoch 28/100\n",
            "8/8 [==============================] - 35s 4s/step - loss: 0.2917 - acc: 0.8532 - val_loss: 1.9444 - val_acc: 0.5195\n",
            "Epoch 29/100\n",
            "8/8 [==============================] - 35s 4s/step - loss: 0.4298 - acc: 0.8432 - val_loss: 1.4620 - val_acc: 0.5625\n",
            "Epoch 30/100\n",
            "8/8 [==============================] - 35s 4s/step - loss: 0.2885 - acc: 0.8643 - val_loss: 2.0795 - val_acc: 0.5195\n",
            "Epoch 31/100\n",
            "8/8 [==============================] - 35s 4s/step - loss: 0.4100 - acc: 0.8320 - val_loss: 2.5562 - val_acc: 0.5078\n",
            "Epoch 32/100\n",
            "8/8 [==============================] - 35s 4s/step - loss: 0.3305 - acc: 0.8754 - val_loss: 3.2307 - val_acc: 0.5000\n",
            "Epoch 33/100\n",
            "8/8 [==============================] - 39s 5s/step - loss: 0.3451 - acc: 0.8496 - val_loss: 2.0764 - val_acc: 0.5156\n",
            "Epoch 34/100\n",
            "8/8 [==============================] - 35s 4s/step - loss: 0.2953 - acc: 0.8765 - val_loss: 2.2732 - val_acc: 0.5117\n",
            "Epoch 35/100\n",
            "8/8 [==============================] - 34s 4s/step - loss: 0.3757 - acc: 0.8598 - val_loss: 2.2634 - val_acc: 0.5117\n",
            "Epoch 36/100\n",
            "8/8 [==============================] - 35s 4s/step - loss: 0.2649 - acc: 0.8665 - val_loss: 2.0424 - val_acc: 0.5352\n",
            "Epoch 37/100\n",
            "8/8 [==============================] - 35s 4s/step - loss: 0.2767 - acc: 0.8687 - val_loss: 2.2805 - val_acc: 0.5117\n",
            "Epoch 38/100\n",
            "8/8 [==============================] - 30s 4s/step - loss: 0.3145 - acc: 0.8465 - val_loss: 2.6290 - val_acc: 0.5078\n",
            "Epoch 39/100\n",
            "8/8 [==============================] - 38s 5s/step - loss: 0.2586 - acc: 0.8848 - val_loss: 3.2814 - val_acc: 0.5000\n",
            "Epoch 40/100\n",
            "8/8 [==============================] - 29s 4s/step - loss: 0.4165 - acc: 0.8049 - val_loss: 2.4788 - val_acc: 0.5078\n",
            "Epoch 41/100\n",
            "8/8 [==============================] - 38s 5s/step - loss: 0.2367 - acc: 0.9160 - val_loss: 2.6254 - val_acc: 0.5078\n",
            "Epoch 42/100\n",
            "8/8 [==============================] - 30s 4s/step - loss: 0.2674 - acc: 0.8837 - val_loss: 1.6300 - val_acc: 0.5977\n",
            "Epoch 43/100\n",
            "8/8 [==============================] - 38s 5s/step - loss: 0.3060 - acc: 0.8672 - val_loss: 2.2404 - val_acc: 0.5312\n",
            "Epoch 44/100\n",
            "8/8 [==============================] - 34s 4s/step - loss: 0.2788 - acc: 0.8854 - val_loss: 2.8374 - val_acc: 0.5078\n",
            "Epoch 45/100\n",
            "8/8 [==============================] - 34s 4s/step - loss: 0.2508 - acc: 0.8954 - val_loss: 2.4864 - val_acc: 0.5195\n",
            "Epoch 46/100\n",
            "8/8 [==============================] - 34s 4s/step - loss: 0.3156 - acc: 0.8799 - val_loss: 4.1207 - val_acc: 0.5000\n",
            "Epoch 47/100\n",
            "8/8 [==============================] - 33s 4s/step - loss: 0.2723 - acc: 0.8865 - val_loss: 3.1216 - val_acc: 0.5117\n",
            "Epoch 48/100\n",
            "8/8 [==============================] - 40s 5s/step - loss: 0.2131 - acc: 0.9199 - val_loss: 2.3614 - val_acc: 0.5625\n",
            "Epoch 49/100\n",
            "8/8 [==============================] - 34s 4s/step - loss: 0.2381 - acc: 0.8699 - val_loss: 2.6400 - val_acc: 0.5195\n",
            "Epoch 50/100\n",
            "8/8 [==============================] - 34s 4s/step - loss: 0.1952 - acc: 0.9121 - val_loss: 3.6531 - val_acc: 0.5078\n",
            "Epoch 51/100\n",
            "8/8 [==============================] - 34s 4s/step - loss: 0.3179 - acc: 0.8821 - val_loss: 3.1317 - val_acc: 0.5156\n",
            "Epoch 52/100\n",
            "8/8 [==============================] - 35s 4s/step - loss: 0.2934 - acc: 0.8877 - val_loss: 3.1612 - val_acc: 0.5117\n",
            "Epoch 53/100\n",
            "8/8 [==============================] - 29s 4s/step - loss: 0.2077 - acc: 0.9134 - val_loss: 1.9105 - val_acc: 0.6445\n",
            "Epoch 54/100\n",
            "8/8 [==============================] - 38s 5s/step - loss: 0.2267 - acc: 0.9062 - val_loss: 3.1890 - val_acc: 0.5156\n",
            "Epoch 55/100\n",
            "8/8 [==============================] - 34s 4s/step - loss: 0.2849 - acc: 0.8977 - val_loss: 2.8577 - val_acc: 0.5156\n",
            "Epoch 56/100\n",
            "8/8 [==============================] - 33s 4s/step - loss: 0.1924 - acc: 0.9177 - val_loss: 3.5242 - val_acc: 0.5156\n",
            "Epoch 57/100\n",
            "8/8 [==============================] - 39s 5s/step - loss: 0.2290 - acc: 0.9014 - val_loss: 3.2892 - val_acc: 0.5117\n",
            "Epoch 58/100\n",
            "8/8 [==============================] - 30s 4s/step - loss: 0.2851 - acc: 0.8798 - val_loss: 5.6231 - val_acc: 0.5000\n",
            "Epoch 59/100\n",
            "8/8 [==============================] - 34s 4s/step - loss: 0.2280 - acc: 0.9066 - val_loss: 3.4384 - val_acc: 0.5234\n",
            "Epoch 60/100\n",
            "8/8 [==============================] - 34s 4s/step - loss: 0.1688 - acc: 0.9255 - val_loss: 3.8707 - val_acc: 0.5117\n",
            "Epoch 61/100\n",
            "8/8 [==============================] - 40s 5s/step - loss: 0.2110 - acc: 0.9150 - val_loss: 2.3180 - val_acc: 0.5977\n",
            "Epoch 62/100\n",
            "8/8 [==============================] - 34s 4s/step - loss: 0.1929 - acc: 0.9110 - val_loss: 3.3356 - val_acc: 0.5234\n",
            "Epoch 63/100\n",
            "8/8 [==============================] - 33s 4s/step - loss: 0.2830 - acc: 0.8954 - val_loss: 3.6368 - val_acc: 0.5156\n",
            "Epoch 64/100\n",
            "8/8 [==============================] - 34s 4s/step - loss: 0.1517 - acc: 0.9422 - val_loss: 4.6208 - val_acc: 0.5117\n",
            "Epoch 65/100\n",
            "8/8 [==============================] - 34s 4s/step - loss: 0.1685 - acc: 0.9199 - val_loss: 3.6071 - val_acc: 0.5312\n",
            "Epoch 66/100\n",
            "8/8 [==============================] - 39s 5s/step - loss: 0.1953 - acc: 0.9160 - val_loss: 3.2266 - val_acc: 0.5352\n",
            "Epoch 67/100\n",
            "8/8 [==============================] - 34s 4s/step - loss: 0.1408 - acc: 0.9399 - val_loss: 4.4980 - val_acc: 0.5156\n",
            "Epoch 68/100\n",
            "8/8 [==============================] - 34s 4s/step - loss: 0.2095 - acc: 0.9077 - val_loss: 3.6422 - val_acc: 0.5234\n",
            "Epoch 69/100\n",
            "8/8 [==============================] - 29s 4s/step - loss: 0.3200 - acc: 0.8902 - val_loss: 4.2418 - val_acc: 0.5195\n",
            "Epoch 70/100\n",
            "8/8 [==============================] - 38s 5s/step - loss: 0.1569 - acc: 0.9395 - val_loss: 4.0331 - val_acc: 0.5234\n",
            "Epoch 71/100\n",
            "8/8 [==============================] - 34s 4s/step - loss: 0.3694 - acc: 0.8921 - val_loss: 3.7823 - val_acc: 0.5312\n",
            "Epoch 72/100\n",
            "8/8 [==============================] - 33s 4s/step - loss: 0.2180 - acc: 0.9166 - val_loss: 3.4553 - val_acc: 0.5312\n",
            "Epoch 73/100\n",
            "8/8 [==============================] - 33s 4s/step - loss: 0.1369 - acc: 0.9433 - val_loss: 3.7999 - val_acc: 0.5312\n",
            "Epoch 74/100\n",
            "8/8 [==============================] - 39s 5s/step - loss: 0.1456 - acc: 0.9414 - val_loss: 5.1245 - val_acc: 0.5000\n",
            "Epoch 75/100\n",
            "8/8 [==============================] - 33s 4s/step - loss: 0.1870 - acc: 0.9177 - val_loss: 3.9904 - val_acc: 0.5273\n",
            "Epoch 76/100\n",
            "8/8 [==============================] - 33s 4s/step - loss: 0.3555 - acc: 0.8977 - val_loss: 3.9922 - val_acc: 0.5156\n",
            "Epoch 77/100\n",
            "8/8 [==============================] - 34s 4s/step - loss: 0.1543 - acc: 0.9333 - val_loss: 4.3198 - val_acc: 0.5156\n",
            "Epoch 78/100\n",
            "8/8 [==============================] - 29s 4s/step - loss: 0.1405 - acc: 0.9419 - val_loss: 3.7046 - val_acc: 0.5312\n",
            "Epoch 79/100\n",
            "8/8 [==============================] - 33s 4s/step - loss: 0.2036 - acc: 0.9522 - val_loss: 1.7309 - val_acc: 0.7070\n",
            "Epoch 80/100\n",
            "8/8 [==============================] - 38s 5s/step - loss: 0.1935 - acc: 0.9229 - val_loss: 4.4832 - val_acc: 0.5234\n",
            "Epoch 81/100\n",
            "8/8 [==============================] - 35s 4s/step - loss: 0.2015 - acc: 0.9210 - val_loss: 3.7936 - val_acc: 0.5312\n",
            "Epoch 82/100\n",
            "8/8 [==============================] - 34s 4s/step - loss: 0.1817 - acc: 0.9210 - val_loss: 3.9576 - val_acc: 0.5312\n",
            "Epoch 83/100\n",
            "8/8 [==============================] - 34s 4s/step - loss: 0.2514 - acc: 0.9132 - val_loss: 3.5171 - val_acc: 0.5703\n",
            "Epoch 84/100\n",
            "8/8 [==============================] - 40s 5s/step - loss: 0.1394 - acc: 0.9453 - val_loss: 4.4892 - val_acc: 0.5195\n",
            "Epoch 85/100\n",
            "8/8 [==============================] - 29s 4s/step - loss: 0.2160 - acc: 0.9173 - val_loss: 3.1654 - val_acc: 0.5469\n",
            "Epoch 86/100\n",
            "8/8 [==============================] - 40s 5s/step - loss: 0.1378 - acc: 0.9492 - val_loss: 3.8428 - val_acc: 0.5352\n",
            "Epoch 87/100\n",
            "8/8 [==============================] - 33s 4s/step - loss: 0.1335 - acc: 0.9499 - val_loss: 4.5758 - val_acc: 0.5234\n",
            "Epoch 88/100\n",
            "8/8 [==============================] - 34s 4s/step - loss: 0.1293 - acc: 0.9410 - val_loss: 4.8085 - val_acc: 0.5234\n",
            "Epoch 89/100\n",
            "8/8 [==============================] - 35s 4s/step - loss: 0.1612 - acc: 0.9333 - val_loss: 3.7595 - val_acc: 0.5352\n",
            "Epoch 90/100\n",
            "8/8 [==============================] - 34s 4s/step - loss: 0.2024 - acc: 0.9266 - val_loss: 4.3437 - val_acc: 0.5234\n",
            "Epoch 91/100\n",
            "8/8 [==============================] - 33s 4s/step - loss: 0.2118 - acc: 0.9199 - val_loss: 4.0701 - val_acc: 0.5312\n",
            "Epoch 92/100\n",
            "8/8 [==============================] - 34s 4s/step - loss: 0.1966 - acc: 0.9232 - val_loss: 5.1493 - val_acc: 0.5117\n",
            "Epoch 93/100\n",
            "8/8 [==============================] - 40s 5s/step - loss: 0.1232 - acc: 0.9502 - val_loss: 3.6931 - val_acc: 0.5625\n",
            "Epoch 94/100\n",
            "8/8 [==============================] - 29s 4s/step - loss: 0.1398 - acc: 0.9406 - val_loss: 4.4028 - val_acc: 0.5312\n",
            "Epoch 95/100\n",
            "8/8 [==============================] - 34s 4s/step - loss: 0.1141 - acc: 0.9511 - val_loss: 4.8011 - val_acc: 0.5156\n",
            "Epoch 96/100\n",
            "8/8 [==============================] - 34s 4s/step - loss: 0.1499 - acc: 0.9344 - val_loss: 5.0668 - val_acc: 0.5117\n",
            "Epoch 97/100\n",
            "8/8 [==============================] - 38s 5s/step - loss: 0.1450 - acc: 0.9404 - val_loss: 4.3429 - val_acc: 0.5234\n",
            "Epoch 98/100\n",
            "8/8 [==============================] - 34s 4s/step - loss: 0.1058 - acc: 0.9633 - val_loss: 5.3818 - val_acc: 0.5117\n",
            "Epoch 99/100\n",
            "8/8 [==============================] - 34s 4s/step - loss: 0.2562 - acc: 0.9255 - val_loss: 2.5579 - val_acc: 0.6133\n",
            "Epoch 100/100\n",
            "8/8 [==============================] - 35s 4s/step - loss: 0.1412 - acc: 0.9477 - val_loss: 3.2613 - val_acc: 0.5742\n"
          ],
          "name": "stdout"
        }
      ]
    },
    {
      "cell_type": "code",
      "metadata": {
        "id": "7zNPRWOVJdOH",
        "outputId": "0247b2d4-e86b-40f0-c4a7-8e8e599e88ec",
        "colab": {
          "base_uri": "https://localhost:8080/",
          "height": 545
        }
      },
      "source": [
        "import matplotlib.pyplot as plt\n",
        "acc = history.history['acc']\n",
        "val_acc = history.history['val_acc']\n",
        "loss = history.history['loss']\n",
        "val_loss = history.history['val_loss']\n",
        "\n",
        "epochs = range(len(acc))\n",
        "\n",
        "plt.plot(epochs, acc, 'r', label='Training accuracy')\n",
        "plt.plot(epochs, val_acc, 'b', label='Validation accuracy')\n",
        "plt.title('Training and validation accuracy')\n",
        "\n",
        "plt.figure()\n",
        "\n",
        "plt.plot(epochs, loss, 'r', label='Training Loss')\n",
        "plt.plot(epochs, val_loss, 'b', label='Validation Loss')\n",
        "plt.title('Training and validation loss')\n",
        "plt.legend()\n",
        "\n",
        "plt.show()"
      ],
      "execution_count": null,
      "outputs": [
        {
          "output_type": "display_data",
          "data": {
            "image/png": "[encoded data removed]",
            "text/plain": [
              "<Figure size 432x288 with 1 Axes>"
            ]
          },
          "metadata": {
            "tags": []
          }
        },
        {
          "output_type": "display_data",
          "data": {
            "image/png": "[encoded data removed]",
            "text/plain": [
              "<Figure size 432x288 with 1 Axes>"
            ]
          },
          "metadata": {
            "tags": []
          }
        }
      ]
    },
    {
      "cell_type": "code",
      "metadata": {
        "id": "1goKlrEwJwD_"
      },
      "source": [
        "import numpy as np\n",
        "from google.colab import files\n",
        "from keras.preprocessing import image\n",
        "\n",
        "uploaded = files.upload()\n",
        "\n",
        "for fn in uploaded.keys():\n",
        " \n",
        "  # predicting images\n",
        "  path = '/content/' + fn\n",
        "  img = image.load_img(path, target_size=(300, 300))\n",
        "  x = image.img_to_array(img)\n",
        "  x = np.expand_dims(x, axis=0)\n",
        "\n",
        "  images = np.vstack([x])\n",
        "  classes = model.predict(images, batch_size=10)\n",
        "  print(classes[0])\n",
        "  if classes[0]>0.5:\n",
        "    print(fn + \" is a human\")\n",
        "  else:\n",
        "    print(fn + \" is a horse\")"
      ],
      "execution_count": null,
      "outputs": []
    }
  ]
}