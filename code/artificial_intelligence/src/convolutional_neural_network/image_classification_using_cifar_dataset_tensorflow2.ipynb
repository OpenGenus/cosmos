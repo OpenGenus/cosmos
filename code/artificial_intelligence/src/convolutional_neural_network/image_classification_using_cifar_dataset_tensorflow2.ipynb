{
  "nbformat": 4,
  "nbformat_minor": 0,
  "metadata": {
    "colab": {
      "name": "image_classification_using_cifar_dataset_tensorflow2.ipynb",
      "provenance": [],
      "collapsed_sections": []
    },
    "kernelspec": {
      "name": "python3",
      "display_name": "Python 3"
    }
  },
  "cells": [
    {
      "cell_type": "markdown",
      "metadata": {
        "id": "TF-rAIkv6UJ8"
      },
      "source": [
        "# **Part of Cosmos by OpenGenus Foundation**  \n"
      ]
    },
    {
      "cell_type": "markdown",
      "metadata": {
        "id": "0rM80GWwm8bt"
      },
      "source": [
        "### Importing Libraries"
      ]
    },
    {
      "cell_type": "code",
      "metadata": {
        "id": "DVpLKJuRl_UP",
        "outputId": "fb3fda90-8153-4b79-fe26-3285f4da7ee9",
        "colab": {
          "base_uri": "https://localhost:8080/",
          "height": 34
        }
      },
      "source": [
        "import tensorflow as tf\n",
        "print(tf.__version__)"
      ],
      "execution_count": null,
      "outputs": [
        {
          "output_type": "stream",
          "text": [
            "2.3.0\n"
          ],
          "name": "stdout"
        }
      ]
    },
    {
      "cell_type": "code",
      "metadata": {
        "id": "cBJh6ib6MEIW"
      },
      "source": [
        "import numpy as np\n",
        "import matplotlib.pyplot as plt\n",
        "from tensorflow.keras.layers import Input, Conv2D, MaxPooling2D, Dense, Flatten, Dropout, GlobalMaxPooling2D, BatchNormalization\n",
        "from tensorflow.keras.models import Model"
      ],
      "execution_count": null,
      "outputs": []
    },
    {
      "cell_type": "markdown",
      "metadata": {
        "id": "Qf27iRf7m3PL"
      },
      "source": [
        "### Loading CIFAR10 Dataset\n"
      ]
    },
    {
      "cell_type": "code",
      "metadata": {
        "id": "GeFRax3Tm0W9",
        "outputId": "edd5ba25-9a60-44ef-e5e9-7b2af56b759e",
        "colab": {
          "base_uri": "https://localhost:8080/",
          "height": 51
        }
      },
      "source": [
        "cifar10 = tf.keras.datasets.cifar10\n",
        "\n",
        "(x_train, y_train), (x_test, y_test) = cifar10.load_data()"
      ],
      "execution_count": null,
      "outputs": [
        {
          "output_type": "stream",
          "text": [
            "Downloading data from https://www.cs.toronto.edu/~kriz/cifar-10-python.tar.gz\n",
            "170500096/170498071 [==============================] - 4s 0us/step\n"
          ],
          "name": "stdout"
        }
      ]
    },
    {
      "cell_type": "code",
      "metadata": {
        "id": "H_EGZv1TL4S_",
        "outputId": "8801b7fe-0e16-4352-f476-97e7edd8ab90",
        "colab": {
          "base_uri": "https://localhost:8080/",
          "height": 51
        }
      },
      "source": [
        "x_train, x_test = x_train / 255.0, x_test / 255.0\n",
        "\n",
        "y_train, y_test = y_train.flatten(), y_test.flatten()\n",
        "\n",
        "print(\"x_train.shape:\", x_train.shape)\n",
        "print(\"y_train.shape\", y_train.shape)"
      ],
      "execution_count": null,
      "outputs": [
        {
          "output_type": "stream",
          "text": [
            "x_train.shape: (50000, 32, 32, 3)\n",
            "y_train.shape (50000,)\n"
          ],
          "name": "stdout"
        }
      ]
    },
    {
      "cell_type": "code",
      "metadata": {
        "id": "1Wr15bYpMwbB",
        "outputId": "e359709e-0511-46df-d867-c651b48a3040",
        "colab": {
          "base_uri": "https://localhost:8080/",
          "height": 34
        }
      },
      "source": [
        "# number of classes\n",
        "num_classes = len(set(y_test))\n",
        "print(\"number of classes:\", num_classes)"
      ],
      "execution_count": null,
      "outputs": [
        {
          "output_type": "stream",
          "text": [
            "number of classes: 10\n"
          ],
          "name": "stdout"
        }
      ]
    },
    {
      "cell_type": "code",
      "metadata": {
        "id": "zHfEZK7Vn1N3",
        "outputId": "ed797343-67bb-4ac4-cba1-0893b568c7a8",
        "colab": {
          "base_uri": "https://localhost:8080/",
          "height": 850
        }
      },
      "source": [
        "x_train[0]"
      ],
      "execution_count": null,
      "outputs": [
        {
          "output_type": "execute_result",
          "data": {
            "text/plain": [
              "array([[[0.23137255, 0.24313725, 0.24705882],\n",
              "        [0.16862745, 0.18039216, 0.17647059],\n",
              "        [0.19607843, 0.18823529, 0.16862745],\n",
              "        ...,\n",
              "        [0.61960784, 0.51764706, 0.42352941],\n",
              "        [0.59607843, 0.49019608, 0.4       ],\n",
              "        [0.58039216, 0.48627451, 0.40392157]],\n",
              "\n",
              "       [[0.0627451 , 0.07843137, 0.07843137],\n",
              "        [0.        , 0.        , 0.        ],\n",
              "        [0.07058824, 0.03137255, 0.        ],\n",
              "        ...,\n",
              "        [0.48235294, 0.34509804, 0.21568627],\n",
              "        [0.46666667, 0.3254902 , 0.19607843],\n",
              "        [0.47843137, 0.34117647, 0.22352941]],\n",
              "\n",
              "       [[0.09803922, 0.09411765, 0.08235294],\n",
              "        [0.0627451 , 0.02745098, 0.        ],\n",
              "        [0.19215686, 0.10588235, 0.03137255],\n",
              "        ...,\n",
              "        [0.4627451 , 0.32941176, 0.19607843],\n",
              "        [0.47058824, 0.32941176, 0.19607843],\n",
              "        [0.42745098, 0.28627451, 0.16470588]],\n",
              "\n",
              "       ...,\n",
              "\n",
              "       [[0.81568627, 0.66666667, 0.37647059],\n",
              "        [0.78823529, 0.6       , 0.13333333],\n",
              "        [0.77647059, 0.63137255, 0.10196078],\n",
              "        ...,\n",
              "        [0.62745098, 0.52156863, 0.2745098 ],\n",
              "        [0.21960784, 0.12156863, 0.02745098],\n",
              "        [0.20784314, 0.13333333, 0.07843137]],\n",
              "\n",
              "       [[0.70588235, 0.54509804, 0.37647059],\n",
              "        [0.67843137, 0.48235294, 0.16470588],\n",
              "        [0.72941176, 0.56470588, 0.11764706],\n",
              "        ...,\n",
              "        [0.72156863, 0.58039216, 0.36862745],\n",
              "        [0.38039216, 0.24313725, 0.13333333],\n",
              "        [0.3254902 , 0.20784314, 0.13333333]],\n",
              "\n",
              "       [[0.69411765, 0.56470588, 0.45490196],\n",
              "        [0.65882353, 0.50588235, 0.36862745],\n",
              "        [0.70196078, 0.55686275, 0.34117647],\n",
              "        ...,\n",
              "        [0.84705882, 0.72156863, 0.54901961],\n",
              "        [0.59215686, 0.4627451 , 0.32941176],\n",
              "        [0.48235294, 0.36078431, 0.28235294]]])"
            ]
          },
          "metadata": {
            "tags": []
          },
          "execution_count": 6
        }
      ]
    },
    {
      "cell_type": "code",
      "metadata": {
        "id": "xogDNiSSn4-e",
        "outputId": "84ab55c8-887f-4c22-8fcf-17c6edc53f12",
        "colab": {
          "base_uri": "https://localhost:8080/",
          "height": 34
        }
      },
      "source": [
        "x_train[0].shape"
      ],
      "execution_count": null,
      "outputs": [
        {
          "output_type": "execute_result",
          "data": {
            "text/plain": [
              "(32, 32, 3)"
            ]
          },
          "metadata": {
            "tags": []
          },
          "execution_count": 7
        }
      ]
    },
    {
      "cell_type": "markdown",
      "metadata": {
        "id": "cDuyTWSSno2Z"
      },
      "source": [
        "## Building the model using the **Functional API**\n"
      ]
    },
    {
      "cell_type": "code",
      "metadata": {
        "id": "Mmo66uQoMA1Q"
      },
      "source": [
        "i = Input(shape=x_train[0].shape)\n",
        "\n",
        "x = Conv2D(filters=32, kernel_size=(3, 3), activation='relu', padding='same')(i)\n",
        "x = BatchNormalization()(x)\n",
        "\n",
        "x = Conv2D(filters=32, kernel_size=(3, 3), activation='relu', padding='same')(x)\n",
        "x = BatchNormalization()(x)\n",
        "\n",
        "x = MaxPooling2D(pool_size=(2, 2))(x)\n",
        "\n",
        "x = Dropout(0.2)(x)\n",
        "\n",
        "x = Conv2D(filters=64, kernel_size=(3, 3), activation='relu', padding='same')(x)\n",
        "x = BatchNormalization()(x)\n",
        "\n",
        "x = Conv2D(filters=64, kernel_size=(3, 3), activation='relu', padding='same')(x)\n",
        "x = BatchNormalization()(x)\n",
        "\n",
        "x = MaxPooling2D(pool_size=(2, 2))(x)\n",
        "\n",
        "x = Dropout(0.2)(x)\n",
        "\n",
        "x = Conv2D(filters=128, kernel_size=(3, 3), activation='relu', padding='same')(x)\n",
        "x = BatchNormalization()(x)\n",
        "\n",
        "x = Conv2D(filters=128, kernel_size=(3, 3), activation='relu', padding='same')(x)\n",
        "x = BatchNormalization()(x)\n",
        "\n",
        "x = MaxPooling2D(pool_size=(2, 2))(x)\n",
        "\n",
        "x = Dropout(0.25)(x)\n",
        "\n",
        "x = GlobalMaxPooling2D()(x)\n",
        "\n",
        "x = Flatten()(x)\n",
        "\n",
        "x = Dropout(rate=0.25)(x)\n",
        "\n",
        "x = Dense(1024, activation='relu')(x)\n",
        "\n",
        "x = Dropout(0.2)(x)\n",
        "\n",
        "x = Dense(units=num_classes, activation='softmax')(x)\n",
        "\n",
        "model = Model(i, x)"
      ],
      "execution_count": null,
      "outputs": []
    },
    {
      "cell_type": "code",
      "metadata": {
        "id": "jYVaUteCsCwZ",
        "outputId": "f9dce64e-98d2-48f6-acfd-cd486ebba789",
        "colab": {
          "base_uri": "https://localhost:8080/",
          "height": 442
        }
      },
      "source": [
        "model.layers"
      ],
      "execution_count": null,
      "outputs": [
        {
          "output_type": "execute_result",
          "data": {
            "text/plain": [
              "[<tensorflow.python.keras.engine.input_layer.InputLayer at 0x7fc010180080>,\n",
              " <tensorflow.python.keras.layers.convolutional.Conv2D at 0x7fc0601466d8>,\n",
              " <tensorflow.python.keras.layers.normalization_v2.BatchNormalization at 0x7fc010180a90>,\n",
              " <tensorflow.python.keras.layers.convolutional.Conv2D at 0x7fc0101807b8>,\n",
              " <tensorflow.python.keras.layers.normalization_v2.BatchNormalization at 0x7fc0101999b0>,\n",
              " <tensorflow.python.keras.layers.pooling.MaxPooling2D at 0x7fc01019f908>,\n",
              " <tensorflow.python.keras.layers.core.Dropout at 0x7fc01019f550>,\n",
              " <tensorflow.python.keras.layers.convolutional.Conv2D at 0x7fc010139e80>,\n",
              " <tensorflow.python.keras.layers.normalization_v2.BatchNormalization at 0x7fc010149be0>,\n",
              " <tensorflow.python.keras.layers.convolutional.Conv2D at 0x7fc010149fd0>,\n",
              " <tensorflow.python.keras.layers.normalization_v2.BatchNormalization at 0x7fc01015ce80>,\n",
              " <tensorflow.python.keras.layers.pooling.MaxPooling2D at 0x7fc01016be80>,\n",
              " <tensorflow.python.keras.layers.core.Dropout at 0x7fc01016bb70>,\n",
              " <tensorflow.python.keras.layers.convolutional.Conv2D at 0x7fc010106d30>,\n",
              " <tensorflow.python.keras.layers.normalization_v2.BatchNormalization at 0x7fc010114f98>,\n",
              " <tensorflow.python.keras.layers.convolutional.Conv2D at 0x7fc01011d5c0>,\n",
              " <tensorflow.python.keras.layers.normalization_v2.BatchNormalization at 0x7fc0100b8518>,\n",
              " <tensorflow.python.keras.layers.pooling.MaxPooling2D at 0x7fc0100bb400>,\n",
              " <tensorflow.python.keras.layers.core.Dropout at 0x7fc0100bb048>,\n",
              " <tensorflow.python.keras.layers.pooling.GlobalMaxPooling2D at 0x7fc0100d7d68>,\n",
              " <tensorflow.python.keras.layers.core.Flatten at 0x7fc0100d7cc0>,\n",
              " <tensorflow.python.keras.layers.core.Dropout at 0x7fc0100e8dd8>,\n",
              " <tensorflow.python.keras.layers.core.Dense at 0x7fc0100e86a0>,\n",
              " <tensorflow.python.keras.layers.core.Dropout at 0x7fc0100e8588>,\n",
              " <tensorflow.python.keras.layers.core.Dense at 0x7fc0100eff98>]"
            ]
          },
          "metadata": {
            "tags": []
          },
          "execution_count": 11
        }
      ]
    },
    {
      "cell_type": "markdown",
      "metadata": {
        "id": "0swCVXUip-QC"
      },
      "source": [
        "## Compile model"
      ]
    },
    {
      "cell_type": "code",
      "metadata": {
        "id": "0zF9n0P7NcP-"
      },
      "source": [
        "# Note: make sure you are using the GPU for this! It takes time\n",
        "model.compile(optimizer='adam',\n",
        "              loss='sparse_categorical_crossentropy',\n",
        "              metrics=['accuracy'])"
      ],
      "execution_count": null,
      "outputs": []
    },
    {
      "cell_type": "code",
      "metadata": {
        "id": "74ri622_sUcP",
        "outputId": "5944064b-a49e-48fc-99b3-19bdacddd88a",
        "colab": {
          "base_uri": "https://localhost:8080/",
          "height": 34
        }
      },
      "source": [
        "len(model.layers)"
      ],
      "execution_count": null,
      "outputs": [
        {
          "output_type": "execute_result",
          "data": {
            "text/plain": [
              "25"
            ]
          },
          "metadata": {
            "tags": []
          },
          "execution_count": 14
        }
      ]
    },
    {
      "cell_type": "markdown",
      "metadata": {
        "id": "c8E-WsKMqHYv"
      },
      "source": [
        "## Training process of the model"
      ]
    },
    {
      "cell_type": "code",
      "metadata": {
        "id": "BBzAGEjOkvFz"
      },
      "source": [
        "# r = model.fit( x_train, y_train, validation_data=(x_test, y_test), epochs=50)"
      ],
      "execution_count": null,
      "outputs": []
    },
    {
      "cell_type": "markdown",
      "metadata": {
        "id": "iwVK-xTCqRCs"
      },
      "source": [
        "## Using **Data augmentation** to improve accuracy\n"
      ]
    },
    {
      "cell_type": "code",
      "metadata": {
        "id": "nCXw0MbIq_lS",
        "outputId": "6a4eeb6f-ce11-48cb-8d23-a735234f9831",
        "colab": {
          "base_uri": "https://localhost:8080/",
          "height": 34
        }
      },
      "source": [
        "x_train.shape"
      ],
      "execution_count": null,
      "outputs": [
        {
          "output_type": "execute_result",
          "data": {
            "text/plain": [
              "(50000, 32, 32, 3)"
            ]
          },
          "metadata": {
            "tags": []
          },
          "execution_count": 17
        }
      ]
    },
    {
      "cell_type": "code",
      "metadata": {
        "id": "JYqpbmbQq2gu",
        "outputId": "cb89e87f-1465-43b1-fed6-4d2b7d3f4a8e",
        "colab": {
          "base_uri": "https://localhost:8080/",
          "height": 34
        }
      },
      "source": [
        "# Note: if you run this AFTER calling the previous model.fit(), it will CONTINUE training where it left off\n",
        "\n",
        "batch_size = 32\n",
        "\n",
        "data_generator = tf.keras.preprocessing.image.ImageDataGenerator(width_shift_range=0.1, height_shift_range=0.1, horizontal_flip=True)\n",
        "\n",
        "train_generator = data_generator.flow(x_train, y_train, batch_size)\n",
        "\n",
        "steps_per_epoch = x_train.shape[0] // batch_size\n",
        "\n",
        "print(steps_per_epoch)"
      ],
      "execution_count": null,
      "outputs": [
        {
          "output_type": "stream",
          "text": [
            "1562\n"
          ],
          "name": "stdout"
        }
      ]
    },
    {
      "cell_type": "code",
      "metadata": {
        "id": "af61hXUrYjsZ",
        "outputId": "57795774-b049-487e-f1d6-b118cc1469b5",
        "colab": {
          "base_uri": "https://localhost:8080/",
          "height": 1000
        }
      },
      "source": [
        "r = model.fit(train_generator, validation_data=(x_te22st, y_test), steps_per_epoch=steps_per_epoch, epochs=50)"
      ],
      "execution_count": null,
      "outputs": [
        {
          "output_type": "stream",
          "text": [
            "Epoch 1/50\n",
            "1562/1562 [==============================] - 27s 17ms/step - loss: 1.6063 - accuracy: 0.4181 - val_loss: 1.2965 - val_accuracy: 0.5320\n",
            "Epoch 2/50\n",
            "1562/1562 [==============================] - 28s 18ms/step - loss: 1.1716 - accuracy: 0.5812 - val_loss: 1.1059 - val_accuracy: 0.6171\n",
            "Epoch 3/50\n",
            "1562/1562 [==============================] - 27s 17ms/step - loss: 1.0092 - accuracy: 0.6448 - val_loss: 1.0838 - val_accuracy: 0.6403\n",
            "Epoch 4/50\n",
            "1562/1562 [==============================] - 26s 16ms/step - loss: 0.9049 - accuracy: 0.6867 - val_loss: 1.0904 - val_accuracy: 0.6373\n",
            "Epoch 5/50\n",
            "1562/1562 [==============================] - 26s 17ms/step - loss: 0.8307 - accuracy: 0.7160 - val_loss: 0.7522 - val_accuracy: 0.7540\n",
            "Epoch 6/50\n",
            "1562/1562 [==============================] - 26s 17ms/step - loss: 0.7823 - accuracy: 0.7330 - val_loss: 0.7103 - val_accuracy: 0.7644\n",
            "Epoch 7/50\n",
            "1562/1562 [==============================] - 26s 17ms/step - loss: 0.7412 - accuracy: 0.7492 - val_loss: 0.7256 - val_accuracy: 0.7610\n",
            "Epoch 8/50\n",
            "1562/1562 [==============================] - 27s 17ms/step - loss: 0.7050 - accuracy: 0.7611 - val_loss: 0.7033 - val_accuracy: 0.7597\n",
            "Epoch 9/50\n",
            "1562/1562 [==============================] - 27s 17ms/step - loss: 0.6737 - accuracy: 0.7720 - val_loss: 0.8646 - val_accuracy: 0.7362\n",
            "Epoch 10/50\n",
            "1562/1562 [==============================] - 26s 17ms/step - loss: 0.6509 - accuracy: 0.7810 - val_loss: 0.5982 - val_accuracy: 0.8091\n",
            "Epoch 11/50\n",
            "1562/1562 [==============================] - 26s 17ms/step - loss: 0.6318 - accuracy: 0.7861 - val_loss: 0.7810 - val_accuracy: 0.7814\n",
            "Epoch 12/50\n",
            "1562/1562 [==============================] - 26s 17ms/step - loss: 0.6156 - accuracy: 0.7934 - val_loss: 0.9481 - val_accuracy: 0.7486\n",
            "Epoch 13/50\n",
            "1562/1562 [==============================] - 26s 17ms/step - loss: 0.5944 - accuracy: 0.7997 - val_loss: 0.7340 - val_accuracy: 0.7979\n",
            "Epoch 14/50\n",
            "1562/1562 [==============================] - 26s 17ms/step - loss: 0.5784 - accuracy: 0.8042 - val_loss: 0.6545 - val_accuracy: 0.8119\n",
            "Epoch 15/50\n",
            "1562/1562 [==============================] - 26s 17ms/step - loss: 0.5691 - accuracy: 0.8069 - val_loss: 0.7610 - val_accuracy: 0.8048\n",
            "Epoch 16/50\n",
            "1562/1562 [==============================] - 26s 17ms/step - loss: 0.5551 - accuracy: 0.8118 - val_loss: 0.9495 - val_accuracy: 0.8063\n",
            "Epoch 17/50\n",
            "1562/1562 [==============================] - 27s 17ms/step - loss: 0.5464 - accuracy: 0.8143 - val_loss: 0.7513 - val_accuracy: 0.8176\n",
            "Epoch 18/50\n",
            "1562/1562 [==============================] - 26s 17ms/step - loss: 0.5389 - accuracy: 0.8165 - val_loss: 1.2219 - val_accuracy: 0.7699\n",
            "Epoch 19/50\n",
            "1562/1562 [==============================] - 26s 17ms/step - loss: 0.5289 - accuracy: 0.8198 - val_loss: 0.7769 - val_accuracy: 0.8388\n",
            "Epoch 20/50\n",
            "1562/1562 [==============================] - 26s 17ms/step - loss: 0.5215 - accuracy: 0.8233 - val_loss: 0.8794 - val_accuracy: 0.8234\n",
            "Epoch 21/50\n",
            "1562/1562 [==============================] - 26s 17ms/step - loss: 0.5088 - accuracy: 0.8263 - val_loss: 1.0714 - val_accuracy: 0.8183\n",
            "Epoch 22/50\n",
            "1562/1562 [==============================] - 26s 17ms/step - loss: 0.5089 - accuracy: 0.8273 - val_loss: 1.0178 - val_accuracy: 0.8242\n",
            "Epoch 23/50\n",
            "1562/1562 [==============================] - 26s 17ms/step - loss: 0.4998 - accuracy: 0.8324 - val_loss: 0.9654 - val_accuracy: 0.8355\n",
            "Epoch 24/50\n",
            "1562/1562 [==============================] - 26s 17ms/step - loss: 0.4978 - accuracy: 0.8328 - val_loss: 0.8591 - val_accuracy: 0.8435\n",
            "Epoch 25/50\n",
            "1562/1562 [==============================] - 26s 17ms/step - loss: 0.4848 - accuracy: 0.8348 - val_loss: 0.9544 - val_accuracy: 0.8325\n",
            "Epoch 26/50\n",
            "1562/1562 [==============================] - 26s 16ms/step - loss: 0.4816 - accuracy: 0.8352 - val_loss: 0.9805 - val_accuracy: 0.8343\n",
            "Epoch 27/50\n",
            "1562/1562 [==============================] - 26s 16ms/step - loss: 0.4806 - accuracy: 0.8362 - val_loss: 1.2746 - val_accuracy: 0.8212\n",
            "Epoch 28/50\n",
            "1562/1562 [==============================] - 26s 16ms/step - loss: 0.4699 - accuracy: 0.8414 - val_loss: 1.0279 - val_accuracy: 0.8411\n",
            "Epoch 29/50\n",
            "1562/1562 [==============================] - 26s 16ms/step - loss: 0.4680 - accuracy: 0.8408 - val_loss: 1.3283 - val_accuracy: 0.8181\n",
            "Epoch 30/50\n",
            "1562/1562 [==============================] - 26s 16ms/step - loss: 0.4659 - accuracy: 0.8426 - val_loss: 1.0188 - val_accuracy: 0.8478\n",
            "Epoch 31/50\n",
            "1562/1562 [==============================] - 26s 16ms/step - loss: 0.4582 - accuracy: 0.8431 - val_loss: 0.9585 - val_accuracy: 0.8384\n",
            "Epoch 32/50\n",
            "1562/1562 [==============================] - 26s 16ms/step - loss: 0.4545 - accuracy: 0.8437 - val_loss: 1.0976 - val_accuracy: 0.8308\n",
            "Epoch 33/50\n",
            "1562/1562 [==============================] - 26s 17ms/step - loss: 0.4496 - accuracy: 0.8463 - val_loss: 1.1428 - val_accuracy: 0.8376\n",
            "Epoch 34/50\n",
            "1562/1562 [==============================] - 25s 16ms/step - loss: 0.4460 - accuracy: 0.8465 - val_loss: 1.0050 - val_accuracy: 0.8475\n",
            "Epoch 35/50\n",
            "1562/1562 [==============================] - 26s 17ms/step - loss: 0.4441 - accuracy: 0.8492 - val_loss: 1.1920 - val_accuracy: 0.8368\n",
            "Epoch 36/50\n",
            "1562/1562 [==============================] - 26s 17ms/step - loss: 0.4382 - accuracy: 0.8514 - val_loss: 1.1281 - val_accuracy: 0.8236\n",
            "Epoch 37/50\n",
            "1562/1562 [==============================] - 26s 17ms/step - loss: 0.4365 - accuracy: 0.8514 - val_loss: 0.9726 - val_accuracy: 0.8501\n",
            "Epoch 38/50\n",
            "1562/1562 [==============================] - 26s 16ms/step - loss: 0.4351 - accuracy: 0.8517 - val_loss: 1.0864 - val_accuracy: 0.8421\n",
            "Epoch 39/50\n",
            "1562/1562 [==============================] - 26s 16ms/step - loss: 0.4245 - accuracy: 0.8539 - val_loss: 1.0361 - val_accuracy: 0.8624\n",
            "Epoch 40/50\n",
            "1562/1562 [==============================] - 26s 16ms/step - loss: 0.4273 - accuracy: 0.8552 - val_loss: 0.9675 - val_accuracy: 0.8536\n",
            "Epoch 41/50\n",
            "1562/1562 [==============================] - 25s 16ms/step - loss: 0.4221 - accuracy: 0.8559 - val_loss: 0.8825 - val_accuracy: 0.8590\n",
            "Epoch 42/50\n",
            "1562/1562 [==============================] - 25s 16ms/step - loss: 0.4187 - accuracy: 0.8564 - val_loss: 0.9170 - val_accuracy: 0.8486\n",
            "Epoch 43/50\n",
            "1562/1562 [==============================] - 26s 16ms/step - loss: 0.4145 - accuracy: 0.8588 - val_loss: 1.1782 - val_accuracy: 0.8474\n",
            "Epoch 44/50\n",
            "1562/1562 [==============================] - 26s 17ms/step - loss: 0.4122 - accuracy: 0.8602 - val_loss: 0.9184 - val_accuracy: 0.8577\n",
            "Epoch 45/50\n",
            "1562/1562 [==============================] - 27s 17ms/step - loss: 0.4120 - accuracy: 0.8606 - val_loss: 0.9575 - val_accuracy: 0.8445\n",
            "Epoch 46/50\n",
            "1562/1562 [==============================] - 26s 17ms/step - loss: 0.4085 - accuracy: 0.8617 - val_loss: 0.8834 - val_accuracy: 0.8527\n",
            "Epoch 47/50\n",
            "1562/1562 [==============================] - 26s 17ms/step - loss: 0.4001 - accuracy: 0.8631 - val_loss: 1.2036 - val_accuracy: 0.8506\n",
            "Epoch 48/50\n",
            "1562/1562 [==============================] - 25s 16ms/step - loss: 0.4004 - accuracy: 0.8639 - val_loss: 1.0088 - val_accuracy: 0.8571\n",
            "Epoch 49/50\n",
            "1562/1562 [==============================] - 26s 17ms/step - loss: 0.4003 - accuracy: 0.8624 - val_loss: 0.7408 - val_accuracy: 0.8775\n",
            "Epoch 50/50\n",
            "1562/1562 [==============================] - 26s 17ms/step - loss: 0.3918 - accuracy: 0.8676 - val_loss: 0.8955 - val_accuracy: 0.8658\n"
          ],
          "name": "stdout"
        }
      ]
    },
    {
      "cell_type": "markdown",
      "metadata": {
        "id": "v7OEt2KSydOd"
      },
      "source": [
        "## Plot Loss per iteration\n"
      ]
    },
    {
      "cell_type": "code",
      "metadata": {
        "id": "ML37hw4iOkBm",
        "outputId": "1f741458-30d4-47f6-b422-e60985af21c5",
        "colab": {
          "base_uri": "https://localhost:8080/",
          "height": 282
        }
      },
      "source": [
        "import matplotlib.pyplot as plt\n",
        "plt.plot(r.history['loss'], label='loss')\n",
        "plt.plot(r.history['val_loss'], label='val_loss')\n",
        "plt.legend()"
      ],
      "execution_count": null,
      "outputs": [
        {
          "output_type": "execute_result",
          "data": {
            "text/plain": [
              "<matplotlib.legend.Legend at 0x7fc008674f60>"
            ]
          },
          "metadata": {
            "tags": []
          },
          "execution_count": 22
        },
        {
          "output_type": "display_data",
          "data": {
            "image/png": "[encoded data removed]",
            "text/plain": [
              "<Figure size 432x288 with 1 Axes>"
            ]
          },
          "metadata": {
            "tags": [],
            "needs_background": "light"
          }
        }
      ]
    },
    {
      "cell_type": "markdown",
      "metadata": {
        "id": "KKsIZw9aylLB"
      },
      "source": [
        "### Plot Accuracy per iteration\n"
      ]
    },
    {
      "cell_type": "code",
      "metadata": {
        "id": "pemstSDIOpIb",
        "outputId": "495d0597-42af-4375-9d8c-bfd5d883eb87",
        "colab": {
          "base_uri": "https://localhost:8080/",
          "height": 286
        }
      },
      "source": [
        "plt.plot(r.history['accuracy'], label='acc')\n",
        "plt.plot(r.history['val_accuracy'], label='val_acc')\n",
        "plt.legend()"
      ],
      "execution_count": null,
      "outputs": [
        {
          "output_type": "execute_result",
          "data": {
            "text/plain": [
              "<matplotlib.legend.Legend at 0x7fc0085d5dd8>"
            ]
          },
          "metadata": {
            "tags": []
          },
          "execution_count": 23
        },
        {
          "output_type": "display_data",
          "data": {
            "image/png": "[encoded data removed]",
            "text/plain": [
              "<Figure size 432x288 with 1 Axes>"
            ]
          },
          "metadata": {
            "tags": [],
            "needs_background": "light"
          }
        }
      ]
    },
    {
      "cell_type": "code",
      "metadata": {
        "id": "2LJTd4OiO6kL",
        "outputId": "e632c56b-45de-46a7-bb71-6c3386ffe0a7",
        "colab": {
          "base_uri": "https://localhost:8080/",
          "height": 532
        }
      },
      "source": [
        "# Plot confusion matrix\n",
        "from sklearn.metrics import confusion_matrix\n",
        "import itertools\n",
        "\n",
        "def plot_confusion_matrix(cm, classes,\n",
        "                          normalize=False,\n",
        "                          title='Confusion matrix',\n",
        "                          cmap=plt.cm.Blues):\n",
        "  \"\"\"\n",
        "  This function prints and plots the confusion matrix.\n",
        "  Normalization can be applied by setting `normalize=True`.\n",
        "  \"\"\"\n",
        "  if normalize:\n",
        "      cm = cm.astype('float') / cm.sum(axis=1)[:, np.newaxis]\n",
        "      print(\"Normalized confusion matrix\")\n",
        "  else:\n",
        "      print('Confusion matrix, without normalization')\n",
        "  \n",
        "  print()\n",
        "  print(cm)\n",
        "  print()\n",
        "\n",
        "  plt.imshow(cm, interpolation='nearest', cmap=cmap)\n",
        "  plt.title(title)\n",
        "  plt.colorbar()\n",
        "  tick_marks = np.arange(len(classes))\n",
        "  plt.xticks(tick_marks, classes, rotation=45)\n",
        "  plt.yticks(tick_marks, classes)\n",
        "\n",
        "  fmt = '.2f' if normalize else 'd'\n",
        "  thresh = cm.max() / 2.\n",
        "  for i, j in itertools.product(range(cm.shape[0]), range(cm.shape[1])):\n",
        "      plt.text(j, i, format(cm[i, j], fmt),\n",
        "               horizontalalignment=\"center\",\n",
        "               color=\"white\" if cm[i, j] > thresh else \"black\")\n",
        "\n",
        "  plt.tight_layout()\n",
        "  plt.ylabel('True label')\n",
        "  plt.xlabel('Predicted label')\n",
        "  plt.show()\n",
        "\n",
        "\n",
        "p_test = model.predict(x_test).argmax(axis=1)\n",
        "cm = confusion_matrix(y_test, p_test)\n",
        "plot_confusion_matrix(cm, list(range(10)))\n",
        "\n"
      ],
      "execution_count": null,
      "outputs": [
        {
          "output_type": "stream",
          "text": [
            "Confusion matrix, without normalization\n",
            "\n",
            "[[897  10  20   3   3   0   5   4  36  22]\n",
            " [  8 941   0   0   1   1   2   0  11  36]\n",
            " [ 50   1 797  20  33  21  54   9  10   5]\n",
            " [ 20   4  41 677  34  73 106  11  21  13]\n",
            " [ 11   1  23  21 854   8  58  16   7   1]\n",
            " [  5   3  29  81  21 782  52  20   5   2]\n",
            " [  7   1  15  12   3   2 954   2   2   2]\n",
            " [ 14   1  14  24  32  13  14 879   1   8]\n",
            " [ 33   8   3   1   0   0   5   0 938  12]\n",
            " [ 11  32   1   0   0   0   2   0  15 939]]\n",
            "\n"
          ],
          "name": "stdout"
        },
        {
          "output_type": "display_data",
          "data": {
            "image/png": "[encoded data removed]",
            "text/plain": [
              "<Figure size 432x288 with 2 Axes>"
            ]
          },
          "metadata": {
            "tags": [],
            "needs_background": "light"
          }
        }
      ]
    },
    {
      "cell_type": "code",
      "metadata": {
        "id": "AgQqQHXNXDgw"
      },
      "source": [
        "# label mapping\n",
        "labels = '''airplane\n",
        "automobile\n",
        "bird\n",
        "cat\n",
        "deer\n",
        "dog\n",
        "frog\n",
        "horse\n",
        "ship\n",
        "truck'''.split()"
      ],
      "execution_count": null,
      "outputs": []
    },
    {
      "cell_type": "markdown",
      "metadata": {
        "id": "spvs9-60w02K"
      },
      "source": [
        "## Let's see some misclassified examples\n"
      ]
    },
    {
      "cell_type": "code",
      "metadata": {
        "id": "jjmW4STFO-Ny",
        "outputId": "60fa1038-8b34-49f5-a11d-0099cb22cc64",
        "colab": {
          "base_uri": "https://localhost:8080/",
          "height": 281
        }
      },
      "source": [
        "misclassified_idx = np.where(p_test != y_test)[0]\n",
        "i = np.random.choice(misclassified_idx)\n",
        "plt.imshow(x_test[i], cmap='gray')\n",
        "plt.title(\"True label: %s Predicted: %s\" % (labels[y_test[i]], labels[p_test[i]]));"
      ],
      "execution_count": null,
      "outputs": [
        {
          "output_type": "display_data",
          "data": {
            "image/png": "[encoded data removed]",
            "text/plain": [
              "<Figure size 432x288 with 1 Axes>"
            ]
          },
          "metadata": {
            "tags": [],
            "needs_background": "light"
          }
        }
      ]
    },
    {
      "cell_type": "code",
      "metadata": {
        "id": "SHy9DG22zdFt",
        "outputId": "9cd732aa-f64a-495e-9ad8-6ccd84cac1db",
        "colab": {
          "base_uri": "https://localhost:8080/",
          "height": 281
        }
      },
      "source": [
        "misclassified_idx = np.where(p_test != y_test)[0]\n",
        "i = np.random.choice(misclassified_idx)\n",
        "plt.imshow(x_test[i], cmap='gray')\n",
        "plt.title(\"True label: %s Predicted: %s\" % (labels[y_test[i]], labels[p_test[i]]));"
      ],
      "execution_count": null,
      "outputs": [
        {
          "output_type": "display_data",
          "data": {
            "image/png": "[encoded data removed]",
            "text/plain": [
              "<Figure size 432x288 with 1 Axes>"
            ]
          },
          "metadata": {
            "tags": [],
            "needs_background": "light"
          }
        }
      ]
    },
    {
      "cell_type": "code",
      "metadata": {
        "id": "OvLJODOgzdK8",
        "outputId": "d7d1c9c1-4313-41a7-d273-4cbc3a988492",
        "colab": {
          "base_uri": "https://localhost:8080/",
          "height": 281
        }
      },
      "source": [
        "misclassified_idx = np.where(p_test != y_test)[0]\n",
        "i = np.random.choice(misclassified_idx)\n",
        "plt.imshow(x_test[i], cmap='gray')\n",
        "plt.title(\"True label: %s Predicted: %s\" % (labels[y_test[i]], labels[p_test[i]]));"
      ],
      "execution_count": null,
      "outputs": [
        {
          "output_type": "display_data",
          "data": {
            "image/png": "[encoded data removed]",
            "text/plain": [
              "<Figure size 432x288 with 1 Axes>"
            ]
          },
          "metadata": {
            "tags": [],
            "needs_background": "light"
          }
        }
      ]
    },
    {
      "cell_type": "markdown",
      "metadata": {
        "id": "wKvbWHuPw-dN"
      },
      "source": [
        "# **Some of correct Classification results**\n"
      ]
    },
    {
      "cell_type": "code",
      "metadata": {
        "id": "AfND6GSQwhzt",
        "outputId": "ce848df5-42be-4b0e-acc5-0b64ab0e5515",
        "colab": {
          "base_uri": "https://localhost:8080/",
          "height": 298
        }
      },
      "source": [
        "true_labels = np.where(p_test == y_test)[0]\n",
        "\n",
        "current_index = np.random.choice(true_labels)\n",
        "plt.imshow(x_test[current_index], cmap='gray')\n",
        "plt.title(\"True label: %s Predicted label: %s \" % (labels[y_test[current_index]], labels[p_test[current_index]]))"
      ],
      "execution_count": null,
      "outputs": [
        {
          "output_type": "execute_result",
          "data": {
            "text/plain": [
              "Text(0.5, 1.0, 'True label: automobile Predicted label: automobile ')"
            ]
          },
          "metadata": {
            "tags": []
          },
          "execution_count": 31
        },
        {
          "output_type": "display_data",
          "data": {
            "image/png": "[encoded data removed]",
            "text/plain": [
              "<Figure size 432x288 with 1 Axes>"
            ]
          },
          "metadata": {
            "tags": [],
            "needs_background": "light"
          }
        }
      ]
    },
    {
      "cell_type": "code",
      "metadata": {
        "id": "5NjFdyycwi2R",
        "outputId": "706e72e0-6bcc-442e-b4ad-7bf5e336e6d6",
        "colab": {
          "base_uri": "https://localhost:8080/",
          "height": 281
        }
      },
      "source": [
        "current_index = np.random.choice(true_labels)\n",
        "plt.imshow(x_test[current_index], cmap='gray')\n",
        "plt.title(\"True label: %s Predicted label: %s \" % (labels[y_test[current_index]], labels[p_test[current_index]]))"
      ],
      "execution_count": null,
      "outputs": [
        {
          "output_type": "display_data",
          "data": {
            "image/png": "[encoded data removed]",
            "text/plain": [
              "<Figure size 432x288 with 1 Axes>"
            ]
          },
          "metadata": {
            "tags": [],
            "needs_background": "light"
          }
        }
      ]
    },
    {
      "cell_type": "code",
      "metadata": {
        "id": "Ug0g4nNLzR37",
        "outputId": "705f0507-3c76-4f46-82dc-437e98441cd9",
        "colab": {
          "base_uri": "https://localhost:8080/",
          "height": 298
        }
      },
      "source": [
        "current_index = np.random.choice(true_labels)\n",
        "plt.imshow(x_test[current_index], cmap='gray')\n",
        "plt.title(\"True label: %s Predicted label: %s \" % (labels[y_test[current_index]], labels[p_test[current_index]]))"
      ],
      "execution_count": null,
      "outputs": [
        {
          "output_type": "execute_result",
          "data": {
            "text/plain": [
              "Text(0.5, 1.0, 'True label: frog Predicted label: frog ')"
            ]
          },
          "metadata": {
            "tags": []
          },
          "execution_count": 32
        },
        {
          "output_type": "display_data",
          "data": {
            "image/png": "[encoded data removed]",
            "text/plain": [
              "<Figure size 432x288 with 1 Axes>"
            ]
          },
          "metadata": {
            "tags": [],
            "needs_background": "light"
          }
        }
      ]
    },
    {
      "cell_type": "code",
      "metadata": {
        "id": "GtvpGg3IzR8B",
        "outputId": "6c0ac234-3322-4841-de92-a369c3aeaf9f",
        "colab": {
          "base_uri": "https://localhost:8080/",
          "height": 298
        }
      },
      "source": [
        "current_index = np.random.choice(true_labels)\n",
        "plt.imshow(x_test[current_index], cmap='gray')\n",
        "plt.title(\"True label: %s Predicted label: %s \" % (labels[y_test[current_index]], labels[p_test[current_index]]))"
      ],
      "execution_count": null,
      "outputs": [
        {
          "output_type": "execute_result",
          "data": {
            "text/plain": [
              "Text(0.5, 1.0, 'True label: bird Predicted label: bird ')"
            ]
          },
          "metadata": {
            "tags": []
          },
          "execution_count": 33
        },
        {
          "output_type": "display_data",
          "data": {
            "image/png": "[encoded data removed]",
            "text/plain": [
              "<Figure size 432x288 with 1 Axes>"
            ]
          },
          "metadata": {
            "tags": [],
            "needs_background": "light"
          }
        }
      ]
    },
    {
      "cell_type": "code",
      "metadata": {
        "id": "aoBX0sp-zSR1",
        "outputId": "9b829029-7fb9-490f-ad27-dfb108229439",
        "colab": {
          "base_uri": "https://localhost:8080/",
          "height": 298
        }
      },
      "source": [
        "current_index = np.random.choice(true_labels)\n",
        "plt.imshow(x_test[current_index], cmap='gray')\n",
        "plt.title(\"True label: %s Predicted label: %s \" % (labels[y_test[current_index]], labels[p_test[current_index]]))"
      ],
      "execution_count": null,
      "outputs": [
        {
          "output_type": "execute_result",
          "data": {
            "text/plain": [
              "Text(0.5, 1.0, 'True label: bird Predicted label: bird ')"
            ]
          },
          "metadata": {
            "tags": []
          },
          "execution_count": 34
        },
        {
          "output_type": "display_data",
          "data": {
            "image/png": "[encoded data removed]",
            "text/plain": [
              "<Figure size 432x288 with 1 Axes>"
            ]
          },
          "metadata": {
            "tags": [],
            "needs_background": "light"
          }
        }
      ]
    },
    {
      "cell_type": "code",
      "metadata": {
        "id": "ikAgyZidzShp",
        "outputId": "640efbd8-5f94-4053-fbef-463101d498d0",
        "colab": {
          "base_uri": "https://localhost:8080/",
          "height": 298
        }
      },
      "source": [
        "current_index = np.random.choice(true_labels)\n",
        "plt.imshow(x_test[current_index], cmap='gray')\n",
        "plt.title(\"True label: %s Predicted label: %s \" % (labels[y_test[current_index]], labels[p_test[current_index]]))"
      ],
      "execution_count": null,
      "outputs": [
        {
          "output_type": "execute_result",
          "data": {
            "text/plain": [
              "Text(0.5, 1.0, 'True label: ship Predicted label: ship ')"
            ]
          },
          "metadata": {
            "tags": []
          },
          "execution_count": 35
        },
        {
          "output_type": "display_data",
          "data": {
            "image/png": "[encoded data removed]",
            "text/plain": [
              "<Figure size 432x288 with 1 Axes>"
            ]
          },
          "metadata": {
            "tags": [],
            "needs_background": "light"
          }
        }
      ]
    },
    {
      "cell_type": "code",
      "metadata": {
        "id": "l2ZQ8A86zR2P",
        "outputId": "4b2b3fa6-cca2-4eca-8e18-79a163f8b414",
        "colab": {
          "base_uri": "https://localhost:8080/",
          "height": 298
        }
      },
      "source": [
        "current_index = np.random.choice(true_labels)\n",
        "plt.imshow(x_test[current_index], cmap='gray')\n",
        "plt.title(\"True label: %s Predicted label: %s \" % (labels[y_test[current_index]], labels[p_test[current_index]]))"
      ],
      "execution_count": null,
      "outputs": [
        {
          "output_type": "execute_result",
          "data": {
            "text/plain": [
              "Text(0.5, 1.0, 'True label: horse Predicted label: horse ')"
            ]
          },
          "metadata": {
            "tags": []
          },
          "execution_count": 36
        },
        {
          "output_type": "display_data",
          "data": {
            "image/png": "[encoded data removed]",
            "text/plain": [
              "<Figure size 432x288 with 1 Axes>"
            ]
          },
          "metadata": {
            "tags": [],
            "needs_background": "light"
          }
        }
      ]
    },
    {
      "cell_type": "code",
      "metadata": {
        "id": "lUpHtWVFzR1G",
        "outputId": "40732fb8-951d-47cc-edb3-523092108224",
        "colab": {
          "base_uri": "https://localhost:8080/",
          "height": 298
        }
      },
      "source": [
        "current_index = np.random.choice(true_labels)\n",
        "plt.imshow(x_test[current_index], cmap='gray')\n",
        "plt.title(\"True label: %s Predicted label: %s \" % (labels[y_test[current_index]], labels[p_test[current_index]]))"
      ],
      "execution_count": null,
      "outputs": [
        {
          "output_type": "execute_result",
          "data": {
            "text/plain": [
              "Text(0.5, 1.0, 'True label: deer Predicted label: deer ')"
            ]
          },
          "metadata": {
            "tags": []
          },
          "execution_count": 37
        },
        {
          "output_type": "display_data",
          "data": {
            "image/png": "[encoded data removed]",
            "text/plain": [
              "<Figure size 432x288 with 1 Axes>"
            ]
          },
          "metadata": {
            "tags": [],
            "needs_background": "light"
          }
        }
      ]
    },
    {
      "cell_type": "code",
      "metadata": {
        "id": "jXh7GcwrzRzY",
        "outputId": "b0c49c63-c725-4626-f68e-3f394f78558e",
        "colab": {
          "base_uri": "https://localhost:8080/",
          "height": 298
        }
      },
      "source": [
        "current_index = np.random.choice(true_labels)\n",
        "plt.imshow(x_test[current_index], cmap='gray')\n",
        "plt.title(\"True label: %s Predicted label: %s \" % (labels[y_test[current_index]], labels[p_test[current_index]]))"
      ],
      "execution_count": null,
      "outputs": [
        {
          "output_type": "execute_result",
          "data": {
            "text/plain": [
              "Text(0.5, 1.0, 'True label: ship Predicted label: ship ')"
            ]
          },
          "metadata": {
            "tags": []
          },
          "execution_count": 38
        },
        {
          "output_type": "display_data",
          "data": {
            "image/png": "[encoded data removed]",
            "text/plain": [
              "<Figure size 432x288 with 1 Axes>"
            ]
          },
          "metadata": {
            "tags": [],
            "needs_background": "light"
          }
        }
      ]
    },
    {
      "cell_type": "code",
      "metadata": {
        "id": "ZyngTNB1zRuK",
        "outputId": "d4ee4c7a-3d36-496d-bcfd-0299b3be84d5",
        "colab": {
          "base_uri": "https://localhost:8080/",
          "height": 298
        }
      },
      "source": [
        "current_index = np.random.choice(true_labels)\n",
        "plt.imshow(x_test[current_index], cmap='gray')\n",
        "plt.title(\"True label: %s Predicted label: %s \" % (labels[y_test[current_index]], labels[p_test[current_index]]))"
      ],
      "execution_count": null,
      "outputs": [
        {
          "output_type": "execute_result",
          "data": {
            "text/plain": [
              "Text(0.5, 1.0, 'True label: deer Predicted label: deer ')"
            ]
          },
          "metadata": {
            "tags": []
          },
          "execution_count": 39
        },
        {
          "output_type": "display_data",
          "data": {
            "image/png": "[encoded data removed]",
            "text/plain": [
              "<Figure size 432x288 with 1 Axes>"
            ]
          },
          "metadata": {
            "tags": [],
            "needs_background": "light"
          }
        }
      ]
    },
    {
      "cell_type": "markdown",
      "metadata": {
        "id": "vkuv7CkUyJ4S"
      },
      "source": [
        "### Model summary"
      ]
    },
    {
      "cell_type": "code",
      "metadata": {
        "id": "qNw6PmshWjoZ",
        "outputId": "118b8b64-f1b8-48d3-98f7-742497cbf084",
        "colab": {
          "base_uri": "https://localhost:8080/",
          "height": 1000
        }
      },
      "source": [
        "# Now that the model is so large, it's useful to summarize it\n",
        "model.summary()"
      ],
      "execution_count": null,
      "outputs": [
        {
          "output_type": "stream",
          "text": [
            "Model: \"functional_1\"\n",
            "_________________________________________________________________\n",
            "Layer (type)                 Output Shape              Param #   \n",
            "=================================================================\n",
            "input_2 (InputLayer)         [(None, 32, 32, 3)]       0         \n",
            "_________________________________________________________________\n",
            "conv2d_6 (Conv2D)            (None, 32, 32, 32)        896       \n",
            "_________________________________________________________________\n",
            "batch_normalization_6 (Batch (None, 32, 32, 32)        128       \n",
            "_________________________________________________________________\n",
            "conv2d_7 (Conv2D)            (None, 32, 32, 32)        9248      \n",
            "_________________________________________________________________\n",
            "batch_normalization_7 (Batch (None, 32, 32, 32)        128       \n",
            "_________________________________________________________________\n",
            "max_pooling2d_3 (MaxPooling2 (None, 16, 16, 32)        0         \n",
            "_________________________________________________________________\n",
            "dropout_5 (Dropout)          (None, 16, 16, 32)        0         \n",
            "_________________________________________________________________\n",
            "conv2d_8 (Conv2D)            (None, 16, 16, 64)        18496     \n",
            "_________________________________________________________________\n",
            "batch_normalization_8 (Batch (None, 16, 16, 64)        256       \n",
            "_________________________________________________________________\n",
            "conv2d_9 (Conv2D)            (None, 16, 16, 64)        36928     \n",
            "_________________________________________________________________\n",
            "batch_normalization_9 (Batch (None, 16, 16, 64)        256       \n",
            "_________________________________________________________________\n",
            "max_pooling2d_4 (MaxPooling2 (None, 8, 8, 64)          0         \n",
            "_________________________________________________________________\n",
            "dropout_6 (Dropout)          (None, 8, 8, 64)          0         \n",
            "_________________________________________________________________\n",
            "conv2d_10 (Conv2D)           (None, 8, 8, 128)         73856     \n",
            "_________________________________________________________________\n",
            "batch_normalization_10 (Batc (None, 8, 8, 128)         512       \n",
            "_________________________________________________________________\n",
            "conv2d_11 (Conv2D)           (None, 8, 8, 128)         147584    \n",
            "_________________________________________________________________\n",
            "batch_normalization_11 (Batc (None, 8, 8, 128)         512       \n",
            "_________________________________________________________________\n",
            "max_pooling2d_5 (MaxPooling2 (None, 4, 4, 128)         0         \n",
            "_________________________________________________________________\n",
            "dropout_7 (Dropout)          (None, 4, 4, 128)         0         \n",
            "_________________________________________________________________\n",
            "global_max_pooling2d_1 (Glob (None, 128)               0         \n",
            "_________________________________________________________________\n",
            "flatten_1 (Flatten)          (None, 128)               0         \n",
            "_________________________________________________________________\n",
            "dropout_8 (Dropout)          (None, 128)               0         \n",
            "_________________________________________________________________\n",
            "dense_1 (Dense)              (None, 1024)              132096    \n",
            "_________________________________________________________________\n",
            "dropout_9 (Dropout)          (None, 1024)              0         \n",
            "_________________________________________________________________\n",
            "dense_2 (Dense)              (None, 10)                10250     \n",
            "=================================================================\n",
            "Total params: 431,146\n",
            "Trainable params: 430,250\n",
            "Non-trainable params: 896\n",
            "_________________________________________________________________\n"
          ],
          "name": "stdout"
        }
      ]
    },
    {
      "cell_type": "code",
      "metadata": {
        "id": "4z10nBo340x7"
      },
      "source": [
        ""
      ],
      "execution_count": null,
      "outputs": []
    }
  ]
}